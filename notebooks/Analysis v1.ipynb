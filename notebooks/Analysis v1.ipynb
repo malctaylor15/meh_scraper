{
 "cells": [
  {
   "cell_type": "code",
   "execution_count": 2,
   "metadata": {},
   "outputs": [],
   "source": [
    "import sqlite3\n",
    "import pandas as pd \n",
    "import numpy as np \n",
    "import datetime"
   ]
  },
  {
   "cell_type": "code",
   "execution_count": 5,
   "metadata": {},
   "outputs": [
    {
     "name": "stdout",
     "output_type": "stream",
     "text": [
      "/Users/malcolmtaylor/Github_Projects/meh_scraper/notebooks\r\n"
     ]
    }
   ],
   "source": [
    "!pwd"
   ]
  },
  {
   "cell_type": "code",
   "execution_count": 6,
   "metadata": {},
   "outputs": [],
   "source": [
    "db_location = '../meh_backup_08-02-20.db'"
   ]
  },
  {
   "cell_type": "code",
   "execution_count": 10,
   "metadata": {},
   "outputs": [],
   "source": [
    "con = sqlite3.connect(db_location)\n",
    "cursor = con.cursor()"
   ]
  },
  {
   "cell_type": "code",
   "execution_count": 20,
   "metadata": {},
   "outputs": [],
   "source": [
    "sql_query = \"\"\"\n",
    "SELECT name FROM sqlite_master WHERE type = \"table\"\n",
    "\n",
    "\"\"\""
   ]
  },
  {
   "cell_type": "code",
   "execution_count": 22,
   "metadata": {},
   "outputs": [
    {
     "data": {
      "text/plain": [
       "['raw_response_backup',\n",
       " 'raw_site_community_stats',\n",
       " 'selling_details',\n",
       " 'products']"
      ]
     },
     "execution_count": 22,
     "metadata": {},
     "output_type": "execute_result"
    }
   ],
   "source": [
    "tables = cursor.execute(sql_query).fetchall()\n",
    "tables = [x[0] for x in tables]\n",
    "tables"
   ]
  },
  {
   "cell_type": "markdown",
   "metadata": {},
   "source": [
    "## Product Details"
   ]
  },
  {
   "cell_type": "code",
   "execution_count": 56,
   "metadata": {},
   "outputs": [
    {
     "data": {
      "text/plain": [
       "Index(['date', 'deal_features', 'deal_id',\n",
       "       'deal_purchaseQuantity_maximumLimit',\n",
       "       'deal_purchaseQuantity_minimumLimit', 'deal_specifications',\n",
       "       'deal_story_body', 'deal_story_title', 'deal_theme_accentColor',\n",
       "       'deal_theme_backgroundColor', 'deal_theme_backgroundImage',\n",
       "       'deal_theme_foreground', 'deal_title', 'deal_topic_commentCount',\n",
       "       'deal_topic_createdAt', 'deal_topic_id', 'deal_topic_replyCount',\n",
       "       'deal_topic_url', 'deal_topic_voteCount', 'deal_url', 'poll_id',\n",
       "       'poll_startDate', 'poll_title', 'poll_topic_commentCount',\n",
       "       'poll_topic_createdAt', 'poll_topic_id', 'poll_topic_replyCount',\n",
       "       'poll_topic_url', 'poll_topic_voteCount', 'time', 'video_id',\n",
       "       'video_startDate', 'video_title', 'video_topic_commentCount',\n",
       "       'video_topic_createdAt', 'video_topic_id', 'video_topic_replyCount',\n",
       "       'video_topic_url', 'video_topic_voteCount', 'video_url',\n",
       "       'deal_soldOutAt', 'deal_endDate'],\n",
       "      dtype='object')"
      ]
     },
     "execution_count": 56,
     "metadata": {},
     "output_type": "execute_result"
    }
   ],
   "source": [
    "items = pd.read_sql_query(\"select * from products\", con)\n",
    "items.columns"
   ]
  },
  {
   "cell_type": "code",
   "execution_count": 57,
   "metadata": {},
   "outputs": [
    {
     "data": {
      "text/plain": [
       "(150, 42)"
      ]
     },
     "execution_count": 57,
     "metadata": {},
     "output_type": "execute_result"
    }
   ],
   "source": [
    "items.shape"
   ]
  },
  {
   "cell_type": "code",
   "execution_count": null,
   "metadata": {},
   "outputs": [],
   "source": []
  },
  {
   "cell_type": "code",
   "execution_count": 78,
   "metadata": {},
   "outputs": [
    {
     "data": {
      "text/plain": [
       "['2020-03-27', '2020-04-06', '2020-05-16', '2020-07-09', '2020-07-17']"
      ]
     },
     "execution_count": 78,
     "metadata": {},
     "output_type": "execute_result"
    }
   ],
   "source": [
    "dates = pd.date_range(datetime.date(2020, 2, 15), datetime.date(2020, 8, 2), freq='d')\n",
    "dates = set(dates.astype('str'))\n",
    "list(dates)[:5]"
   ]
  },
  {
   "cell_type": "code",
   "execution_count": null,
   "metadata": {},
   "outputs": [],
   "source": []
  },
  {
   "cell_type": "markdown",
   "metadata": {},
   "source": [
    "## Intra day details"
   ]
  },
  {
   "cell_type": "code",
   "execution_count": 46,
   "metadata": {},
   "outputs": [
    {
     "data": {
      "text/plain": [
       "Index(['date', 'time', 'Page Views 1 Name', 'Page Views 1 Percent',\n",
       "       'Page Views 2 Name', 'Page Views 2 Percent', '# Visited', 'Clicked Meh',\n",
       "       'Typed Meh Percent', 'Referrals Percent', 'Referrer 1 Percent',\n",
       "       'Referrer 1 Name', 'Referrer 2 Percent', 'Referrer 2 Name',\n",
       "       'Referrer 3 Percent', 'Referrer 3 Name', 'Referrer 4 Percent',\n",
       "       'Referrer 4 Name', 'Referrer 5 Percent', 'Referrer 5 Name',\n",
       "       'Items Sold', 'Dollars Sold'],\n",
       "      dtype='object')"
      ]
     },
     "execution_count": 46,
     "metadata": {},
     "output_type": "execute_result"
    }
   ],
   "source": [
    "community_stats = pd.read_sql_query(\"select * from selling_details\", con)\n",
    "community_stats.columns"
   ]
  },
  {
   "cell_type": "code",
   "execution_count": 47,
   "metadata": {},
   "outputs": [
    {
     "data": {
      "text/plain": [
       "(3199, 22)"
      ]
     },
     "execution_count": 47,
     "metadata": {},
     "output_type": "execute_result"
    }
   ],
   "source": [
    "community_stats.shape"
   ]
  },
  {
   "cell_type": "code",
   "execution_count": 48,
   "metadata": {},
   "outputs": [
    {
     "data": {
      "text/plain": [
       "161"
      ]
     },
     "execution_count": 48,
     "metadata": {},
     "output_type": "execute_result"
    }
   ],
   "source": [
    "community_stats['date'].nunique()"
   ]
  },
  {
   "cell_type": "code",
   "execution_count": 73,
   "metadata": {},
   "outputs": [
    {
     "name": "stdout",
     "output_type": "stream",
     "text": [
      "Min Date 2020-02-15\n",
      "Max Date 2020-08-02\n"
     ]
    }
   ],
   "source": [
    "community_dates = set(community_stats['date'].tolist())\n",
    "print(\"Min Date\", community_stats['date'].min())\n",
    "print(\"Max Date\", community_stats['date'].max())"
   ]
  },
  {
   "cell_type": "code",
   "execution_count": 74,
   "metadata": {},
   "outputs": [
    {
     "data": {
      "text/plain": [
       "datetime.timedelta(days=169)"
      ]
     },
     "execution_count": 74,
     "metadata": {},
     "output_type": "execute_result"
    }
   ],
   "source": [
    "datetime.date(2020, 8, 2) - datetime.date(2020, 2, 15)"
   ]
  },
  {
   "cell_type": "code",
   "execution_count": null,
   "metadata": {},
   "outputs": [],
   "source": []
  },
  {
   "cell_type": "code",
   "execution_count": 76,
   "metadata": {},
   "outputs": [
    {
     "data": {
      "text/plain": [
       "{'2020-03-01',\n",
       " '2020-03-02',\n",
       " '2020-06-24',\n",
       " '2020-06-25',\n",
       " '2020-06-26',\n",
       " '2020-07-09',\n",
       " '2020-07-29',\n",
       " '2020-07-30',\n",
       " '2020-07-31'}"
      ]
     },
     "execution_count": 76,
     "metadata": {},
     "output_type": "execute_result"
    }
   ],
   "source": [
    "dates.difference(community_dates)"
   ]
  },
  {
   "cell_type": "code",
   "execution_count": null,
   "metadata": {},
   "outputs": [],
   "source": []
  },
  {
   "cell_type": "code",
   "execution_count": 51,
   "metadata": {},
   "outputs": [
    {
     "data": {
      "text/plain": [
       "297"
      ]
     },
     "execution_count": 51,
     "metadata": {},
     "output_type": "execute_result"
    }
   ],
   "source": [
    "community_stats['time'].nunique()"
   ]
  },
  {
   "cell_type": "code",
   "execution_count": 52,
   "metadata": {},
   "outputs": [
    {
     "data": {
      "text/plain": [
       "0    12:53:09\n",
       "1    15:53:10\n",
       "2    18:53:12\n",
       "3    21:53:10\n",
       "4    00:53:09\n",
       "Name: time, dtype: object"
      ]
     },
     "execution_count": 52,
     "metadata": {},
     "output_type": "execute_result"
    }
   ],
   "source": [
    "community_stats['time'].head()"
   ]
  },
  {
   "cell_type": "code",
   "execution_count": 53,
   "metadata": {},
   "outputs": [
    {
     "data": {
      "text/html": [
       "<div>\n",
       "<style scoped>\n",
       "    .dataframe tbody tr th:only-of-type {\n",
       "        vertical-align: middle;\n",
       "    }\n",
       "\n",
       "    .dataframe tbody tr th {\n",
       "        vertical-align: top;\n",
       "    }\n",
       "\n",
       "    .dataframe thead th {\n",
       "        text-align: right;\n",
       "    }\n",
       "</style>\n",
       "<table border=\"1\" class=\"dataframe\">\n",
       "  <thead>\n",
       "    <tr style=\"text-align: right;\">\n",
       "      <th></th>\n",
       "      <th>time_fix</th>\n",
       "      <th>hours</th>\n",
       "      <th>minutes</th>\n",
       "    </tr>\n",
       "  </thead>\n",
       "  <tbody>\n",
       "    <tr>\n",
       "      <th>0</th>\n",
       "      <td>12:53</td>\n",
       "      <td>12</td>\n",
       "      <td>53</td>\n",
       "    </tr>\n",
       "    <tr>\n",
       "      <th>1</th>\n",
       "      <td>15:53</td>\n",
       "      <td>15</td>\n",
       "      <td>53</td>\n",
       "    </tr>\n",
       "    <tr>\n",
       "      <th>2</th>\n",
       "      <td>18:53</td>\n",
       "      <td>18</td>\n",
       "      <td>53</td>\n",
       "    </tr>\n",
       "    <tr>\n",
       "      <th>3</th>\n",
       "      <td>21:53</td>\n",
       "      <td>21</td>\n",
       "      <td>53</td>\n",
       "    </tr>\n",
       "    <tr>\n",
       "      <th>4</th>\n",
       "      <td>00:53</td>\n",
       "      <td>00</td>\n",
       "      <td>53</td>\n",
       "    </tr>\n",
       "  </tbody>\n",
       "</table>\n",
       "</div>"
      ],
      "text/plain": [
       "  time_fix hours minutes\n",
       "0    12:53    12      53\n",
       "1    15:53    15      53\n",
       "2    18:53    18      53\n",
       "3    21:53    21      53\n",
       "4    00:53    00      53"
      ]
     },
     "execution_count": 53,
     "metadata": {},
     "output_type": "execute_result"
    }
   ],
   "source": [
    "community_stats['time_fix'] = community_stats['time'].str[:5]\n",
    "community_stats['hours'] = community_stats['time'].str[:2]\n",
    "community_stats['minutes'] = community_stats['time'].str[3:5]\n",
    "\n",
    "community_stats[['time_fix', 'hours', 'minutes']].head()"
   ]
  },
  {
   "cell_type": "code",
   "execution_count": 54,
   "metadata": {},
   "outputs": [
    {
     "data": {
      "text/plain": [
       "03    218\n",
       "15    217\n",
       "06    216\n",
       "21    216\n",
       "09    215\n",
       "00    215\n",
       "12    213\n",
       "18    211\n",
       "07     96\n",
       "05     96\n",
       "02     95\n",
       "04     94\n",
       "14     93\n",
       "16     92\n",
       "17     92\n",
       "20     92\n",
       "13     92\n",
       "11     92\n",
       "08     92\n",
       "01     91\n",
       "23     91\n",
       "10     91\n",
       "22     90\n",
       "19     89\n",
       "Name: hours, dtype: int64"
      ]
     },
     "execution_count": 54,
     "metadata": {},
     "output_type": "execute_result"
    }
   ],
   "source": [
    "community_stats['hours'].value_counts()"
   ]
  },
  {
   "cell_type": "code",
   "execution_count": 55,
   "metadata": {},
   "outputs": [
    {
     "data": {
      "text/plain": [
       "53    977\n",
       "15    745\n",
       "45    739\n",
       "30    735\n",
       "31      2\n",
       "16      1\n",
       "Name: minutes, dtype: int64"
      ]
     },
     "execution_count": 55,
     "metadata": {},
     "output_type": "execute_result"
    }
   ],
   "source": [
    "community_stats['minutes'].value_counts()"
   ]
  },
  {
   "cell_type": "code",
   "execution_count": null,
   "metadata": {},
   "outputs": [],
   "source": []
  }
 ],
 "metadata": {
  "kernelspec": {
   "display_name": "Python 3",
   "language": "python",
   "name": "python3"
  },
  "language_info": {
   "codemirror_mode": {
    "name": "ipython",
    "version": 3
   },
   "file_extension": ".py",
   "mimetype": "text/x-python",
   "name": "python",
   "nbconvert_exporter": "python",
   "pygments_lexer": "ipython3",
   "version": "3.8.5"
  },
  "toc": {
   "base_numbering": 1,
   "nav_menu": {},
   "number_sections": true,
   "sideBar": true,
   "skip_h1_title": false,
   "title_cell": "Table of Contents",
   "title_sidebar": "Contents",
   "toc_cell": false,
   "toc_position": {},
   "toc_section_display": true,
   "toc_window_display": false
  }
 },
 "nbformat": 4,
 "nbformat_minor": 4
}
