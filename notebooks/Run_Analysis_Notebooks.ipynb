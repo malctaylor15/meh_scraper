{
 "cells": [
  {
   "cell_type": "code",
   "execution_count": 1,
   "metadata": {},
   "outputs": [],
   "source": [
    "import smtplib\n",
    "import ssl\n",
    "from email.mime.text import MIMEText\n",
    "from email.mime.multipart import MIMEMultipart\n",
    "import base64\n",
    "import papermill as pm\n",
    "import os \n",
    "import sys\n",
    "import re \n",
    "import datetime\n",
    "import pickle\n",
    "import nbconvert"
   ]
  },
  {
   "cell_type": "code",
   "execution_count": 2,
   "metadata": {},
   "outputs": [],
   "source": [
    "import nbformat\n",
    "from traitlets.config import Config\n",
    "from nbconvert import HTMLExporter\n",
    "from nbconvert.writers import FilesWriter"
   ]
  },
  {
   "cell_type": "markdown",
   "metadata": {},
   "source": [
    "## Run Notebooks"
   ]
  },
  {
   "cell_type": "code",
   "execution_count": 3,
   "metadata": {},
   "outputs": [],
   "source": [
    "today_str = str(datetime.datetime.now().date())"
   ]
  },
  {
   "cell_type": "code",
   "execution_count": 4,
   "metadata": {},
   "outputs": [
    {
     "name": "stdout",
     "output_type": "stream",
     "text": [
      "Changed dir\n",
      "/home/malcolm/meh_scraper\n"
     ]
    }
   ],
   "source": [
    "current_path_split = os.getcwd().split('/')\n",
    "if current_path_split[-1] == 'notebooks':\n",
    "    os.chdir('..')\n",
    "    print('Changed dir')\n",
    "    print(os.getcwd())\n",
    "elif current_path_split[-1] == 'run_notebooks':\n",
    "    os.chdir('../..')\n",
    "    print('Changed dir')\n",
    "    print(os.getcwd())\n"
   ]
  },
  {
   "cell_type": "code",
   "execution_count": 5,
   "metadata": {},
   "outputs": [],
   "source": [
    "db_location = 'data/meh_scraper.db'"
   ]
  },
  {
   "cell_type": "code",
   "execution_count": 6,
   "metadata": {},
   "outputs": [
    {
     "name": "stdout",
     "output_type": "stream",
     "text": [
      "/home/malcolm/meh_scraper\r\n"
     ]
    }
   ],
   "source": [
    "!pwd"
   ]
  },
  {
   "cell_type": "code",
   "execution_count": 7,
   "metadata": {},
   "outputs": [],
   "source": [
    "tm_notebook = \"notebooks/Meh_Analysis_v1.ipynb\"\n",
    "tm_new_notebook = f\"notebooks/run_notebooks/Meh_Analysis_v1_{today_str}.ipynb\""
   ]
  },
  {
   "cell_type": "code",
   "execution_count": 8,
   "metadata": {
    "scrolled": true
   },
   "outputs": [
    {
     "data": {
      "application/vnd.jupyter.widget-view+json": {
       "model_id": "7eb89bc20764487c985d182f8444c7d8",
       "version_major": 2,
       "version_minor": 0
      },
      "text/plain": [
       "HBox(children=(HTML(value='Executing'), FloatProgress(value=0.0, max=52.0), HTML(value='')))"
      ]
     },
     "metadata": {},
     "output_type": "display_data"
    },
    {
     "name": "stdout",
     "output_type": "stream",
     "text": [
      "\n"
     ]
    }
   ],
   "source": [
    "try:\n",
    "    pm.execute_notebook(tm_notebook\n",
    "              , tm_new_notebook\n",
    "              , {\"db_location\": db_location})\n",
    "    tm_error = None\n",
    "except Exception as e:\n",
    "    tm_error = str(e)\n",
    "    print(\"Error\")\n",
    "    print(tm_error)"
   ]
  },
  {
   "cell_type": "markdown",
   "metadata": {},
   "source": [
    "## Email"
   ]
  },
  {
   "cell_type": "code",
   "execution_count": 9,
   "metadata": {},
   "outputs": [],
   "source": [
    "def wrap_as_html(new_notebook_name):\n",
    "    \n",
    "    with open(new_notebook_name, 'r') as hnd:\n",
    "        notebook_txt = hnd.read()\n",
    "    nb_notebook = nbformat.reads(notebook_txt, as_version=4)\n",
    "    html_exporter = HTMLExporter()\n",
    "    html_exporter.template_file = 'basic'\n",
    "    (body, resources) = html_exporter.from_notebook_node(nb_notebook)\n",
    "\n",
    "    writer1 = FilesWriter()\n",
    "    html_name = re.sub('.ipynb', '', new_notebook_name)\n",
    "    writer1.write(output = body, resources = resources, notebook_name=html_name)\n",
    "    html_name = html_name + '.html'\n",
    "\n",
    "\n",
    "    return(html_name)"
   ]
  },
  {
   "cell_type": "code",
   "execution_count": 10,
   "metadata": {},
   "outputs": [],
   "source": [
    "def create_html_attachment(html_name):\n",
    "    \n",
    "    with open(html_path, 'r') as hnd:\n",
    "        html = hnd.read()\n",
    "    part1 = MIMEText(html, 'html')\n",
    "    part1.add_header(\"Content-Disposition\", f\"attachment; filename= {html_path}\")\n",
    "    \n",
    "    return(part1)"
   ]
  },
  {
   "cell_type": "code",
   "execution_count": 11,
   "metadata": {},
   "outputs": [],
   "source": [
    "gmail_login = \"malctaylordev@gmail.com\"\n",
    "sender_email = \"malctaylordev@gmail.com\"\n",
    "reciever_email = \"malctaylor15@gmail.com\"\n",
    "# reciever_email = gmail_login"
   ]
  },
  {
   "cell_type": "code",
   "execution_count": 12,
   "metadata": {},
   "outputs": [],
   "source": [
    "with open('/home/malcolm/credentials/email_pw.pkl', 'rb') as hnd:\n",
    "    pw = pickle.load(hnd)['pw']"
   ]
  },
  {
   "cell_type": "code",
   "execution_count": 13,
   "metadata": {},
   "outputs": [],
   "source": [
    "message = MIMEMultipart()\n",
    "message[\"From\"] = sender_email\n",
    "message[\"To\"] = reciever_email\n",
    "port = 465\n",
    "context = ssl.create_default_context()"
   ]
  },
  {
   "cell_type": "code",
   "execution_count": 14,
   "metadata": {},
   "outputs": [
    {
     "name": "stdout",
     "output_type": "stream",
     "text": [
      "removed notebook:  notebooks/run_notebooks/Meh_Analysis_v1_2020-12-28.ipynb\n"
     ]
    }
   ],
   "source": [
    "if isinstance(tm_error, str):\n",
    "    print(\"Error workflow...\")\n",
    "    subject = \"Error in Meh Analysis: \"+today_str\n",
    "    message[\"Subject\"] = subject\n",
    "\n",
    "    \n",
    "    body = \"\"\"\n",
    "        There was an error in Meh Analysis Notebook. \n",
    "\n",
    "        Stack Trace: \n",
    "\n",
    "        \"\"\" + tm_error\n",
    "    \n",
    "\n",
    "\n",
    "    try:\n",
    "        html_path = wrap_as_html(tm_new_notebook)\n",
    "        html_attachment = create_html_attachment(html_path)\n",
    "        message.attach(html_attachment)\n",
    "\n",
    "    except Exception as e: \n",
    "        print(e)\n",
    "        body = body + \" \\n\\n Error attaching notebook... WIP \\n\\n\" + str(e)\n",
    "  \n",
    "    text = MIMEText(body, \"plain\")\n",
    "    message.attach(text)   \n",
    "    \n",
    "    with smtplib.SMTP_SSL(\"smtp.gmail.com\", port, context=context) as server:\n",
    "        server.login(gmail_login, pw)\n",
    "        server.sendmail(gmail_login, reciever_email, message.as_string())\n",
    "else: \n",
    "    os.system(\"rm \"+ tm_new_notebook)\n",
    "    print(\"removed notebook: \", tm_new_notebook)"
   ]
  },
  {
   "cell_type": "code",
   "execution_count": null,
   "metadata": {},
   "outputs": [],
   "source": []
  }
 ],
 "metadata": {
  "kernelspec": {
   "display_name": "Python 3",
   "language": "python",
   "name": "python3"
  },
  "language_info": {
   "codemirror_mode": {
    "name": "ipython",
    "version": 3
   },
   "file_extension": ".py",
   "mimetype": "text/x-python",
   "name": "python",
   "nbconvert_exporter": "python",
   "pygments_lexer": "ipython3",
   "version": "3.6.9"
  },
  "toc": {
   "base_numbering": 1,
   "nav_menu": {},
   "number_sections": true,
   "sideBar": true,
   "skip_h1_title": false,
   "title_cell": "Table of Contents",
   "title_sidebar": "Contents",
   "toc_cell": false,
   "toc_position": {},
   "toc_section_display": true,
   "toc_window_display": false
  }
 },
 "nbformat": 4,
 "nbformat_minor": 4
}
