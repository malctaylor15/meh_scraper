{
 "cells": [
  {
   "cell_type": "code",
   "execution_count": null,
   "metadata": {},
   "outputs": [],
   "source": [
    "import requests\n",
    "import json\n",
    "import pandas as pd\n",
    "import datetime\n",
    "import sqlite3"
   ]
  },
  {
   "cell_type": "code",
   "execution_count": null,
   "metadata": {},
   "outputs": [],
   "source": []
  },
  {
   "cell_type": "markdown",
   "metadata": {},
   "source": [
    "## Get Site Info from API"
   ]
  },
  {
   "cell_type": "code",
   "execution_count": null,
   "metadata": {},
   "outputs": [],
   "source": [
    "key1 = 'cUEwsckBq7bZ0wWCZL4jYMIGQicGUKd7'\n",
    "site = 'https://api.meh.com/1/current.json?apikey=' + key1"
   ]
  },
  {
   "cell_type": "code",
   "execution_count": null,
   "metadata": {},
   "outputs": [],
   "source": [
    "current_dt = datetime.datetime.now()\n",
    "current_date = str(current_dt.date())\n",
    "current_time = str(current_dt.time())\n",
    "r = requests.get(site)\n",
    "status_code = r.status_code\n",
    "print(current_dt)"
   ]
  },
  {
   "cell_type": "code",
   "execution_count": null,
   "metadata": {},
   "outputs": [],
   "source": [
    "assert(status_code == 200), \"Status code != 200, Status code: \"+str(status_code)"
   ]
  },
  {
   "cell_type": "code",
   "execution_count": null,
   "metadata": {},
   "outputs": [],
   "source": [
    "site_data = r.json()"
   ]
  },
  {
   "cell_type": "markdown",
   "metadata": {},
   "source": [
    "## Save Raw Response "
   ]
  },
  {
   "cell_type": "raw",
   "metadata": {},
   "source": [
    "! cp ../data/meh_scraper.db ../data/meh_scraper_qa2.db"
   ]
  },
  {
   "cell_type": "code",
   "execution_count": null,
   "metadata": {
    "tags": [
     "parameters"
    ]
   },
   "outputs": [],
   "source": [
    "db_location = '../data/meh_scraper_qa2.db'"
   ]
  },
  {
   "cell_type": "code",
   "execution_count": null,
   "metadata": {},
   "outputs": [],
   "source": [
    "con = sqlite3.connect(db_location)\n",
    "cursor = con.cursor()"
   ]
  },
  {
   "cell_type": "code",
   "execution_count": null,
   "metadata": {},
   "outputs": [],
   "source": [
    "raw_data_series = pd.Series([json.dumps(site_data)], index=[current_date], name='raw_response')\n",
    "raw_data_series.index.name = 'date'"
   ]
  },
  {
   "cell_type": "code",
   "execution_count": null,
   "metadata": {},
   "outputs": [],
   "source": [
    "raw_data_series.to_sql('raw_response_backup', con, if_exists='append', index=True)"
   ]
  },
  {
   "cell_type": "code",
   "execution_count": null,
   "metadata": {},
   "outputs": [],
   "source": [
    "con.commit()"
   ]
  },
  {
   "cell_type": "markdown",
   "metadata": {},
   "source": [
    "## Begin Parsing JSON"
   ]
  },
  {
   "cell_type": "code",
   "execution_count": null,
   "metadata": {},
   "outputs": [],
   "source": [
    "def flatten_dict(parsed_site_series, k1):\n",
    "    final_dict = {}\n",
    "    for k,v in parsed_site_series.items():\n",
    "        if k1 !='':\n",
    "            new_k = k1 + '_' + k\n",
    "        else:\n",
    "            new_k = k\n",
    "\n",
    "        if type(v) in [str, int, float]:\n",
    "            final_dict[new_k] = v\n",
    "        elif type(v) == dict:\n",
    "            temp = flatten_dict(v, new_k)\n",
    "            final_dict.update(temp)\n",
    "        else:\n",
    "            print(k + ' is ' + str(type(v)))\n",
    "            pass\n",
    "    return(final_dict)            "
   ]
  },
  {
   "cell_type": "code",
   "execution_count": null,
   "metadata": {},
   "outputs": [],
   "source": [
    "site_data_dict = flatten_dict(site_data, '')            \n",
    "site_data_dict['date'] = current_date\n",
    "site_data_dict['time'] = current_time\n",
    "site_data_dict.keys()"
   ]
  },
  {
   "cell_type": "raw",
   "metadata": {},
   "source": [
    "date_string = current_dt.strftime('%m%d%y')\n",
    "with open('meh_data_'+date_string+'.json', 'w') as hnd:\n",
    "    json.dump(site_data, hnd)"
   ]
  },
  {
   "cell_type": "code",
   "execution_count": null,
   "metadata": {
    "scrolled": true
   },
   "outputs": [],
   "source": [
    "# print(json.dumps(site_data_dict, indent=4))"
   ]
  },
  {
   "cell_type": "code",
   "execution_count": null,
   "metadata": {
    "scrolled": true
   },
   "outputs": [],
   "source": [
    "parsed_site_series = pd.DataFrame(site_data_dict, index=[1])\n",
    "new_cols = parsed_site_series.columns"
   ]
  },
  {
   "cell_type": "markdown",
   "metadata": {},
   "source": [
    "## Check matching table formats"
   ]
  },
  {
   "cell_type": "code",
   "execution_count": null,
   "metadata": {},
   "outputs": [],
   "source": [
    "existing_table = pd.read_sql_query(\"select * from products limit 1\"\n",
    "                                  , con)\n",
    "existing_cols = existing_table.columns"
   ]
  },
  {
   "cell_type": "code",
   "execution_count": null,
   "metadata": {},
   "outputs": [],
   "source": [
    "new_table_missing_cols = set(existing_cols).difference(set(new_cols))\n",
    "existing_table_missing_cols = set(new_cols).difference(set(existing_cols))"
   ]
  },
  {
   "cell_type": "code",
   "execution_count": null,
   "metadata": {},
   "outputs": [],
   "source": [
    "def are_matching_columns(df1, df2, verbose=True):\n",
    "    \"\"\"\n",
    "    Ensure two dataframes have the same columns \n",
    "    Returns True if matching, False if not\n",
    "    \"\"\"\n",
    "    cols1 = set(df1.columns)\n",
    "    cols2 = set(df2.columns)\n",
    "    \n",
    "    cols1_not2 = cols1.difference(cols2)\n",
    "    cols2_not1 = cols2.difference(cols1)\n",
    "    sym_diff = cols1.symmetric_difference(cols2)\n",
    "    \n",
    "    if verbose: \n",
    "        print(\"Columns not in df2: \", cols1_not2)\n",
    "        print(\"Columns not in df1: \", cols2_not1)    \n",
    "    \n",
    "    output = True if sym_diff == set() else False \n",
    "    \n",
    "    return(output)\n",
    "    "
   ]
  },
  {
   "cell_type": "code",
   "execution_count": null,
   "metadata": {},
   "outputs": [],
   "source": [
    "if len(new_table_missing_cols) != 0:\n",
    "    for col in new_table_missing_cols:\n",
    "        parsed_site_series[col] = None\n",
    "    if are_matching_columns(parsed_site_series, existing_table):\n",
    "        parsed_site_series.to_sql('products', con, if_exists='append', index=False)\n"
   ]
  },
  {
   "cell_type": "code",
   "execution_count": null,
   "metadata": {},
   "outputs": [],
   "source": [
    "if len(existing_table_missing_cols) != 0:\n",
    "    existing_table = pd.read_sql_query(\"select * from products\"\n",
    "                                  , con)\n",
    "    for col in existing_table_missing_cols:\n",
    "        existing_table[col] = None\n",
    "    if are_matching_columns(parsed_site_series, existing_table):\n",
    "        existing_table.to_sql('products', con, if_exists='replace', index=False)"
   ]
  },
  {
   "cell_type": "code",
   "execution_count": null,
   "metadata": {},
   "outputs": [],
   "source": [
    "con.commit()\n",
    "con.close()"
   ]
  },
  {
   "cell_type": "markdown",
   "metadata": {},
   "source": [
    "## TODOs  \n",
    "\n",
    "* logic for items, photos, launches, answers  \n",
    "* Special page scanner to record info on bottom of page multiple times during the day, maybe include topics, votes and other info more frequently as well\n",
    "* Links for external and tags accoringly "
   ]
  },
  {
   "cell_type": "code",
   "execution_count": null,
   "metadata": {},
   "outputs": [],
   "source": []
  }
 ],
 "metadata": {
  "kernelspec": {
   "display_name": "Python 3",
   "language": "python",
   "name": "python3"
  },
  "language_info": {
   "codemirror_mode": {
    "name": "ipython",
    "version": 3
   },
   "file_extension": ".py",
   "mimetype": "text/x-python",
   "name": "python",
   "nbconvert_exporter": "python",
   "pygments_lexer": "ipython3",
   "version": "3.7.3"
  },
  "toc": {
   "base_numbering": 1,
   "nav_menu": {},
   "number_sections": true,
   "sideBar": true,
   "skip_h1_title": false,
   "title_cell": "Table of Contents",
   "title_sidebar": "Contents",
   "toc_cell": false,
   "toc_position": {},
   "toc_section_display": true,
   "toc_window_display": false
  }
 },
 "nbformat": 4,
 "nbformat_minor": 2
}
