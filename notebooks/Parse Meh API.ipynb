{
 "cells": [
  {
   "cell_type": "code",
   "execution_count": 1,
   "metadata": {},
   "outputs": [],
   "source": [
    "import requests\n",
    "import json\n",
    "import pandas as pd\n",
    "import datetime\n",
    "import sqlite3"
   ]
  },
  {
   "cell_type": "markdown",
   "metadata": {},
   "source": [
    "## Get Site Info from API"
   ]
  },
  {
   "cell_type": "code",
   "execution_count": 2,
   "metadata": {},
   "outputs": [],
   "source": [
    "key1 = 'cUEwsckBq7bZ0wWCZL4jYMIGQicGUKd7'\n",
    "site = 'https://api.meh.com/1/current.json?apikey=' + key1"
   ]
  },
  {
   "cell_type": "code",
   "execution_count": 3,
   "metadata": {},
   "outputs": [
    {
     "name": "stdout",
     "output_type": "stream",
     "text": [
      "2020-01-23 00:32:45.207413\n"
     ]
    }
   ],
   "source": [
    "current_dt = datetime.datetime.now()\n",
    "current_date = str(current_dt.date())\n",
    "current_time = str(current_dt.time())\n",
    "r = requests.get(site)\n",
    "status_code = r.status_code\n",
    "print(current_dt)"
   ]
  },
  {
   "cell_type": "code",
   "execution_count": 4,
   "metadata": {},
   "outputs": [],
   "source": [
    "assert(status_code == 200), \"Status code != 200, Status code: \"+str(status_code)"
   ]
  },
  {
   "cell_type": "code",
   "execution_count": 5,
   "metadata": {},
   "outputs": [],
   "source": [
    "site_data = r.json()"
   ]
  },
  {
   "cell_type": "markdown",
   "metadata": {},
   "source": [
    "## Save Raw Response "
   ]
  },
  {
   "cell_type": "code",
   "execution_count": 27,
   "metadata": {
    "tags": [
     "parameters"
    ]
   },
   "outputs": [],
   "source": [
    "db_location = '../data/meh_scraper_qa.db'"
   ]
  },
  {
   "cell_type": "code",
   "execution_count": 28,
   "metadata": {},
   "outputs": [],
   "source": [
    "con = sqlite3.connect(db_location)\n",
    "cursor = con.cursor()"
   ]
  },
  {
   "cell_type": "code",
   "execution_count": 29,
   "metadata": {},
   "outputs": [],
   "source": [
    "raw_data_series = pd.Series([json.dumps(site_data)], index=[current_date], name='raw_response')\n",
    "raw_data_series.index.name = 'date'"
   ]
  },
  {
   "cell_type": "code",
   "execution_count": 30,
   "metadata": {},
   "outputs": [],
   "source": [
    "raw_data_series.to_sql('raw_response_backup', con, if_exists='append', index=True)"
   ]
  },
  {
   "cell_type": "code",
   "execution_count": 31,
   "metadata": {},
   "outputs": [],
   "source": [
    "con.commit()"
   ]
  },
  {
   "cell_type": "markdown",
   "metadata": {},
   "source": [
    "## Begin Parsing JSON"
   ]
  },
  {
   "cell_type": "code",
   "execution_count": 32,
   "metadata": {},
   "outputs": [],
   "source": [
    "def flatten_dict(parsed_site_series, k1):\n",
    "    final_dict = {}\n",
    "    for k,v in parsed_site_series.items():\n",
    "        if k1 !='':\n",
    "            new_k = k1 + '_' + k\n",
    "        else:\n",
    "            new_k = k\n",
    "\n",
    "        if type(v) in [str, int, float]:\n",
    "            final_dict[new_k] = v\n",
    "        elif type(v) == dict:\n",
    "            temp = flatten_dict(v, new_k)\n",
    "            final_dict.update(temp)\n",
    "        else:\n",
    "            print(k + ' is ' + str(type(v)))\n",
    "            pass\n",
    "    return(final_dict)            "
   ]
  },
  {
   "cell_type": "code",
   "execution_count": 33,
   "metadata": {},
   "outputs": [
    {
     "name": "stdout",
     "output_type": "stream",
     "text": [
      "items is <class 'list'>\n",
      "photos is <class 'list'>\n",
      "launches is <class 'list'>\n",
      "answers is <class 'list'>\n"
     ]
    },
    {
     "data": {
      "text/plain": [
       "dict_keys(['deal_features', 'deal_id', 'deal_purchaseQuantity_maximumLimit', 'deal_purchaseQuantity_minimumLimit', 'deal_title', 'deal_specifications', 'deal_story_title', 'deal_story_body', 'deal_theme_accentColor', 'deal_theme_backgroundColor', 'deal_theme_backgroundImage', 'deal_theme_foreground', 'deal_url', 'poll_id', 'poll_startDate', 'poll_title', 'video_id', 'video_startDate', 'video_title', 'video_url', 'video_topic_commentCount', 'video_topic_createdAt', 'video_topic_id', 'video_topic_replyCount', 'video_topic_url', 'video_topic_voteCount', 'date', 'time'])"
      ]
     },
     "execution_count": 33,
     "metadata": {},
     "output_type": "execute_result"
    }
   ],
   "source": [
    "site_data_dict = flatten_dict(site_data, '')            \n",
    "site_data_dict['date'] = current_date\n",
    "site_data_dict['time'] = current_time\n",
    "site_data_dict.keys()"
   ]
  },
  {
   "cell_type": "raw",
   "metadata": {},
   "source": [
    "date_string = current_dt.strftime('%m%d%y')\n",
    "with open('meh_data_'+date_string+'.json', 'w') as hnd:\n",
    "    json.dump(site_data, hnd)"
   ]
  },
  {
   "cell_type": "code",
   "execution_count": 34,
   "metadata": {
    "scrolled": true
   },
   "outputs": [],
   "source": [
    "# print(json.dumps(site_data_dict, indent=4))"
   ]
  },
  {
   "cell_type": "code",
   "execution_count": 35,
   "metadata": {
    "scrolled": true
   },
   "outputs": [],
   "source": [
    "parsed_site_series = pd.DataFrame(site_data_dict, index=[1])"
   ]
  },
  {
   "cell_type": "code",
   "execution_count": 36,
   "metadata": {},
   "outputs": [],
   "source": [
    "parsed_site_series.to_sql('products', con, if_exists='append', index=False)"
   ]
  },
  {
   "cell_type": "code",
   "execution_count": 37,
   "metadata": {},
   "outputs": [],
   "source": [
    "con.commit()\n",
    "con.close()"
   ]
  },
  {
   "cell_type": "markdown",
   "metadata": {},
   "source": [
    "## TODOs  \n",
    "\n",
    "* logic for items, photos, launches, answers  \n",
    "* Special page scanner to record info on bottom of page multiple times during the day, maybe include topics, votes and other info more frequently as well\n",
    "* Links for external and tags accoringly "
   ]
  },
  {
   "cell_type": "code",
   "execution_count": null,
   "metadata": {},
   "outputs": [],
   "source": []
  }
 ],
 "metadata": {
  "kernelspec": {
   "display_name": "Python 3",
   "language": "python",
   "name": "python3"
  },
  "language_info": {
   "codemirror_mode": {
    "name": "ipython",
    "version": 3
   },
   "file_extension": ".py",
   "mimetype": "text/x-python",
   "name": "python",
   "nbconvert_exporter": "python",
   "pygments_lexer": "ipython3",
   "version": "3.6.4"
  },
  "toc": {
   "base_numbering": 1,
   "nav_menu": {},
   "number_sections": true,
   "sideBar": true,
   "skip_h1_title": false,
   "title_cell": "Table of Contents",
   "title_sidebar": "Contents",
   "toc_cell": false,
   "toc_position": {},
   "toc_section_display": true,
   "toc_window_display": false
  }
 },
 "nbformat": 4,
 "nbformat_minor": 2
}
