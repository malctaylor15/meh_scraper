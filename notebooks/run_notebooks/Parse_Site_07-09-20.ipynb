{
 "cells": [
  {
   "cell_type": "code",
   "execution_count": null,
   "metadata": {
    "hide_input": true,
    "inputHidden": true
   },
   "outputs": [
    {
     "data": {
      "text/html": [
       "<span style=\"color:red; font-family:Helvetica Neue, Helvetica, Arial, sans-serif; font-size:2em;\">An Exception was encountered at 'In [23]'.</span>"
      ]
     },
     "metadata": {},
     "output_type": "display_data"
    }
   ],
   "source": [
    "%%html\n",
    "<span style=\"color:red; font-family:Helvetica Neue, Helvetica, Arial, sans-serif; font-size:2em;\">An Exception was encountered at 'In [23]'.</span>"
   ]
  },
  {
   "cell_type": "code",
   "execution_count": 1,
   "metadata": {
    "papermill": {
     "duration": 2.253693,
     "end_time": "2020-07-10T03:45:09.162822",
     "exception": false,
     "start_time": "2020-07-10T03:45:06.909129",
     "status": "completed"
    },
    "tags": []
   },
   "outputs": [],
   "source": [
    "import os \n",
    "import sys\n",
    "import pandas as pd\n",
    "import time\n",
    "import bs4\n",
    "from bs4 import BeautifulSoup\n",
    "import requests\n",
    "import re\n",
    "import json\n",
    "import datetime\n",
    "import sqlite3\n",
    "import logging\n",
    "%load_ext autoreload\n",
    "%autoreload 2"
   ]
  },
  {
   "cell_type": "code",
   "execution_count": 2,
   "metadata": {
    "papermill": {
     "duration": 0.216509,
     "end_time": "2020-07-10T03:45:09.504822",
     "exception": false,
     "start_time": "2020-07-10T03:45:09.288313",
     "status": "completed"
    },
    "tags": []
   },
   "outputs": [
    {
     "name": "stdout",
     "output_type": "stream",
     "text": [
      "2020-07-09 23:45:09.478762\n"
     ]
    }
   ],
   "source": [
    "current_dt = datetime.datetime.now()\n",
    "current_date = str(current_dt.date())\n",
    "current_time = str(current_dt.time().strftime('%H:%M:%S'))\n",
    "print(current_dt)"
   ]
  },
  {
   "cell_type": "code",
   "execution_count": 3,
   "metadata": {
    "papermill": {
     "duration": 7.784966,
     "end_time": "2020-07-10T03:45:17.417814",
     "exception": false,
     "start_time": "2020-07-10T03:45:09.632848",
     "status": "completed"
    },
    "tags": []
   },
   "outputs": [
    {
     "name": "stdout",
     "output_type": "stream",
     "text": [
      "Status Code 200\n"
     ]
    }
   ],
   "source": [
    "link_homepage = 'https://meh.com'\n",
    "page = requests.get(link_homepage)\n",
    "print('Status Code', page.status_code)\n",
    "soup = BeautifulSoup(page.content, 'html.parser')"
   ]
  },
  {
   "cell_type": "raw",
   "metadata": {
    "papermill": {
     "duration": 0.128853,
     "end_time": "2020-07-10T03:45:17.674956",
     "exception": false,
     "start_time": "2020-07-10T03:45:17.546103",
     "status": "completed"
    },
    "tags": []
   },
   "source": [
    "soup1 = str(soup)\n",
    "soup2 = soup1.replace('\\'','\\'\\'')"
   ]
  },
  {
   "cell_type": "markdown",
   "metadata": {
    "papermill": {
     "duration": 0.127807,
     "end_time": "2020-07-10T03:45:17.931819",
     "exception": false,
     "start_time": "2020-07-10T03:45:17.804012",
     "status": "completed"
    },
    "tags": []
   },
   "source": [
    "## Save Raw Response"
   ]
  },
  {
   "cell_type": "raw",
   "metadata": {
    "papermill": {
     "duration": 0.12849,
     "end_time": "2020-07-10T03:45:18.190555",
     "exception": false,
     "start_time": "2020-07-10T03:45:18.062065",
     "status": "completed"
    },
    "tags": []
   },
   "source": [
    "!cp ../data/meh_scraper.db ../data/meh_scraper_qa.db "
   ]
  },
  {
   "cell_type": "code",
   "execution_count": 4,
   "metadata": {
    "papermill": {
     "duration": 0.207558,
     "end_time": "2020-07-10T03:45:18.527493",
     "exception": false,
     "start_time": "2020-07-10T03:45:18.319935",
     "status": "completed"
    },
    "tags": [
     "parameters"
    ]
   },
   "outputs": [],
   "source": [
    "# os.chdir('..')\n",
    "db_location = '../data/meh_scraper_qa.db'"
   ]
  },
  {
   "cell_type": "code",
   "execution_count": 5,
   "metadata": {
    "papermill": {
     "duration": 0.207297,
     "end_time": "2020-07-10T03:45:18.865084",
     "exception": false,
     "start_time": "2020-07-10T03:45:18.657787",
     "status": "completed"
    },
    "tags": [
     "injected-parameters"
    ]
   },
   "outputs": [],
   "source": [
    "# Parameters\n",
    "db_location = \"data/meh_scraper.db\"\n"
   ]
  },
  {
   "cell_type": "code",
   "execution_count": 6,
   "metadata": {
    "papermill": {
     "duration": 0.210639,
     "end_time": "2020-07-10T03:45:19.204368",
     "exception": false,
     "start_time": "2020-07-10T03:45:18.993729",
     "status": "completed"
    },
    "tags": []
   },
   "outputs": [],
   "source": [
    "con = sqlite3.connect(db_location)\n",
    "cursor = con.cursor()"
   ]
  },
  {
   "cell_type": "code",
   "execution_count": 7,
   "metadata": {
    "papermill": {
     "duration": 0.227217,
     "end_time": "2020-07-10T03:45:19.559980",
     "exception": false,
     "start_time": "2020-07-10T03:45:19.332763",
     "status": "completed"
    },
    "tags": []
   },
   "outputs": [],
   "source": [
    "stats = soup.find(class_='community-stats')"
   ]
  },
  {
   "cell_type": "code",
   "execution_count": 8,
   "metadata": {
    "papermill": {
     "duration": 0.228382,
     "end_time": "2020-07-10T03:45:19.918369",
     "exception": false,
     "start_time": "2020-07-10T03:45:19.689987",
     "status": "completed"
    },
    "tags": []
   },
   "outputs": [],
   "source": [
    "stats1 = str(stats)\n",
    "stats2 = stats1.replace('\\'','\\'\\'')"
   ]
  },
  {
   "cell_type": "code",
   "execution_count": 9,
   "metadata": {
    "papermill": {
     "duration": 0.252456,
     "end_time": "2020-07-10T03:45:20.299709",
     "exception": false,
     "start_time": "2020-07-10T03:45:20.047253",
     "status": "completed"
    },
    "tags": []
   },
   "outputs": [
    {
     "data": {
      "text/plain": [
       "<sqlite3.Cursor at 0x6dfa72a0>"
      ]
     },
     "execution_count": 9,
     "metadata": {},
     "output_type": "execute_result"
    }
   ],
   "source": [
    "cursor.execute(\"\"\"INSERT INTO raw_site_community_stats (date, time, raw_site) \n",
    "        VALUES ('{0}', '{1}', '{2}')\"\"\".format(current_date, current_time, stats2))"
   ]
  },
  {
   "cell_type": "code",
   "execution_count": 10,
   "metadata": {
    "papermill": {
     "duration": 0.230047,
     "end_time": "2020-07-10T03:45:20.660333",
     "exception": false,
     "start_time": "2020-07-10T03:45:20.430286",
     "status": "completed"
    },
    "tags": []
   },
   "outputs": [],
   "source": [
    "con.commit()"
   ]
  },
  {
   "cell_type": "code",
   "execution_count": 11,
   "metadata": {
    "papermill": {
     "duration": 0.21072,
     "end_time": "2020-07-10T03:45:21.001619",
     "exception": false,
     "start_time": "2020-07-10T03:45:20.790899",
     "status": "completed"
    },
    "tags": []
   },
   "outputs": [],
   "source": [
    "con.close()"
   ]
  },
  {
   "cell_type": "markdown",
   "metadata": {
    "papermill": {
     "duration": 0.130578,
     "end_time": "2020-07-10T03:45:21.262662",
     "exception": false,
     "start_time": "2020-07-10T03:45:21.132084",
     "status": "completed"
    },
    "tags": []
   },
   "source": [
    "## Parse Wanted Fields"
   ]
  },
  {
   "cell_type": "code",
   "execution_count": 12,
   "metadata": {
    "papermill": {
     "duration": 0.212073,
     "end_time": "2020-07-10T03:45:21.605590",
     "exception": false,
     "start_time": "2020-07-10T03:45:21.393517",
     "status": "completed"
    },
    "tags": []
   },
   "outputs": [],
   "source": [
    "parsed_nums = {}\n",
    "parsed_nums['date'] = current_date\n",
    "parsed_nums['time'] = current_time"
   ]
  },
  {
   "cell_type": "markdown",
   "metadata": {
    "papermill": {
     "duration": 0.130239,
     "end_time": "2020-07-10T03:45:21.867850",
     "exception": false,
     "start_time": "2020-07-10T03:45:21.737611",
     "status": "completed"
    },
    "tags": []
   },
   "source": [
    "### Page Views"
   ]
  },
  {
   "cell_type": "code",
   "execution_count": 13,
   "metadata": {
    "papermill": {
     "duration": 0.212907,
     "end_time": "2020-07-10T03:45:22.212232",
     "exception": false,
     "start_time": "2020-07-10T03:45:21.999325",
     "status": "completed"
    },
    "scrolled": true,
    "tags": []
   },
   "outputs": [],
   "source": [
    "page_views = stats.find('div', {'id':'pageviews'})"
   ]
  },
  {
   "cell_type": "code",
   "execution_count": 14,
   "metadata": {
    "papermill": {
     "duration": 0.22455,
     "end_time": "2020-07-10T03:45:22.568400",
     "exception": false,
     "start_time": "2020-07-10T03:45:22.343850",
     "status": "completed"
    },
    "tags": []
   },
   "outputs": [],
   "source": [
    "page_view_secondary = page_views.find(class_='secondary').get_text()\n",
    "secondary_parts = page_view_secondary.rstrip().lstrip().split(', ')\n",
    "for visit_method, method_num in zip(secondary_parts, range(1,3)):\n",
    "    visit_parts = visit_method.split('% ')\n",
    "    parsed_nums['Page Views ' + str(method_num)+' Name'] = visit_parts[1]\n",
    "    parsed_nums['Page Views ' + str(method_num)+' Percent'] = int(visit_parts[0])"
   ]
  },
  {
   "cell_type": "code",
   "execution_count": 15,
   "metadata": {
    "papermill": {
     "duration": 0.219457,
     "end_time": "2020-07-10T03:45:22.919801",
     "exception": false,
     "start_time": "2020-07-10T03:45:22.700344",
     "status": "completed"
    },
    "tags": []
   },
   "outputs": [],
   "source": [
    "primary_class = page_views.find_all(class_='primary')\n",
    "primary_numbs = [x.find('strong').get_text() for x in primary_class]\n",
    "parsed_nums['# Visited'] = int(primary_numbs[0])\n",
    "parsed_nums['Clicked Meh'] = int(primary_numbs[1])\n"
   ]
  },
  {
   "cell_type": "code",
   "execution_count": 16,
   "metadata": {
    "papermill": {
     "duration": 0.220071,
     "end_time": "2020-07-10T03:45:23.271499",
     "exception": false,
     "start_time": "2020-07-10T03:45:23.051428",
     "status": "completed"
    },
    "tags": []
   },
   "outputs": [
    {
     "data": {
      "text/plain": [
       "{'date': '2020-07-09',\n",
       " 'time': '23:45:09',\n",
       " 'Page Views 1 Name': 'on a phone',\n",
       " 'Page Views 1 Percent': 42,\n",
       " 'Page Views 2 Name': 'on a tablet.',\n",
       " 'Page Views 2 Percent': 3,\n",
       " '# Visited': 67848,\n",
       " 'Clicked Meh': 4521}"
      ]
     },
     "execution_count": 16,
     "metadata": {},
     "output_type": "execute_result"
    }
   ],
   "source": [
    "parsed_nums"
   ]
  },
  {
   "cell_type": "markdown",
   "metadata": {
    "papermill": {
     "duration": 0.13181,
     "end_time": "2020-07-10T03:45:23.535843",
     "exception": false,
     "start_time": "2020-07-10T03:45:23.404033",
     "status": "completed"
    },
    "tags": []
   },
   "source": [
    "### Referrals"
   ]
  },
  {
   "cell_type": "code",
   "execution_count": 17,
   "metadata": {
    "papermill": {
     "duration": 0.214863,
     "end_time": "2020-07-10T03:45:23.885073",
     "exception": false,
     "start_time": "2020-07-10T03:45:23.670210",
     "status": "completed"
    },
    "scrolled": true,
    "tags": []
   },
   "outputs": [],
   "source": [
    "referrals = stats.find('div', {'id':'referrals'})"
   ]
  },
  {
   "cell_type": "code",
   "execution_count": 18,
   "metadata": {
    "papermill": {
     "duration": 0.217366,
     "end_time": "2020-07-10T03:45:24.235598",
     "exception": false,
     "start_time": "2020-07-10T03:45:24.018232",
     "status": "completed"
    },
    "tags": []
   },
   "outputs": [],
   "source": [
    "parsed_nums['Typed Meh Percent'] = int(referrals.find(class_='primary').find('strong').get_text()[:-1])"
   ]
  },
  {
   "cell_type": "code",
   "execution_count": 19,
   "metadata": {
    "papermill": {
     "duration": 0.216704,
     "end_time": "2020-07-10T03:45:24.585034",
     "exception": false,
     "start_time": "2020-07-10T03:45:24.368330",
     "status": "completed"
    },
    "tags": []
   },
   "outputs": [],
   "source": [
    "parsed_nums['Referrals Percent'] = int(referrals.find(class_='secondary').find('strong').get_text()[:-1])"
   ]
  },
  {
   "cell_type": "code",
   "execution_count": 20,
   "metadata": {
    "papermill": {
     "duration": 0.228626,
     "end_time": "2020-07-10T03:45:24.948438",
     "exception": false,
     "start_time": "2020-07-10T03:45:24.719812",
     "status": "completed"
    },
    "tags": []
   },
   "outputs": [],
   "source": [
    "referrers = referrals.find_all(class_='referrer')\n",
    "for ref, ref_num in zip(referrers, range(1, len(referrers)+1)):\n",
    "    parsed_nums['Referrer '+str(ref_num) + ' Percent'] = float(ref['data-percentage'])\n",
    "    parsed_nums['Referrer '+str(ref_num) + ' Name'] = ref.get_text().lstrip().rstrip().split(' \\n')[0]\n",
    "    "
   ]
  },
  {
   "cell_type": "code",
   "execution_count": null,
   "metadata": {
    "papermill": {
     "duration": 0.133274,
     "end_time": "2020-07-10T03:45:25.214640",
     "exception": false,
     "start_time": "2020-07-10T03:45:25.081366",
     "status": "completed"
    },
    "tags": []
   },
   "outputs": [],
   "source": []
  },
  {
   "cell_type": "markdown",
   "metadata": {
    "papermill": {
     "duration": 0.132,
     "end_time": "2020-07-10T03:45:25.479905",
     "exception": false,
     "start_time": "2020-07-10T03:45:25.347905",
     "status": "completed"
    },
    "tags": []
   },
   "source": [
    "### Order Counts"
   ]
  },
  {
   "cell_type": "code",
   "execution_count": 21,
   "metadata": {
    "papermill": {
     "duration": 0.223238,
     "end_time": "2020-07-10T03:45:25.836673",
     "exception": false,
     "start_time": "2020-07-10T03:45:25.613435",
     "status": "completed"
    },
    "scrolled": true,
    "tags": []
   },
   "outputs": [],
   "source": [
    "order_stats = stats.find('div', {'id': 'order-stats'})"
   ]
  },
  {
   "cell_type": "code",
   "execution_count": 22,
   "metadata": {
    "papermill": {
     "duration": 0.218697,
     "end_time": "2020-07-10T03:45:26.188974",
     "exception": false,
     "start_time": "2020-07-10T03:45:25.970277",
     "status": "completed"
    },
    "tags": []
   },
   "outputs": [],
   "source": [
    "order_nums = [re.findall('\\d+', x.get_text())[0] for x in order_stats.find_all(class_='primary')]"
   ]
  },
  {
   "cell_type": "code",
   "execution_count": 23,
   "metadata": {
    "papermill": {
     "duration": 0.76604,
     "end_time": "2020-07-10T03:45:27.088110",
     "exception": true,
     "start_time": "2020-07-10T03:45:26.322070",
     "status": "failed"
    },
    "tags": []
   },
   "outputs": [
    {
     "ename": "IndexError",
     "evalue": "list index out of range",
     "output_type": "error",
     "traceback": [
      "\u001b[0;31m---------------------------------------------------------------------------\u001b[0m",
      "\u001b[0;31mIndexError\u001b[0m                                Traceback (most recent call last)",
      "\u001b[0;32m<ipython-input-23-3fb559ffbc89>\u001b[0m in \u001b[0;36m<module>\u001b[0;34m\u001b[0m\n\u001b[0;32m----> 1\u001b[0;31m \u001b[0mparsed_nums\u001b[0m\u001b[0;34m[\u001b[0m\u001b[0;34m'Items Sold'\u001b[0m\u001b[0;34m]\u001b[0m \u001b[0;34m=\u001b[0m \u001b[0morder_nums\u001b[0m\u001b[0;34m[\u001b[0m\u001b[0;36m0\u001b[0m\u001b[0;34m]\u001b[0m\u001b[0;34m\u001b[0m\u001b[0;34m\u001b[0m\u001b[0m\n\u001b[0m\u001b[1;32m      2\u001b[0m \u001b[0mparsed_nums\u001b[0m\u001b[0;34m[\u001b[0m\u001b[0;34m'Dollars Sold'\u001b[0m\u001b[0;34m]\u001b[0m \u001b[0;34m=\u001b[0m \u001b[0morder_nums\u001b[0m\u001b[0;34m[\u001b[0m\u001b[0;36m1\u001b[0m\u001b[0;34m]\u001b[0m\u001b[0;34m\u001b[0m\u001b[0;34m\u001b[0m\u001b[0m\n",
      "\u001b[0;31mIndexError\u001b[0m: list index out of range"
     ]
    }
   ],
   "source": [
    "parsed_nums['Items Sold'] = order_nums[0]\n",
    "parsed_nums['Dollars Sold'] = order_nums[1]"
   ]
  },
  {
   "cell_type": "markdown",
   "metadata": {
    "papermill": {
     "duration": null,
     "end_time": null,
     "exception": null,
     "start_time": null,
     "status": "pending"
    },
    "tags": []
   },
   "source": [
    "## Export"
   ]
  },
  {
   "cell_type": "code",
   "execution_count": null,
   "metadata": {
    "papermill": {
     "duration": null,
     "end_time": null,
     "exception": null,
     "start_time": null,
     "status": "pending"
    },
    "tags": []
   },
   "outputs": [],
   "source": [
    "export_series = pd.DataFrame(parsed_nums, index=[1])"
   ]
  },
  {
   "cell_type": "code",
   "execution_count": null,
   "metadata": {
    "papermill": {
     "duration": null,
     "end_time": null,
     "exception": null,
     "start_time": null,
     "status": "pending"
    },
    "tags": []
   },
   "outputs": [],
   "source": [
    "export_series"
   ]
  },
  {
   "cell_type": "code",
   "execution_count": null,
   "metadata": {
    "papermill": {
     "duration": null,
     "end_time": null,
     "exception": null,
     "start_time": null,
     "status": "pending"
    },
    "tags": []
   },
   "outputs": [],
   "source": [
    "con = sqlite3.connect(db_location)\n",
    "cursor = con.cursor()\n",
    "export_series.to_sql('selling_details', con, if_exists='append', index=False)"
   ]
  },
  {
   "cell_type": "code",
   "execution_count": null,
   "metadata": {
    "papermill": {
     "duration": null,
     "end_time": null,
     "exception": null,
     "start_time": null,
     "status": "pending"
    },
    "tags": []
   },
   "outputs": [],
   "source": [
    "con.commit()\n",
    "con.close()"
   ]
  },
  {
   "cell_type": "code",
   "execution_count": null,
   "metadata": {
    "papermill": {
     "duration": null,
     "end_time": null,
     "exception": null,
     "start_time": null,
     "status": "pending"
    },
    "tags": []
   },
   "outputs": [],
   "source": []
  },
  {
   "cell_type": "code",
   "execution_count": null,
   "metadata": {
    "papermill": {
     "duration": null,
     "end_time": null,
     "exception": null,
     "start_time": null,
     "status": "pending"
    },
    "tags": []
   },
   "outputs": [],
   "source": []
  }
 ],
 "metadata": {
  "kernelspec": {
   "display_name": "Python 3",
   "language": "python",
   "name": "python3"
  },
  "language_info": {
   "codemirror_mode": {
    "name": "ipython",
    "version": 3
   },
   "file_extension": ".py",
   "mimetype": "text/x-python",
   "name": "python",
   "nbconvert_exporter": "python",
   "pygments_lexer": "ipython3",
   "version": "3.7.3"
  },
  "papermill": {
   "duration": 23.749092,
   "end_time": "2020-07-10T03:45:27.943710",
   "environment_variables": {},
   "exception": true,
   "input_path": "notebooks/Parse_Site.ipynb",
   "output_path": "notebooks/run_notebooks/Parse_Site_07-09-20.ipynb",
   "parameters": {
    "db_location": "data/meh_scraper.db"
   },
   "start_time": "2020-07-10T03:45:04.194618",
   "version": "1.2.1"
  },
  "toc": {
   "base_numbering": 1,
   "nav_menu": {},
   "number_sections": true,
   "sideBar": true,
   "skip_h1_title": false,
   "title_cell": "Table of Contents",
   "title_sidebar": "Contents",
   "toc_cell": false,
   "toc_position": {},
   "toc_section_display": true,
   "toc_window_display": true
  }
 },
 "nbformat": 4,
 "nbformat_minor": 2
}