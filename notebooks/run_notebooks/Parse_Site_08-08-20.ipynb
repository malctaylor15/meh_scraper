{
 "cells": [
  {
   "cell_type": "code",
   "execution_count": 1,
   "metadata": {
    "papermill": {
     "duration": 8.345909,
     "end_time": "2020-08-08T12:30:22.399916",
     "exception": false,
     "start_time": "2020-08-08T12:30:14.054007",
     "status": "completed"
    },
    "tags": []
   },
   "outputs": [],
   "source": [
    "import os \n",
    "import sys\n",
    "import pandas as pd\n",
    "import time\n",
    "import bs4\n",
    "from bs4 import BeautifulSoup\n",
    "import requests\n",
    "import re\n",
    "import json\n",
    "import datetime\n",
    "import sqlite3\n",
    "import logging\n",
    "%load_ext autoreload\n",
    "%autoreload 2"
   ]
  },
  {
   "cell_type": "code",
   "execution_count": 2,
   "metadata": {
    "papermill": {
     "duration": 0.550796,
     "end_time": "2020-08-08T12:30:23.303613",
     "exception": false,
     "start_time": "2020-08-08T12:30:22.752817",
     "status": "completed"
    },
    "tags": []
   },
   "outputs": [
    {
     "name": "stdout",
     "output_type": "stream",
     "text": [
      "2020-08-08 08:30:23.218293\n"
     ]
    }
   ],
   "source": [
    "current_dt = datetime.datetime.now()\n",
    "current_date = str(current_dt.date())\n",
    "current_time = str(current_dt.time().strftime('%H:%M:%S'))\n",
    "print(current_dt)"
   ]
  },
  {
   "cell_type": "code",
   "execution_count": 3,
   "metadata": {
    "papermill": {
     "duration": 6.395584,
     "end_time": "2020-08-08T12:30:29.964859",
     "exception": false,
     "start_time": "2020-08-08T12:30:23.569275",
     "status": "completed"
    },
    "tags": []
   },
   "outputs": [
    {
     "name": "stdout",
     "output_type": "stream",
     "text": [
      "Status Code 200\n"
     ]
    }
   ],
   "source": [
    "link_homepage = 'https://meh.com'\n",
    "page = requests.get(link_homepage)\n",
    "print('Status Code', page.status_code)\n",
    "soup = BeautifulSoup(page.content, 'html.parser')"
   ]
  },
  {
   "cell_type": "raw",
   "metadata": {
    "papermill": {
     "duration": 0.283407,
     "end_time": "2020-08-08T12:30:30.558624",
     "exception": false,
     "start_time": "2020-08-08T12:30:30.275217",
     "status": "completed"
    },
    "tags": []
   },
   "source": [
    "soup1 = str(soup)\n",
    "soup2 = soup1.replace('\\'','\\'\\'')"
   ]
  },
  {
   "cell_type": "markdown",
   "metadata": {
    "papermill": {
     "duration": 0.28724,
     "end_time": "2020-08-08T12:30:31.134635",
     "exception": false,
     "start_time": "2020-08-08T12:30:30.847395",
     "status": "completed"
    },
    "tags": []
   },
   "source": [
    "## Save Raw Response"
   ]
  },
  {
   "cell_type": "raw",
   "metadata": {
    "papermill": {
     "duration": 0.27636,
     "end_time": "2020-08-08T12:30:31.687770",
     "exception": false,
     "start_time": "2020-08-08T12:30:31.411410",
     "status": "completed"
    },
    "tags": []
   },
   "source": [
    "!cp ../data/meh_scraper.db ../data/meh_scraper_qa.db "
   ]
  },
  {
   "cell_type": "code",
   "execution_count": 4,
   "metadata": {
    "papermill": {
     "duration": 1.436113,
     "end_time": "2020-08-08T12:30:33.403887",
     "exception": false,
     "start_time": "2020-08-08T12:30:31.967774",
     "status": "completed"
    },
    "tags": [
     "parameters"
    ]
   },
   "outputs": [],
   "source": [
    "# os.chdir('..')\n",
    "db_location = '../data/meh_scraper_qa.db'"
   ]
  },
  {
   "cell_type": "code",
   "execution_count": 5,
   "metadata": {
    "papermill": {
     "duration": 3.334037,
     "end_time": "2020-08-08T12:30:37.061609",
     "exception": false,
     "start_time": "2020-08-08T12:30:33.727572",
     "status": "completed"
    },
    "tags": [
     "injected-parameters"
    ]
   },
   "outputs": [],
   "source": [
    "# Parameters\n",
    "db_location = \"data/meh_scraper.db\"\n"
   ]
  },
  {
   "cell_type": "code",
   "execution_count": 6,
   "metadata": {
    "papermill": {
     "duration": 10.100477,
     "end_time": "2020-08-08T12:30:47.571851",
     "exception": false,
     "start_time": "2020-08-08T12:30:37.471374",
     "status": "completed"
    },
    "tags": []
   },
   "outputs": [],
   "source": [
    "con = sqlite3.connect(db_location)\n",
    "cursor = con.cursor()"
   ]
  },
  {
   "cell_type": "code",
   "execution_count": 7,
   "metadata": {
    "papermill": {
     "duration": 314.4464,
     "end_time": "2020-08-08T12:36:03.233698",
     "exception": false,
     "start_time": "2020-08-08T12:30:48.787298",
     "status": "completed"
    },
    "tags": []
   },
   "outputs": [],
   "source": [
    "stats = soup.find(class_='community-stats')"
   ]
  },
  {
   "cell_type": "code",
   "execution_count": 8,
   "metadata": {
    "papermill": {
     "duration": 2.407084,
     "end_time": "2020-08-08T12:36:06.073690",
     "exception": false,
     "start_time": "2020-08-08T12:36:03.666606",
     "status": "completed"
    },
    "tags": []
   },
   "outputs": [],
   "source": [
    "stats1 = str(stats)\n",
    "stats2 = stats1.replace('\\'','\\'\\'')"
   ]
  },
  {
   "cell_type": "code",
   "execution_count": 9,
   "metadata": {
    "papermill": {
     "duration": 292.436801,
     "end_time": "2020-08-08T12:41:04.724223",
     "exception": false,
     "start_time": "2020-08-08T12:36:12.287422",
     "status": "completed"
    },
    "tags": []
   },
   "outputs": [
    {
     "data": {
      "text/plain": [
       "<sqlite3.Cursor at 0x6e03a9e0>"
      ]
     },
     "execution_count": 9,
     "metadata": {},
     "output_type": "execute_result"
    }
   ],
   "source": [
    "cursor.execute(\"\"\"INSERT INTO raw_site_community_stats (date, time, raw_site) \n",
    "        VALUES ('{0}', '{1}', '{2}')\"\"\".format(current_date, current_time, stats2))"
   ]
  },
  {
   "cell_type": "code",
   "execution_count": 10,
   "metadata": {
    "papermill": {
     "duration": 18.060828,
     "end_time": "2020-08-08T12:41:24.645995",
     "exception": false,
     "start_time": "2020-08-08T12:41:06.585167",
     "status": "completed"
    },
    "tags": []
   },
   "outputs": [],
   "source": [
    "con.commit()"
   ]
  },
  {
   "cell_type": "code",
   "execution_count": 11,
   "metadata": {
    "papermill": {
     "duration": 44.389415,
     "end_time": "2020-08-08T12:42:10.967310",
     "exception": false,
     "start_time": "2020-08-08T12:41:26.577895",
     "status": "completed"
    },
    "tags": []
   },
   "outputs": [],
   "source": [
    "con.close()"
   ]
  },
  {
   "cell_type": "markdown",
   "metadata": {
    "papermill": {
     "duration": 0.392413,
     "end_time": "2020-08-08T12:42:12.472466",
     "exception": false,
     "start_time": "2020-08-08T12:42:12.080053",
     "status": "completed"
    },
    "tags": []
   },
   "source": [
    "## Parse Wanted Fields"
   ]
  },
  {
   "cell_type": "code",
   "execution_count": 12,
   "metadata": {
    "papermill": {
     "duration": 22.57612,
     "end_time": "2020-08-08T12:42:35.551272",
     "exception": false,
     "start_time": "2020-08-08T12:42:12.975152",
     "status": "completed"
    },
    "tags": []
   },
   "outputs": [],
   "source": [
    "parsed_nums = {}\n",
    "parsed_nums['date'] = current_date\n",
    "parsed_nums['time'] = current_time"
   ]
  },
  {
   "cell_type": "markdown",
   "metadata": {
    "papermill": {
     "duration": 0.378942,
     "end_time": "2020-08-08T12:42:36.832161",
     "exception": false,
     "start_time": "2020-08-08T12:42:36.453219",
     "status": "completed"
    },
    "tags": []
   },
   "source": [
    "### Page Views"
   ]
  },
  {
   "cell_type": "code",
   "execution_count": 13,
   "metadata": {
    "papermill": {
     "duration": 28.671074,
     "end_time": "2020-08-08T12:43:06.012069",
     "exception": false,
     "start_time": "2020-08-08T12:42:37.340995",
     "status": "completed"
    },
    "scrolled": true,
    "tags": []
   },
   "outputs": [],
   "source": [
    "page_views = stats.find('div', {'id':'pageviews'})"
   ]
  },
  {
   "cell_type": "code",
   "execution_count": 14,
   "metadata": {
    "papermill": {
     "duration": 51.282227,
     "end_time": "2020-08-08T12:43:57.693125",
     "exception": false,
     "start_time": "2020-08-08T12:43:06.410898",
     "status": "completed"
    },
    "tags": []
   },
   "outputs": [],
   "source": [
    "page_view_secondary = page_views.find(class_='secondary').get_text()\n",
    "secondary_parts = page_view_secondary.rstrip().lstrip().split(', ')\n",
    "for visit_method, method_num in zip(secondary_parts, range(1,3)):\n",
    "    visit_parts = visit_method.split('% ')\n",
    "    parsed_nums['Page Views ' + str(method_num)+' Name'] = visit_parts[1]\n",
    "    parsed_nums['Page Views ' + str(method_num)+' Percent'] = int(visit_parts[0])"
   ]
  },
  {
   "cell_type": "code",
   "execution_count": 15,
   "metadata": {
    "papermill": {
     "duration": 23969.001339,
     "end_time": "2020-08-08T19:23:35.063941",
     "exception": false,
     "start_time": "2020-08-08T12:44:06.062602",
     "status": "completed"
    },
    "tags": []
   },
   "outputs": [],
   "source": [
    "primary_class = page_views.find_all(class_='primary')\n",
    "primary_numbs = [x.find('strong').get_text() for x in primary_class]\n",
    "parsed_nums['# Visited'] = int(primary_numbs[0])\n",
    "parsed_nums['Clicked Meh'] = int(primary_numbs[1])\n"
   ]
  },
  {
   "cell_type": "code",
   "execution_count": 16,
   "metadata": {
    "papermill": {
     "duration": 54.628959,
     "end_time": "2020-08-08T19:24:33.110175",
     "exception": false,
     "start_time": "2020-08-08T19:23:38.481216",
     "status": "completed"
    },
    "tags": []
   },
   "outputs": [
    {
     "data": {
      "text/plain": [
       "{'date': '2020-08-08',\n",
       " 'time': '08:30:23',\n",
       " 'Page Views 1 Name': 'on a phone',\n",
       " 'Page Views 1 Percent': 52,\n",
       " 'Page Views 2 Name': 'on a tablet.',\n",
       " 'Page Views 2 Percent': 3,\n",
       " '# Visited': 23659,\n",
       " 'Clicked Meh': 2189}"
      ]
     },
     "execution_count": 16,
     "metadata": {},
     "output_type": "execute_result"
    }
   ],
   "source": [
    "parsed_nums"
   ]
  },
  {
   "cell_type": "markdown",
   "metadata": {
    "papermill": {
     "duration": 12.353234,
     "end_time": "2020-08-08T19:24:52.870049",
     "exception": false,
     "start_time": "2020-08-08T19:24:40.516815",
     "status": "completed"
    },
    "tags": []
   },
   "source": [
    "### Referrals"
   ]
  },
  {
   "cell_type": "code",
   "execution_count": 17,
   "metadata": {
    "papermill": {
     "duration": 7.465849,
     "end_time": "2020-08-08T19:25:35.329621",
     "exception": false,
     "start_time": "2020-08-08T19:25:27.863772",
     "status": "completed"
    },
    "scrolled": true,
    "tags": []
   },
   "outputs": [],
   "source": [
    "referrals = stats.find('div', {'id':'referrals'})"
   ]
  },
  {
   "cell_type": "code",
   "execution_count": 18,
   "metadata": {
    "papermill": {
     "duration": 11.804746,
     "end_time": "2020-08-08T19:25:48.935615",
     "exception": false,
     "start_time": "2020-08-08T19:25:37.130869",
     "status": "completed"
    },
    "tags": []
   },
   "outputs": [],
   "source": [
    "parsed_nums['Typed Meh Percent'] = int(referrals.find(class_='primary').find('strong').get_text()[:-1])"
   ]
  },
  {
   "cell_type": "code",
   "execution_count": 19,
   "metadata": {
    "papermill": {
     "duration": 7003.094122,
     "end_time": "2020-08-08T21:22:34.980778",
     "exception": false,
     "start_time": "2020-08-08T19:25:51.886656",
     "status": "completed"
    },
    "tags": []
   },
   "outputs": [],
   "source": [
    "parsed_nums['Referrals Percent'] = int(referrals.find(class_='secondary').find('strong').get_text()[:-1])"
   ]
  },
  {
   "cell_type": "code",
   "execution_count": null,
   "metadata": {
    "papermill": {
     "duration": null,
     "end_time": null,
     "exception": null,
     "start_time": null,
     "status": "completed"
    },
    "tags": []
   },
   "outputs": [],
   "source": [
    "referrers = referrals.find_all(class_='referrer')\n",
    "for ref, ref_num in zip(referrers, range(1, len(referrers)+1)):\n",
    "    parsed_nums['Referrer '+str(ref_num) + ' Percent'] = float(ref['data-percentage'])\n",
    "    parsed_nums['Referrer '+str(ref_num) + ' Name'] = ref.get_text().lstrip().rstrip().split(' \\n')[0]\n",
    "    "
   ]
  },
  {
   "cell_type": "code",
   "execution_count": null,
   "metadata": {
    "papermill": {
     "duration": null,
     "end_time": null,
     "exception": null,
     "start_time": null,
     "status": "completed"
    },
    "tags": []
   },
   "outputs": [],
   "source": []
  },
  {
   "cell_type": "markdown",
   "metadata": {
    "papermill": {
     "duration": null,
     "end_time": null,
     "exception": null,
     "start_time": null,
     "status": "completed"
    },
    "tags": []
   },
   "source": [
    "### Order Counts"
   ]
  },
  {
   "cell_type": "code",
   "execution_count": null,
   "metadata": {
    "papermill": {
     "duration": null,
     "end_time": null,
     "exception": null,
     "start_time": null,
     "status": "completed"
    },
    "scrolled": true,
    "tags": []
   },
   "outputs": [],
   "source": [
    "order_stats = stats.find('div', {'id': 'order-stats'})"
   ]
  },
  {
   "cell_type": "code",
   "execution_count": null,
   "metadata": {
    "papermill": {
     "duration": null,
     "end_time": null,
     "exception": null,
     "start_time": null,
     "status": "completed"
    },
    "tags": []
   },
   "outputs": [],
   "source": [
    "order_nums = [re.findall('\\d+', x.get_text())[0] for x in order_stats.find_all(class_='primary')]"
   ]
  },
  {
   "cell_type": "code",
   "execution_count": null,
   "metadata": {
    "papermill": {
     "duration": null,
     "end_time": null,
     "exception": null,
     "start_time": null,
     "status": "completed"
    },
    "tags": []
   },
   "outputs": [],
   "source": [
    "parsed_nums['Items Sold'] = order_nums[0]\n",
    "parsed_nums['Dollars Sold'] = order_nums[1]"
   ]
  },
  {
   "cell_type": "markdown",
   "metadata": {
    "papermill": {
     "duration": null,
     "end_time": null,
     "exception": null,
     "start_time": null,
     "status": "completed"
    },
    "tags": []
   },
   "source": [
    "## Export"
   ]
  },
  {
   "cell_type": "code",
   "execution_count": null,
   "metadata": {
    "papermill": {
     "duration": null,
     "end_time": null,
     "exception": null,
     "start_time": null,
     "status": "completed"
    },
    "tags": []
   },
   "outputs": [],
   "source": [
    "export_series = pd.DataFrame(parsed_nums, index=[1])"
   ]
  },
  {
   "cell_type": "code",
   "execution_count": null,
   "metadata": {
    "papermill": {
     "duration": null,
     "end_time": null,
     "exception": null,
     "start_time": null,
     "status": "completed"
    },
    "tags": []
   },
   "outputs": [],
   "source": [
    "export_series"
   ]
  },
  {
   "cell_type": "code",
   "execution_count": null,
   "metadata": {
    "papermill": {
     "duration": null,
     "end_time": null,
     "exception": null,
     "start_time": null,
     "status": "completed"
    },
    "tags": []
   },
   "outputs": [],
   "source": [
    "con = sqlite3.connect(db_location)\n",
    "cursor = con.cursor()\n",
    "export_series.to_sql('selling_details', con, if_exists='append', index=False)"
   ]
  },
  {
   "cell_type": "code",
   "execution_count": null,
   "metadata": {
    "papermill": {
     "duration": null,
     "end_time": null,
     "exception": null,
     "start_time": null,
     "status": "completed"
    },
    "tags": []
   },
   "outputs": [],
   "source": [
    "con.commit()\n",
    "con.close()"
   ]
  },
  {
   "cell_type": "code",
   "execution_count": null,
   "metadata": {
    "papermill": {
     "duration": null,
     "end_time": null,
     "exception": null,
     "start_time": null,
     "status": "completed"
    },
    "tags": []
   },
   "outputs": [],
   "source": []
  },
  {
   "cell_type": "code",
   "execution_count": null,
   "metadata": {
    "papermill": {
     "duration": null,
     "end_time": null,
     "exception": null,
     "start_time": null,
     "status": "completed"
    },
    "tags": []
   },
   "outputs": [],
   "source": []
  }
 ],
 "metadata": {
  "kernelspec": {
   "display_name": "Python 3",
   "language": "python",
   "name": "python3"
  },
  "language_info": {
   "codemirror_mode": {
    "name": "ipython",
    "version": 3
   },
   "file_extension": ".py",
   "mimetype": "text/x-python",
   "name": "python",
   "nbconvert_exporter": "python",
   "pygments_lexer": "ipython3",
   "version": "3.7.3"
  },
  "papermill": {
   "duration": 31950.817711,
   "end_time": "2020-08-08T21:22:39.054977",
   "environment_variables": {},
   "exception": null,
   "input_path": "notebooks/Parse_Site.ipynb",
   "output_path": "notebooks/run_notebooks/Parse_Site_08-08-20.ipynb",
   "parameters": {
    "db_location": "data/meh_scraper.db"
   },
   "start_time": "2020-08-08T12:30:08.237266",
   "version": "1.2.1"
  },
  "toc": {
   "base_numbering": 1,
   "nav_menu": {},
   "number_sections": true,
   "sideBar": true,
   "skip_h1_title": false,
   "title_cell": "Table of Contents",
   "title_sidebar": "Contents",
   "toc_cell": false,
   "toc_position": {},
   "toc_section_display": true,
   "toc_window_display": true
  }
 },
 "nbformat": 4,
 "nbformat_minor": 2
}