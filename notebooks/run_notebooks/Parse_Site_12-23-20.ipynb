{
 "cells": [
  {
   "cell_type": "markdown",
   "metadata": {
    "tags": [
     "papermill-error-cell-tag"
    ]
   },
   "source": [
    "<span style=\"color:red; font-family:Helvetica Neue, Helvetica, Arial, sans-serif; font-size:2em;\">An Exception was encountered at '<a href=\"#papermill-error-cell\">In [13]</a>'.</span>"
   ]
  },
  {
   "cell_type": "code",
   "execution_count": 1,
   "metadata": {
    "execution": {
     "iopub.execute_input": "2020-12-23T23:45:06.802759Z",
     "iopub.status.busy": "2020-12-23T23:45:06.801663Z",
     "iopub.status.idle": "2020-12-23T23:45:08.022593Z",
     "shell.execute_reply": "2020-12-23T23:45:08.023936Z"
    },
    "papermill": {
     "duration": 1.289098,
     "end_time": "2020-12-23T23:45:08.024156",
     "exception": false,
     "start_time": "2020-12-23T23:45:06.735058",
     "status": "completed"
    },
    "tags": []
   },
   "outputs": [],
   "source": [
    "import os \n",
    "import sys\n",
    "import pandas as pd\n",
    "import time\n",
    "import bs4\n",
    "from bs4 import BeautifulSoup\n",
    "import requests\n",
    "import re\n",
    "import json\n",
    "import datetime\n",
    "import sqlite3\n",
    "import logging\n",
    "%load_ext autoreload\n",
    "%autoreload 2"
   ]
  },
  {
   "cell_type": "code",
   "execution_count": 2,
   "metadata": {
    "execution": {
     "iopub.execute_input": "2020-12-23T23:45:08.085830Z",
     "iopub.status.busy": "2020-12-23T23:45:08.085187Z",
     "iopub.status.idle": "2020-12-23T23:45:08.102785Z",
     "shell.execute_reply": "2020-12-23T23:45:08.103626Z"
    },
    "papermill": {
     "duration": 0.054192,
     "end_time": "2020-12-23T23:45:08.103827",
     "exception": false,
     "start_time": "2020-12-23T23:45:08.049635",
     "status": "completed"
    },
    "tags": []
   },
   "outputs": [
    {
     "name": "stdout",
     "output_type": "stream",
     "text": [
      "2020-12-23 23:45:08.096302\n"
     ]
    }
   ],
   "source": [
    "current_dt = datetime.datetime.now()\n",
    "current_date = str(current_dt.date())\n",
    "current_time = str(current_dt.time().strftime('%H:%M:%S'))\n",
    "print(current_dt)"
   ]
  },
  {
   "cell_type": "code",
   "execution_count": 3,
   "metadata": {
    "execution": {
     "iopub.execute_input": "2020-12-23T23:45:08.165670Z",
     "iopub.status.busy": "2020-12-23T23:45:08.164941Z",
     "iopub.status.idle": "2020-12-23T23:45:34.540098Z",
     "shell.execute_reply": "2020-12-23T23:45:34.541308Z"
    },
    "papermill": {
     "duration": 26.408664,
     "end_time": "2020-12-23T23:45:34.541543",
     "exception": false,
     "start_time": "2020-12-23T23:45:08.132879",
     "status": "completed"
    },
    "tags": []
   },
   "outputs": [
    {
     "name": "stdout",
     "output_type": "stream",
     "text": [
      "Status Code 500\n"
     ]
    }
   ],
   "source": [
    "link_homepage = 'https://meh.com'\n",
    "page = requests.get(link_homepage)\n",
    "print('Status Code', page.status_code)\n",
    "soup = BeautifulSoup(page.content, 'html.parser')"
   ]
  },
  {
   "cell_type": "raw",
   "metadata": {
    "papermill": {
     "duration": 0.024936,
     "end_time": "2020-12-23T23:45:34.598203",
     "exception": false,
     "start_time": "2020-12-23T23:45:34.573267",
     "status": "completed"
    },
    "tags": []
   },
   "source": [
    "soup1 = str(soup)\n",
    "soup2 = soup1.replace('\\'','\\'\\'')"
   ]
  },
  {
   "cell_type": "markdown",
   "metadata": {
    "papermill": {
     "duration": 0.050389,
     "end_time": "2020-12-23T23:45:34.676562",
     "exception": false,
     "start_time": "2020-12-23T23:45:34.626173",
     "status": "completed"
    },
    "tags": []
   },
   "source": [
    "## Save Raw Response"
   ]
  },
  {
   "cell_type": "raw",
   "metadata": {
    "papermill": {
     "duration": 0.026844,
     "end_time": "2020-12-23T23:45:34.748676",
     "exception": false,
     "start_time": "2020-12-23T23:45:34.721832",
     "status": "completed"
    },
    "tags": []
   },
   "source": [
    "!cp ../data/meh_scraper.db ../data/meh_scraper_qa.db "
   ]
  },
  {
   "cell_type": "code",
   "execution_count": 4,
   "metadata": {
    "execution": {
     "iopub.execute_input": "2020-12-23T23:45:34.801052Z",
     "iopub.status.busy": "2020-12-23T23:45:34.800542Z",
     "iopub.status.idle": "2020-12-23T23:45:34.811342Z",
     "shell.execute_reply": "2020-12-23T23:45:34.816482Z"
    },
    "papermill": {
     "duration": 0.046608,
     "end_time": "2020-12-23T23:45:34.816675",
     "exception": false,
     "start_time": "2020-12-23T23:45:34.770067",
     "status": "completed"
    },
    "tags": [
     "parameters"
    ]
   },
   "outputs": [],
   "source": [
    "# os.chdir('..')\n",
    "db_location = '../data/meh_scraper_qa.db'"
   ]
  },
  {
   "cell_type": "code",
   "execution_count": 5,
   "metadata": {
    "execution": {
     "iopub.execute_input": "2020-12-23T23:45:34.869373Z",
     "iopub.status.busy": "2020-12-23T23:45:34.868756Z",
     "iopub.status.idle": "2020-12-23T23:45:34.879816Z",
     "shell.execute_reply": "2020-12-23T23:45:34.880614Z"
    },
    "papermill": {
     "duration": 0.041291,
     "end_time": "2020-12-23T23:45:34.880772",
     "exception": false,
     "start_time": "2020-12-23T23:45:34.839481",
     "status": "completed"
    },
    "tags": [
     "injected-parameters"
    ]
   },
   "outputs": [],
   "source": [
    "# Parameters\n",
    "db_location = \"data/meh_scraper.db\"\n"
   ]
  },
  {
   "cell_type": "code",
   "execution_count": 6,
   "metadata": {
    "execution": {
     "iopub.execute_input": "2020-12-23T23:45:34.933877Z",
     "iopub.status.busy": "2020-12-23T23:45:34.933305Z",
     "iopub.status.idle": "2020-12-23T23:45:34.947237Z",
     "shell.execute_reply": "2020-12-23T23:45:34.948144Z"
    },
    "papermill": {
     "duration": 0.046735,
     "end_time": "2020-12-23T23:45:34.948318",
     "exception": false,
     "start_time": "2020-12-23T23:45:34.901583",
     "status": "completed"
    },
    "tags": []
   },
   "outputs": [],
   "source": [
    "con = sqlite3.connect(db_location)\n",
    "cursor = con.cursor()"
   ]
  },
  {
   "cell_type": "code",
   "execution_count": 7,
   "metadata": {
    "execution": {
     "iopub.execute_input": "2020-12-23T23:45:35.005697Z",
     "iopub.status.busy": "2020-12-23T23:45:35.005002Z",
     "iopub.status.idle": "2020-12-23T23:45:35.020481Z",
     "shell.execute_reply": "2020-12-23T23:45:35.021412Z"
    },
    "papermill": {
     "duration": 0.050123,
     "end_time": "2020-12-23T23:45:35.021591",
     "exception": false,
     "start_time": "2020-12-23T23:45:34.971468",
     "status": "completed"
    },
    "tags": []
   },
   "outputs": [],
   "source": [
    "stats = soup.find(class_='community-stats')"
   ]
  },
  {
   "cell_type": "code",
   "execution_count": 8,
   "metadata": {
    "execution": {
     "iopub.execute_input": "2020-12-23T23:45:35.081684Z",
     "iopub.status.busy": "2020-12-23T23:45:35.080949Z",
     "iopub.status.idle": "2020-12-23T23:45:35.096193Z",
     "shell.execute_reply": "2020-12-23T23:45:35.097060Z"
    },
    "papermill": {
     "duration": 0.046072,
     "end_time": "2020-12-23T23:45:35.097226",
     "exception": false,
     "start_time": "2020-12-23T23:45:35.051154",
     "status": "completed"
    },
    "tags": []
   },
   "outputs": [],
   "source": [
    "stats1 = str(stats)\n",
    "stats2 = stats1.replace('\\'','\\'\\'')"
   ]
  },
  {
   "cell_type": "code",
   "execution_count": 9,
   "metadata": {
    "execution": {
     "iopub.execute_input": "2020-12-23T23:45:35.153244Z",
     "iopub.status.busy": "2020-12-23T23:45:35.152724Z",
     "iopub.status.idle": "2020-12-23T23:45:35.174043Z",
     "shell.execute_reply": "2020-12-23T23:45:35.179255Z"
    },
    "papermill": {
     "duration": 0.060219,
     "end_time": "2020-12-23T23:45:35.179483",
     "exception": false,
     "start_time": "2020-12-23T23:45:35.119264",
     "status": "completed"
    },
    "tags": []
   },
   "outputs": [
    {
     "data": {
      "text/plain": [
       "<sqlite3.Cursor at 0x7fb4f56549d0>"
      ]
     },
     "execution_count": 9,
     "metadata": {},
     "output_type": "execute_result"
    }
   ],
   "source": [
    "cursor.execute(\"\"\"INSERT INTO raw_site_community_stats (date, time, raw_site) \n",
    "        VALUES ('{0}', '{1}', '{2}')\"\"\".format(current_date, current_time, stats2))"
   ]
  },
  {
   "cell_type": "code",
   "execution_count": 10,
   "metadata": {
    "execution": {
     "iopub.execute_input": "2020-12-23T23:45:35.233351Z",
     "iopub.status.busy": "2020-12-23T23:45:35.232822Z",
     "iopub.status.idle": "2020-12-23T23:45:35.251733Z",
     "shell.execute_reply": "2020-12-23T23:45:35.252769Z"
    },
    "papermill": {
     "duration": 0.050516,
     "end_time": "2020-12-23T23:45:35.252952",
     "exception": false,
     "start_time": "2020-12-23T23:45:35.202436",
     "status": "completed"
    },
    "tags": []
   },
   "outputs": [],
   "source": [
    "con.commit()"
   ]
  },
  {
   "cell_type": "code",
   "execution_count": 11,
   "metadata": {
    "execution": {
     "iopub.execute_input": "2020-12-23T23:45:35.317436Z",
     "iopub.status.busy": "2020-12-23T23:45:35.316916Z",
     "iopub.status.idle": "2020-12-23T23:45:35.333284Z",
     "shell.execute_reply": "2020-12-23T23:45:35.334105Z"
    },
    "papermill": {
     "duration": 0.053145,
     "end_time": "2020-12-23T23:45:35.334266",
     "exception": false,
     "start_time": "2020-12-23T23:45:35.281121",
     "status": "completed"
    },
    "tags": []
   },
   "outputs": [],
   "source": [
    "con.close()"
   ]
  },
  {
   "cell_type": "markdown",
   "metadata": {
    "papermill": {
     "duration": 0.026104,
     "end_time": "2020-12-23T23:45:35.383614",
     "exception": false,
     "start_time": "2020-12-23T23:45:35.357510",
     "status": "completed"
    },
    "tags": []
   },
   "source": [
    "## Parse Wanted Fields"
   ]
  },
  {
   "cell_type": "code",
   "execution_count": 12,
   "metadata": {
    "execution": {
     "iopub.execute_input": "2020-12-23T23:45:35.441526Z",
     "iopub.status.busy": "2020-12-23T23:45:35.440828Z",
     "iopub.status.idle": "2020-12-23T23:45:35.454495Z",
     "shell.execute_reply": "2020-12-23T23:45:35.455333Z"
    },
    "papermill": {
     "duration": 0.044394,
     "end_time": "2020-12-23T23:45:35.455495",
     "exception": false,
     "start_time": "2020-12-23T23:45:35.411101",
     "status": "completed"
    },
    "tags": []
   },
   "outputs": [],
   "source": [
    "parsed_nums = {}\n",
    "parsed_nums['date'] = current_date\n",
    "parsed_nums['time'] = current_time"
   ]
  },
  {
   "cell_type": "markdown",
   "metadata": {
    "papermill": {
     "duration": 0.023508,
     "end_time": "2020-12-23T23:45:35.510298",
     "exception": false,
     "start_time": "2020-12-23T23:45:35.486790",
     "status": "completed"
    },
    "tags": []
   },
   "source": [
    "### Page Views"
   ]
  },
  {
   "cell_type": "markdown",
   "metadata": {
    "tags": [
     "papermill-error-cell-tag"
    ]
   },
   "source": [
    "<span id=\"papermill-error-cell\" style=\"color:red; font-family:Helvetica Neue, Helvetica, Arial, sans-serif; font-size:2em;\">Execution using papermill encountered an exception here and stopped:</span>"
   ]
  },
  {
   "cell_type": "code",
   "execution_count": 13,
   "metadata": {
    "execution": {
     "iopub.execute_input": "2020-12-23T23:45:35.573864Z",
     "iopub.status.busy": "2020-12-23T23:45:35.573085Z",
     "iopub.status.idle": "2020-12-23T23:45:35.683229Z",
     "shell.execute_reply": "2020-12-23T23:45:35.681381Z"
    },
    "papermill": {
     "duration": 0.150268,
     "end_time": "2020-12-23T23:45:35.683444",
     "exception": true,
     "start_time": "2020-12-23T23:45:35.533176",
     "status": "failed"
    },
    "scrolled": true,
    "tags": []
   },
   "outputs": [
    {
     "ename": "AttributeError",
     "evalue": "'NoneType' object has no attribute 'find'",
     "output_type": "error",
     "traceback": [
      "\u001b[0;31m---------------------------------------------------------------------------\u001b[0m",
      "\u001b[0;31mAttributeError\u001b[0m                            Traceback (most recent call last)",
      "\u001b[0;32m<ipython-input-13-4649e5b69de4>\u001b[0m in \u001b[0;36m<module>\u001b[0;34m\u001b[0m\n\u001b[0;32m----> 1\u001b[0;31m \u001b[0mpage_views\u001b[0m \u001b[0;34m=\u001b[0m \u001b[0mstats\u001b[0m\u001b[0;34m.\u001b[0m\u001b[0mfind\u001b[0m\u001b[0;34m(\u001b[0m\u001b[0;34m'div'\u001b[0m\u001b[0;34m,\u001b[0m \u001b[0;34m{\u001b[0m\u001b[0;34m'id'\u001b[0m\u001b[0;34m:\u001b[0m\u001b[0;34m'pageviews'\u001b[0m\u001b[0;34m}\u001b[0m\u001b[0;34m)\u001b[0m\u001b[0;34m\u001b[0m\u001b[0;34m\u001b[0m\u001b[0m\n\u001b[0m",
      "\u001b[0;31mAttributeError\u001b[0m: 'NoneType' object has no attribute 'find'"
     ]
    }
   ],
   "source": [
    "page_views = stats.find('div', {'id':'pageviews'})"
   ]
  },
  {
   "cell_type": "code",
   "execution_count": null,
   "metadata": {
    "papermill": {
     "duration": null,
     "end_time": null,
     "exception": null,
     "start_time": null,
     "status": "pending"
    },
    "tags": []
   },
   "outputs": [],
   "source": [
    "page_view_secondary = page_views.find(class_='secondary').get_text()\n",
    "secondary_parts = page_view_secondary.rstrip().lstrip().split(', ')\n",
    "for visit_method, method_num in zip(secondary_parts, range(1,3)):\n",
    "    visit_parts = visit_method.split('% ')\n",
    "    parsed_nums['Page Views ' + str(method_num)+' Name'] = visit_parts[1]\n",
    "    parsed_nums['Page Views ' + str(method_num)+' Percent'] = int(visit_parts[0])"
   ]
  },
  {
   "cell_type": "code",
   "execution_count": null,
   "metadata": {
    "papermill": {
     "duration": null,
     "end_time": null,
     "exception": null,
     "start_time": null,
     "status": "pending"
    },
    "tags": []
   },
   "outputs": [],
   "source": [
    "primary_class = page_views.find_all(class_='primary')\n",
    "primary_numbs = [x.find('strong').get_text() for x in primary_class]\n",
    "parsed_nums['# Visited'] = int(primary_numbs[0])\n",
    "parsed_nums['Clicked Meh'] = int(primary_numbs[1])\n"
   ]
  },
  {
   "cell_type": "code",
   "execution_count": null,
   "metadata": {
    "papermill": {
     "duration": null,
     "end_time": null,
     "exception": null,
     "start_time": null,
     "status": "pending"
    },
    "tags": []
   },
   "outputs": [],
   "source": [
    "parsed_nums"
   ]
  },
  {
   "cell_type": "markdown",
   "metadata": {
    "papermill": {
     "duration": null,
     "end_time": null,
     "exception": null,
     "start_time": null,
     "status": "pending"
    },
    "tags": []
   },
   "source": [
    "### Referrals"
   ]
  },
  {
   "cell_type": "code",
   "execution_count": null,
   "metadata": {
    "papermill": {
     "duration": null,
     "end_time": null,
     "exception": null,
     "start_time": null,
     "status": "pending"
    },
    "scrolled": true,
    "tags": []
   },
   "outputs": [],
   "source": [
    "referrals = stats.find('div', {'id':'referrals'})"
   ]
  },
  {
   "cell_type": "code",
   "execution_count": null,
   "metadata": {
    "papermill": {
     "duration": null,
     "end_time": null,
     "exception": null,
     "start_time": null,
     "status": "pending"
    },
    "tags": []
   },
   "outputs": [],
   "source": [
    "parsed_nums['Typed Meh Percent'] = int(referrals.find(class_='primary').find('strong').get_text()[:-1])"
   ]
  },
  {
   "cell_type": "code",
   "execution_count": null,
   "metadata": {
    "papermill": {
     "duration": null,
     "end_time": null,
     "exception": null,
     "start_time": null,
     "status": "pending"
    },
    "tags": []
   },
   "outputs": [],
   "source": [
    "parsed_nums['Referrals Percent'] = int(referrals.find(class_='secondary').find('strong').get_text()[:-1])"
   ]
  },
  {
   "cell_type": "code",
   "execution_count": null,
   "metadata": {
    "papermill": {
     "duration": null,
     "end_time": null,
     "exception": null,
     "start_time": null,
     "status": "pending"
    },
    "tags": []
   },
   "outputs": [],
   "source": [
    "referrers = referrals.find_all(class_='referrer')\n",
    "for ref, ref_num in zip(referrers, range(1, len(referrers)+1)):\n",
    "    parsed_nums['Referrer '+str(ref_num) + ' Percent'] = float(ref['data-percentage'])\n",
    "    parsed_nums['Referrer '+str(ref_num) + ' Name'] = ref.get_text().lstrip().rstrip().split(' \\n')[0]\n",
    "    "
   ]
  },
  {
   "cell_type": "code",
   "execution_count": null,
   "metadata": {
    "papermill": {
     "duration": null,
     "end_time": null,
     "exception": null,
     "start_time": null,
     "status": "pending"
    },
    "tags": []
   },
   "outputs": [],
   "source": []
  },
  {
   "cell_type": "markdown",
   "metadata": {
    "papermill": {
     "duration": null,
     "end_time": null,
     "exception": null,
     "start_time": null,
     "status": "pending"
    },
    "tags": []
   },
   "source": [
    "### Order Counts"
   ]
  },
  {
   "cell_type": "code",
   "execution_count": null,
   "metadata": {
    "papermill": {
     "duration": null,
     "end_time": null,
     "exception": null,
     "start_time": null,
     "status": "pending"
    },
    "scrolled": true,
    "tags": []
   },
   "outputs": [],
   "source": [
    "order_stats = stats.find('div', {'id': 'order-stats'})"
   ]
  },
  {
   "cell_type": "code",
   "execution_count": null,
   "metadata": {
    "papermill": {
     "duration": null,
     "end_time": null,
     "exception": null,
     "start_time": null,
     "status": "pending"
    },
    "tags": []
   },
   "outputs": [],
   "source": [
    "order_nums = [re.findall('\\d+', x.get_text())[0] for x in order_stats.find_all(class_='primary')]"
   ]
  },
  {
   "cell_type": "code",
   "execution_count": null,
   "metadata": {
    "papermill": {
     "duration": null,
     "end_time": null,
     "exception": null,
     "start_time": null,
     "status": "pending"
    },
    "tags": []
   },
   "outputs": [],
   "source": [
    "parsed_nums['Items Sold'] = order_nums[0]\n",
    "parsed_nums['Dollars Sold'] = order_nums[1]"
   ]
  },
  {
   "cell_type": "markdown",
   "metadata": {
    "papermill": {
     "duration": null,
     "end_time": null,
     "exception": null,
     "start_time": null,
     "status": "pending"
    },
    "tags": []
   },
   "source": [
    "## Export"
   ]
  },
  {
   "cell_type": "code",
   "execution_count": null,
   "metadata": {
    "papermill": {
     "duration": null,
     "end_time": null,
     "exception": null,
     "start_time": null,
     "status": "pending"
    },
    "tags": []
   },
   "outputs": [],
   "source": [
    "export_series = pd.DataFrame(parsed_nums, index=[1])"
   ]
  },
  {
   "cell_type": "code",
   "execution_count": null,
   "metadata": {
    "papermill": {
     "duration": null,
     "end_time": null,
     "exception": null,
     "start_time": null,
     "status": "pending"
    },
    "tags": []
   },
   "outputs": [],
   "source": [
    "export_series"
   ]
  },
  {
   "cell_type": "code",
   "execution_count": null,
   "metadata": {
    "papermill": {
     "duration": null,
     "end_time": null,
     "exception": null,
     "start_time": null,
     "status": "pending"
    },
    "tags": []
   },
   "outputs": [],
   "source": [
    "con = sqlite3.connect(db_location)\n",
    "cursor = con.cursor()\n",
    "export_series.to_sql('selling_details', con, if_exists='append', index=False)"
   ]
  },
  {
   "cell_type": "code",
   "execution_count": null,
   "metadata": {
    "papermill": {
     "duration": null,
     "end_time": null,
     "exception": null,
     "start_time": null,
     "status": "pending"
    },
    "tags": []
   },
   "outputs": [],
   "source": [
    "con.commit()\n",
    "con.close()"
   ]
  },
  {
   "cell_type": "code",
   "execution_count": null,
   "metadata": {
    "papermill": {
     "duration": null,
     "end_time": null,
     "exception": null,
     "start_time": null,
     "status": "pending"
    },
    "tags": []
   },
   "outputs": [],
   "source": []
  },
  {
   "cell_type": "code",
   "execution_count": null,
   "metadata": {
    "papermill": {
     "duration": null,
     "end_time": null,
     "exception": null,
     "start_time": null,
     "status": "pending"
    },
    "tags": []
   },
   "outputs": [],
   "source": []
  }
 ],
 "metadata": {
  "kernelspec": {
   "display_name": "Python 3",
   "language": "python",
   "name": "python3"
  },
  "language_info": {
   "codemirror_mode": {
    "name": "ipython",
    "version": 3
   },
   "file_extension": ".py",
   "mimetype": "text/x-python",
   "name": "python",
   "nbconvert_exporter": "python",
   "pygments_lexer": "ipython3",
   "version": "3.6.9"
  },
  "papermill": {
   "default_parameters": {},
   "duration": 33.119662,
   "end_time": "2020-12-23T23:45:37.052566",
   "environment_variables": {},
   "exception": true,
   "input_path": "notebooks/Parse_Site.ipynb",
   "output_path": "notebooks/run_notebooks/Parse_Site_12-23-20.ipynb",
   "parameters": {
    "db_location": "data/meh_scraper.db"
   },
   "start_time": "2020-12-23T23:45:03.932904",
   "version": "2.2.0"
  },
  "toc": {
   "base_numbering": 1,
   "nav_menu": {},
   "number_sections": true,
   "sideBar": true,
   "skip_h1_title": false,
   "title_cell": "Table of Contents",
   "title_sidebar": "Contents",
   "toc_cell": false,
   "toc_position": {},
   "toc_section_display": true,
   "toc_window_display": true
  }
 },
 "nbformat": 4,
 "nbformat_minor": 2
}