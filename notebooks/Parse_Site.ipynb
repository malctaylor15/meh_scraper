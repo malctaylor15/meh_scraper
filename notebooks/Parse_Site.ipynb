{
 "cells": [
  {
   "cell_type": "code",
   "execution_count": 1,
   "metadata": {},
   "outputs": [],
   "source": [
    "import os \n",
    "import sys\n",
    "import pandas as pd\n",
    "import time\n",
    "import bs4\n",
    "from bs4 import BeautifulSoup\n",
    "import requests\n",
    "import re\n",
    "import json\n",
    "import datetime\n",
    "import sqlite3\n",
    "import logging\n",
    "%load_ext autoreload\n",
    "%autoreload 2"
   ]
  },
  {
   "cell_type": "code",
   "execution_count": 2,
   "metadata": {},
   "outputs": [
    {
     "name": "stdout",
     "output_type": "stream",
     "text": [
      "2020-02-15 12:31:13.824815\n"
     ]
    }
   ],
   "source": [
    "current_dt = datetime.datetime.now()\n",
    "current_date = str(current_dt.date())\n",
    "current_time = str(current_dt.time().strftime('%H:%M:%S'))\n",
    "print(current_dt)"
   ]
  },
  {
   "cell_type": "code",
   "execution_count": 3,
   "metadata": {},
   "outputs": [
    {
     "name": "stdout",
     "output_type": "stream",
     "text": [
      "Status Code 200\n"
     ]
    }
   ],
   "source": [
    "link_homepage = 'https://meh.com'\n",
    "page = requests.get(link_homepage)\n",
    "print('Status Code', page.status_code)\n",
    "soup = BeautifulSoup(page.content, 'html.parser')"
   ]
  },
  {
   "cell_type": "raw",
   "metadata": {},
   "source": [
    "soup1 = str(soup)\n",
    "soup2 = soup1.replace('\\'','\\'\\'')"
   ]
  },
  {
   "cell_type": "markdown",
   "metadata": {},
   "source": [
    "## Save Raw Response"
   ]
  },
  {
   "cell_type": "raw",
   "metadata": {},
   "source": [
    "!cp ../data/meh_scraper.db ../data/meh_scraper_qa.db "
   ]
  },
  {
   "cell_type": "code",
   "execution_count": 5,
   "metadata": {
    "tags": [
     "parameters"
    ]
   },
   "outputs": [],
   "source": [
    "# os.chdir('..')\n",
    "db_location = '../data/meh_scraper_qa.db'"
   ]
  },
  {
   "cell_type": "code",
   "execution_count": 6,
   "metadata": {},
   "outputs": [],
   "source": [
    "con = sqlite3.connect(db_location)\n",
    "cursor = con.cursor()"
   ]
  },
  {
   "cell_type": "code",
   "execution_count": 7,
   "metadata": {},
   "outputs": [],
   "source": [
    "stats = soup.find(class_='community-stats')"
   ]
  },
  {
   "cell_type": "code",
   "execution_count": 8,
   "metadata": {},
   "outputs": [],
   "source": [
    "stats1 = str(stats)\n",
    "stats2 = stats1.replace('\\'','\\'\\'')"
   ]
  },
  {
   "cell_type": "code",
   "execution_count": 11,
   "metadata": {},
   "outputs": [
    {
     "data": {
      "text/plain": [
       "<sqlite3.Cursor at 0x734c47e0>"
      ]
     },
     "execution_count": 11,
     "metadata": {},
     "output_type": "execute_result"
    }
   ],
   "source": [
    "cursor.execute(\"\"\"INSERT INTO raw_site_community_stats (date, time, raw_site) \n",
    "        VALUES ('{0}', '{1}', '{2}')\"\"\".format(current_date, current_time, stats2))"
   ]
  },
  {
   "cell_type": "code",
   "execution_count": 12,
   "metadata": {},
   "outputs": [],
   "source": [
    "con.commit()"
   ]
  },
  {
   "cell_type": "code",
   "execution_count": 13,
   "metadata": {},
   "outputs": [],
   "source": [
    "con.close()"
   ]
  },
  {
   "cell_type": "markdown",
   "metadata": {},
   "source": [
    "## Parse Wanted Fields"
   ]
  },
  {
   "cell_type": "code",
   "execution_count": 14,
   "metadata": {},
   "outputs": [],
   "source": [
    "parsed_nums = {}\n",
    "parsed_nums['date'] = current_date\n",
    "parsed_nums['time'] = current_time"
   ]
  },
  {
   "cell_type": "markdown",
   "metadata": {},
   "source": [
    "### Page Views"
   ]
  },
  {
   "cell_type": "code",
   "execution_count": 15,
   "metadata": {
    "scrolled": true
   },
   "outputs": [],
   "source": [
    "page_views = stats.find('div', {'id':'pageviews'})"
   ]
  },
  {
   "cell_type": "code",
   "execution_count": 16,
   "metadata": {},
   "outputs": [],
   "source": [
    "page_view_secondary = page_views.find(class_='secondary').get_text()\n",
    "secondary_parts = page_view_secondary.rstrip().lstrip().split(', ')\n",
    "for visit_method, method_num in zip(secondary_parts, range(1,3)):\n",
    "    visit_parts = visit_method.split('% ')\n",
    "    parsed_nums['Page Views ' + str(method_num)+' Name'] = visit_parts[1]\n",
    "    parsed_nums['Page Views ' + str(method_num)+' Percent'] = int(visit_parts[0])"
   ]
  },
  {
   "cell_type": "code",
   "execution_count": 17,
   "metadata": {},
   "outputs": [],
   "source": [
    "primary_class = page_views.find_all(class_='primary')\n",
    "primary_numbs = [x.find('strong').get_text() for x in primary_class]\n",
    "parsed_nums['# Visited'] = int(primary_numbs[0])\n",
    "parsed_nums['Clicked Meh'] = int(primary_numbs[1])\n"
   ]
  },
  {
   "cell_type": "code",
   "execution_count": 18,
   "metadata": {},
   "outputs": [
    {
     "data": {
      "text/plain": [
       "{'date': '2020-02-15',\n",
       " 'time': '12:31:13',\n",
       " 'Page Views 1 Name': 'on a phone',\n",
       " 'Page Views 1 Percent': 51,\n",
       " 'Page Views 2 Name': 'on a tablet.',\n",
       " 'Page Views 2 Percent': 6,\n",
       " '# Visited': 40769,\n",
       " 'Clicked Meh': 3016}"
      ]
     },
     "execution_count": 18,
     "metadata": {},
     "output_type": "execute_result"
    }
   ],
   "source": [
    "parsed_nums"
   ]
  },
  {
   "cell_type": "markdown",
   "metadata": {},
   "source": [
    "### Referrals"
   ]
  },
  {
   "cell_type": "code",
   "execution_count": 19,
   "metadata": {
    "scrolled": true
   },
   "outputs": [],
   "source": [
    "referrals = stats.find('div', {'id':'referrals'})"
   ]
  },
  {
   "cell_type": "code",
   "execution_count": 20,
   "metadata": {},
   "outputs": [],
   "source": [
    "parsed_nums['Typed Meh Percent'] = int(referrals.find(class_='primary').find('strong').get_text()[:-1])"
   ]
  },
  {
   "cell_type": "code",
   "execution_count": 21,
   "metadata": {},
   "outputs": [],
   "source": [
    "parsed_nums['Referrals Percent'] = int(referrals.find(class_='secondary').find('strong').get_text()[:-1])"
   ]
  },
  {
   "cell_type": "code",
   "execution_count": 22,
   "metadata": {},
   "outputs": [],
   "source": [
    "referrers = referrals.find_all(class_='referrer')\n",
    "for ref, ref_num in zip(referrers, range(1, len(referrers)+1)):\n",
    "    parsed_nums['Referrer '+str(ref_num) + ' Percent'] = float(ref['data-percentage'])\n",
    "    parsed_nums['Referrer '+str(ref_num) + ' Name'] = ref.get_text().lstrip().rstrip().split(' \\n')[0]\n",
    "    "
   ]
  },
  {
   "cell_type": "code",
   "execution_count": null,
   "metadata": {},
   "outputs": [],
   "source": []
  },
  {
   "cell_type": "markdown",
   "metadata": {},
   "source": [
    "### Order Counts"
   ]
  },
  {
   "cell_type": "code",
   "execution_count": 23,
   "metadata": {
    "scrolled": true
   },
   "outputs": [],
   "source": [
    "order_stats = stats.find('div', {'id': 'order-stats'})"
   ]
  },
  {
   "cell_type": "code",
   "execution_count": 24,
   "metadata": {},
   "outputs": [],
   "source": [
    "order_nums = [re.findall('\\d+', x.get_text())[0] for x in order_stats.find_all(class_='primary')]"
   ]
  },
  {
   "cell_type": "code",
   "execution_count": 25,
   "metadata": {},
   "outputs": [],
   "source": [
    "parsed_nums['Items Sold'] = order_nums[0]\n",
    "parsed_nums['Dollars Sold'] = order_nums[1]"
   ]
  },
  {
   "cell_type": "markdown",
   "metadata": {},
   "source": [
    "## Export"
   ]
  },
  {
   "cell_type": "code",
   "execution_count": 26,
   "metadata": {},
   "outputs": [],
   "source": [
    "export_series = pd.DataFrame(parsed_nums, index=[1])"
   ]
  },
  {
   "cell_type": "code",
   "execution_count": 27,
   "metadata": {},
   "outputs": [
    {
     "data": {
      "text/html": [
       "<div>\n",
       "<style scoped>\n",
       "    .dataframe tbody tr th:only-of-type {\n",
       "        vertical-align: middle;\n",
       "    }\n",
       "\n",
       "    .dataframe tbody tr th {\n",
       "        vertical-align: top;\n",
       "    }\n",
       "\n",
       "    .dataframe thead th {\n",
       "        text-align: right;\n",
       "    }\n",
       "</style>\n",
       "<table border=\"1\" class=\"dataframe\">\n",
       "  <thead>\n",
       "    <tr style=\"text-align: right;\">\n",
       "      <th></th>\n",
       "      <th>date</th>\n",
       "      <th>time</th>\n",
       "      <th>Page Views 1 Name</th>\n",
       "      <th>Page Views 1 Percent</th>\n",
       "      <th>Page Views 2 Name</th>\n",
       "      <th>Page Views 2 Percent</th>\n",
       "      <th># Visited</th>\n",
       "      <th>Clicked Meh</th>\n",
       "      <th>Typed Meh Percent</th>\n",
       "      <th>Referrals Percent</th>\n",
       "      <th>...</th>\n",
       "      <th>Referrer 2 Percent</th>\n",
       "      <th>Referrer 2 Name</th>\n",
       "      <th>Referrer 3 Percent</th>\n",
       "      <th>Referrer 3 Name</th>\n",
       "      <th>Referrer 4 Percent</th>\n",
       "      <th>Referrer 4 Name</th>\n",
       "      <th>Referrer 5 Percent</th>\n",
       "      <th>Referrer 5 Name</th>\n",
       "      <th>Items Sold</th>\n",
       "      <th>Dollars Sold</th>\n",
       "    </tr>\n",
       "  </thead>\n",
       "  <tbody>\n",
       "    <tr>\n",
       "      <th>1</th>\n",
       "      <td>2020-02-15</td>\n",
       "      <td>12:31:13</td>\n",
       "      <td>on a phone</td>\n",
       "      <td>51</td>\n",
       "      <td>on a tablet.</td>\n",
       "      <td>6</td>\n",
       "      <td>40769</td>\n",
       "      <td>3016</td>\n",
       "      <td>96</td>\n",
       "      <td>4</td>\n",
       "      <td>...</td>\n",
       "      <td>0.171555</td>\n",
       "      <td>dealnews.com</td>\n",
       "      <td>0.163385</td>\n",
       "      <td>facebook.com</td>\n",
       "      <td>0.117093</td>\n",
       "      <td>baidu.com</td>\n",
       "      <td>0.054462</td>\n",
       "      <td>morningsave.com</td>\n",
       "      <td>193</td>\n",
       "      <td>12071</td>\n",
       "    </tr>\n",
       "  </tbody>\n",
       "</table>\n",
       "<p>1 rows × 22 columns</p>\n",
       "</div>"
      ],
      "text/plain": [
       "         date      time Page Views 1 Name  Page Views 1 Percent  \\\n",
       "1  2020-02-15  12:31:13        on a phone                    51   \n",
       "\n",
       "  Page Views 2 Name  Page Views 2 Percent  # Visited  Clicked Meh  \\\n",
       "1      on a tablet.                     6      40769         3016   \n",
       "\n",
       "   Typed Meh Percent  Referrals Percent  ...  Referrer 2 Percent  \\\n",
       "1                 96                  4  ...            0.171555   \n",
       "\n",
       "  Referrer 2 Name  Referrer 3 Percent Referrer 3 Name  Referrer 4 Percent  \\\n",
       "1    dealnews.com            0.163385    facebook.com            0.117093   \n",
       "\n",
       "  Referrer 4 Name  Referrer 5 Percent  Referrer 5 Name  Items Sold  \\\n",
       "1       baidu.com            0.054462  morningsave.com         193   \n",
       "\n",
       "  Dollars Sold  \n",
       "1        12071  \n",
       "\n",
       "[1 rows x 22 columns]"
      ]
     },
     "execution_count": 27,
     "metadata": {},
     "output_type": "execute_result"
    }
   ],
   "source": [
    "export_series"
   ]
  },
  {
   "cell_type": "code",
   "execution_count": 28,
   "metadata": {},
   "outputs": [
    {
     "name": "stderr",
     "output_type": "stream",
     "text": [
      "/home/pi/meh_scraper/meh_scraper_env/lib/python3.7/site-packages/pandas/core/generic.py:2712: UserWarning: The spaces in these column names will not be changed. In pandas versions < 0.14, spaces were converted to underscores.\n",
      "  method=method,\n"
     ]
    }
   ],
   "source": [
    "con = sqlite3.connect(db_location)\n",
    "cursor = con.cursor()\n",
    "export_series.to_sql('selling_details', con, if_exists='append', index=False)"
   ]
  },
  {
   "cell_type": "code",
   "execution_count": 29,
   "metadata": {},
   "outputs": [],
   "source": [
    "con.commit()\n",
    "con.close()"
   ]
  },
  {
   "cell_type": "code",
   "execution_count": null,
   "metadata": {},
   "outputs": [],
   "source": []
  },
  {
   "cell_type": "code",
   "execution_count": null,
   "metadata": {},
   "outputs": [],
   "source": []
  }
 ],
 "metadata": {
  "kernelspec": {
   "display_name": "Python 3",
   "language": "python",
   "name": "python3"
  },
  "language_info": {
   "codemirror_mode": {
    "name": "ipython",
    "version": 3
   },
   "file_extension": ".py",
   "mimetype": "text/x-python",
   "name": "python",
   "nbconvert_exporter": "python",
   "pygments_lexer": "ipython3",
   "version": "3.8.5"
  },
  "toc": {
   "base_numbering": 1,
   "nav_menu": {},
   "number_sections": true,
   "sideBar": true,
   "skip_h1_title": false,
   "title_cell": "Table of Contents",
   "title_sidebar": "Contents",
   "toc_cell": false,
   "toc_position": {},
   "toc_section_display": true,
   "toc_window_display": true
  }
 },
 "nbformat": 4,
 "nbformat_minor": 2
}
