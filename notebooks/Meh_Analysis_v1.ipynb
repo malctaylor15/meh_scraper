{
 "cells": [
  {
   "cell_type": "code",
   "execution_count": 1,
   "metadata": {},
   "outputs": [],
   "source": [
    "import pandas as pd\n",
    "import numpy as np \n",
    "import sqlite3 \n",
    "import os \n",
    "import sys \n",
    "import datetime\n",
    "import plotly.express as px"
   ]
  },
  {
   "cell_type": "code",
   "execution_count": 2,
   "metadata": {},
   "outputs": [
    {
     "name": "stdout",
     "output_type": "stream",
     "text": [
      "Changed dir\n",
      "/home/malcolm/meh_scraper\n"
     ]
    }
   ],
   "source": [
    "current_path_split = os.getcwd().split('/')\n",
    "if current_path_split[-1] == 'notebooks':\n",
    "    os.chdir('..')\n",
    "    print('Changed dir')\n",
    "    print(os.getcwd())\n",
    "elif current_path_split[-1] == 'run_notebooks':\n",
    "    os.chdir('../..')\n",
    "    print('Changed dir')\n",
    "    print(os.getcwd())\n"
   ]
  },
  {
   "cell_type": "code",
   "execution_count": null,
   "metadata": {
    "tags": [
     "parameters"
    ]
   },
   "outputs": [],
   "source": [
    "db_location = 'data/meh_scraper.db'"
   ]
  },
  {
   "cell_type": "code",
   "execution_count": 3,
   "metadata": {},
   "outputs": [],
   "source": [
    "con = sqlite3.connect(db_location)\n",
    "cursor = con.cursor()"
   ]
  },
  {
   "cell_type": "code",
   "execution_count": 4,
   "metadata": {},
   "outputs": [
    {
     "data": {
      "text/plain": [
       "['raw_response_backup',\n",
       " 'raw_site_community_stats',\n",
       " 'selling_details',\n",
       " 'products']"
      ]
     },
     "execution_count": 4,
     "metadata": {},
     "output_type": "execute_result"
    }
   ],
   "source": [
    "tables = cursor.execute(\"SELECT name FROM sqlite_master WHERE type='table'\").fetchall()\n",
    "tables = [x[0] for x in tables]\n",
    "tables"
   ]
  },
  {
   "cell_type": "code",
   "execution_count": 5,
   "metadata": {},
   "outputs": [
    {
     "name": "stdout",
     "output_type": "stream",
     "text": [
      "raw_response_backup  :  249\n",
      "raw_site_community_stats  :  9527\n",
      "selling_details  :  9344\n",
      "products  :  240\n"
     ]
    }
   ],
   "source": [
    "for x in tables:\n",
    "    temp_cnt = cursor.execute(f'select count(*) from {x}').fetchall()[0][0]\n",
    "    print(x, \" : \", temp_cnt)"
   ]
  },
  {
   "cell_type": "code",
   "execution_count": 6,
   "metadata": {},
   "outputs": [
    {
     "name": "stdout",
     "output_type": "stream",
     "text": [
      "From: 2020-12-12 to 2020-12-27\n"
     ]
    }
   ],
   "source": [
    "yesterday = datetime.datetime.now() - datetime.timedelta(days=1)\n",
    "two_weeks_ago = yesterday - datetime.timedelta(days=15)\n",
    "yesterday_str = yesterday.strftime('%Y-%m-%d')\n",
    "two_weeks_ago_str = two_weeks_ago.strftime('%Y-%m-%d')\n",
    "print(f\"From: {two_weeks_ago_str} to {yesterday_str}\")"
   ]
  },
  {
   "cell_type": "code",
   "execution_count": 7,
   "metadata": {},
   "outputs": [],
   "source": [
    "details_sql = f\"select * from selling_details where date between '{two_weeks_ago}' and '{yesterday}'\"\n",
    "products_sql = f\"select * from products where date between '{two_weeks_ago}' and '{yesterday}'\""
   ]
  },
  {
   "cell_type": "code",
   "execution_count": 8,
   "metadata": {},
   "outputs": [],
   "source": [
    "details = pd.read_sql(details_sql, con)\n",
    "products = pd.read_sql(products_sql, con)\n",
    "\n",
    "detail_numeric_cols = ['Page Views 1 Percent', 'Page Views 2 Percent', \n",
    " '# Visited', 'Typed Meh Percent',\n",
    " 'Referrals Percent' , 'Referrer 1 Percent', 'Referrer 2 Percent',\n",
    " 'Referrer 3 Percent', 'Referrer 4 Percent', 'Referrer 5 Percent', \n",
    " 'Items Sold', 'Dollars Sold']\n",
    "for col in detail_numeric_cols:\n",
    "    details[col] = details[col].astype(float)"
   ]
  },
  {
   "cell_type": "code",
   "execution_count": 9,
   "metadata": {},
   "outputs": [
    {
     "data": {
      "text/plain": [
       "(630, 22)"
      ]
     },
     "execution_count": 9,
     "metadata": {},
     "output_type": "execute_result"
    }
   ],
   "source": [
    "details.shape"
   ]
  },
  {
   "cell_type": "code",
   "execution_count": 10,
   "metadata": {},
   "outputs": [
    {
     "data": {
      "text/plain": [
       "Index(['date', 'time', 'Page Views 1 Name', 'Page Views 1 Percent',\n",
       "       'Page Views 2 Name', 'Page Views 2 Percent', '# Visited', 'Clicked Meh',\n",
       "       'Typed Meh Percent', 'Referrals Percent', 'Referrer 1 Percent',\n",
       "       'Referrer 1 Name', 'Referrer 2 Percent', 'Referrer 2 Name',\n",
       "       'Referrer 3 Percent', 'Referrer 3 Name', 'Referrer 4 Percent',\n",
       "       'Referrer 4 Name', 'Referrer 5 Percent', 'Referrer 5 Name',\n",
       "       'Items Sold', 'Dollars Sold'],\n",
       "      dtype='object')"
      ]
     },
     "execution_count": 10,
     "metadata": {},
     "output_type": "execute_result"
    }
   ],
   "source": [
    "details.columns"
   ]
  },
  {
   "cell_type": "code",
   "execution_count": 11,
   "metadata": {},
   "outputs": [
    {
     "data": {
      "text/html": [
       "<div>\n",
       "<style scoped>\n",
       "    .dataframe tbody tr th:only-of-type {\n",
       "        vertical-align: middle;\n",
       "    }\n",
       "\n",
       "    .dataframe tbody tr th {\n",
       "        vertical-align: top;\n",
       "    }\n",
       "\n",
       "    .dataframe thead th {\n",
       "        text-align: right;\n",
       "    }\n",
       "</style>\n",
       "<table border=\"1\" class=\"dataframe\">\n",
       "  <thead>\n",
       "    <tr style=\"text-align: right;\">\n",
       "      <th></th>\n",
       "      <th>date</th>\n",
       "      <th>time</th>\n",
       "      <th>Page Views 1 Name</th>\n",
       "      <th>Page Views 1 Percent</th>\n",
       "      <th>Page Views 2 Name</th>\n",
       "      <th>Page Views 2 Percent</th>\n",
       "      <th># Visited</th>\n",
       "      <th>Clicked Meh</th>\n",
       "      <th>Typed Meh Percent</th>\n",
       "      <th>Referrals Percent</th>\n",
       "      <th>...</th>\n",
       "      <th>Referrer 2 Percent</th>\n",
       "      <th>Referrer 2 Name</th>\n",
       "      <th>Referrer 3 Percent</th>\n",
       "      <th>Referrer 3 Name</th>\n",
       "      <th>Referrer 4 Percent</th>\n",
       "      <th>Referrer 4 Name</th>\n",
       "      <th>Referrer 5 Percent</th>\n",
       "      <th>Referrer 5 Name</th>\n",
       "      <th>Items Sold</th>\n",
       "      <th>Dollars Sold</th>\n",
       "    </tr>\n",
       "  </thead>\n",
       "  <tbody>\n",
       "    <tr>\n",
       "      <th>0</th>\n",
       "      <td>2020-12-13</td>\n",
       "      <td>00:15:12</td>\n",
       "      <td>on a phone</td>\n",
       "      <td>68.0</td>\n",
       "      <td>on a tablet.</td>\n",
       "      <td>3.0</td>\n",
       "      <td>2998.0</td>\n",
       "      <td>647</td>\n",
       "      <td>93.0</td>\n",
       "      <td>7.0</td>\n",
       "      <td>...</td>\n",
       "      <td>0.292398</td>\n",
       "      <td>cnet.com</td>\n",
       "      <td>NaN</td>\n",
       "      <td>None</td>\n",
       "      <td>NaN</td>\n",
       "      <td>None</td>\n",
       "      <td>NaN</td>\n",
       "      <td>None</td>\n",
       "      <td>83.0</td>\n",
       "      <td>1367.0</td>\n",
       "    </tr>\n",
       "    <tr>\n",
       "      <th>1</th>\n",
       "      <td>2020-12-13</td>\n",
       "      <td>00:30:11</td>\n",
       "      <td>on a phone</td>\n",
       "      <td>65.0</td>\n",
       "      <td>on a tablet.</td>\n",
       "      <td>3.0</td>\n",
       "      <td>4444.0</td>\n",
       "      <td>830</td>\n",
       "      <td>93.0</td>\n",
       "      <td>7.0</td>\n",
       "      <td>...</td>\n",
       "      <td>0.391389</td>\n",
       "      <td>cnet.com</td>\n",
       "      <td>0.122309</td>\n",
       "      <td>facebook.com</td>\n",
       "      <td>NaN</td>\n",
       "      <td>None</td>\n",
       "      <td>NaN</td>\n",
       "      <td>None</td>\n",
       "      <td>130.0</td>\n",
       "      <td>2162.0</td>\n",
       "    </tr>\n",
       "    <tr>\n",
       "      <th>2</th>\n",
       "      <td>2020-12-13</td>\n",
       "      <td>01:15:10</td>\n",
       "      <td>on a phone</td>\n",
       "      <td>62.0</td>\n",
       "      <td>on a tablet.</td>\n",
       "      <td>3.0</td>\n",
       "      <td>7106.0</td>\n",
       "      <td>1127</td>\n",
       "      <td>93.0</td>\n",
       "      <td>7.0</td>\n",
       "      <td>...</td>\n",
       "      <td>0.396221</td>\n",
       "      <td>cnet.com</td>\n",
       "      <td>0.167632</td>\n",
       "      <td>facebook.com</td>\n",
       "      <td>0.076196</td>\n",
       "      <td>newsblur.com</td>\n",
       "      <td>NaN</td>\n",
       "      <td>None</td>\n",
       "      <td>196.0</td>\n",
       "      <td>3279.0</td>\n",
       "    </tr>\n",
       "    <tr>\n",
       "      <th>3</th>\n",
       "      <td>2020-12-13</td>\n",
       "      <td>01:30:10</td>\n",
       "      <td>on a phone</td>\n",
       "      <td>61.0</td>\n",
       "      <td>on a tablet.</td>\n",
       "      <td>3.0</td>\n",
       "      <td>7837.0</td>\n",
       "      <td>1179</td>\n",
       "      <td>93.0</td>\n",
       "      <td>7.0</td>\n",
       "      <td>...</td>\n",
       "      <td>0.386154</td>\n",
       "      <td>cnet.com</td>\n",
       "      <td>0.179286</td>\n",
       "      <td>facebook.com</td>\n",
       "      <td>0.068956</td>\n",
       "      <td>newsblur.com</td>\n",
       "      <td>NaN</td>\n",
       "      <td>None</td>\n",
       "      <td>209.0</td>\n",
       "      <td>3499.0</td>\n",
       "    </tr>\n",
       "    <tr>\n",
       "      <th>4</th>\n",
       "      <td>2020-12-13</td>\n",
       "      <td>01:45:09</td>\n",
       "      <td>on a phone</td>\n",
       "      <td>60.0</td>\n",
       "      <td>on a tablet.</td>\n",
       "      <td>3.0</td>\n",
       "      <td>8420.0</td>\n",
       "      <td>1227</td>\n",
       "      <td>93.0</td>\n",
       "      <td>7.0</td>\n",
       "      <td>...</td>\n",
       "      <td>0.410309</td>\n",
       "      <td>cnet.com</td>\n",
       "      <td>0.166688</td>\n",
       "      <td>facebook.com</td>\n",
       "      <td>0.064111</td>\n",
       "      <td>newsblur.com</td>\n",
       "      <td>NaN</td>\n",
       "      <td>None</td>\n",
       "      <td>218.0</td>\n",
       "      <td>3641.0</td>\n",
       "    </tr>\n",
       "  </tbody>\n",
       "</table>\n",
       "<p>5 rows × 22 columns</p>\n",
       "</div>"
      ],
      "text/plain": [
       "         date      time Page Views 1 Name  Page Views 1 Percent  \\\n",
       "0  2020-12-13  00:15:12        on a phone                  68.0   \n",
       "1  2020-12-13  00:30:11        on a phone                  65.0   \n",
       "2  2020-12-13  01:15:10        on a phone                  62.0   \n",
       "3  2020-12-13  01:30:10        on a phone                  61.0   \n",
       "4  2020-12-13  01:45:09        on a phone                  60.0   \n",
       "\n",
       "  Page Views 2 Name  Page Views 2 Percent  # Visited  Clicked Meh  \\\n",
       "0      on a tablet.                   3.0     2998.0          647   \n",
       "1      on a tablet.                   3.0     4444.0          830   \n",
       "2      on a tablet.                   3.0     7106.0         1127   \n",
       "3      on a tablet.                   3.0     7837.0         1179   \n",
       "4      on a tablet.                   3.0     8420.0         1227   \n",
       "\n",
       "   Typed Meh Percent  Referrals Percent  ...  Referrer 2 Percent  \\\n",
       "0               93.0                7.0  ...            0.292398   \n",
       "1               93.0                7.0  ...            0.391389   \n",
       "2               93.0                7.0  ...            0.396221   \n",
       "3               93.0                7.0  ...            0.386154   \n",
       "4               93.0                7.0  ...            0.410309   \n",
       "\n",
       "  Referrer 2 Name  Referrer 3 Percent Referrer 3 Name  Referrer 4 Percent  \\\n",
       "0        cnet.com                 NaN            None                 NaN   \n",
       "1        cnet.com            0.122309    facebook.com                 NaN   \n",
       "2        cnet.com            0.167632    facebook.com            0.076196   \n",
       "3        cnet.com            0.179286    facebook.com            0.068956   \n",
       "4        cnet.com            0.166688    facebook.com            0.064111   \n",
       "\n",
       "  Referrer 4 Name  Referrer 5 Percent Referrer 5 Name  Items Sold Dollars Sold  \n",
       "0            None                 NaN            None        83.0       1367.0  \n",
       "1            None                 NaN            None       130.0       2162.0  \n",
       "2    newsblur.com                 NaN            None       196.0       3279.0  \n",
       "3    newsblur.com                 NaN            None       209.0       3499.0  \n",
       "4    newsblur.com                 NaN            None       218.0       3641.0  \n",
       "\n",
       "[5 rows x 22 columns]"
      ]
     },
     "execution_count": 11,
     "metadata": {},
     "output_type": "execute_result"
    }
   ],
   "source": [
    "details.head()"
   ]
  },
  {
   "cell_type": "code",
   "execution_count": 12,
   "metadata": {},
   "outputs": [
    {
     "data": {
      "text/plain": [
       "Index(['date', 'deal_features', 'deal_id',\n",
       "       'deal_purchaseQuantity_maximumLimit',\n",
       "       'deal_purchaseQuantity_minimumLimit', 'deal_specifications',\n",
       "       'deal_story_body', 'deal_story_title', 'deal_theme_accentColor',\n",
       "       'deal_theme_backgroundColor', 'deal_theme_backgroundImage',\n",
       "       'deal_theme_foreground', 'deal_title', 'deal_topic_commentCount',\n",
       "       'deal_topic_createdAt', 'deal_topic_id', 'deal_topic_replyCount',\n",
       "       'deal_topic_url', 'deal_topic_voteCount', 'deal_url', 'poll_id',\n",
       "       'poll_startDate', 'poll_title', 'poll_topic_commentCount',\n",
       "       'poll_topic_createdAt', 'poll_topic_id', 'poll_topic_replyCount',\n",
       "       'poll_topic_url', 'poll_topic_voteCount', 'time', 'video_id',\n",
       "       'video_startDate', 'video_title', 'video_topic_commentCount',\n",
       "       'video_topic_createdAt', 'video_topic_id', 'video_topic_replyCount',\n",
       "       'video_topic_url', 'video_topic_voteCount', 'video_url',\n",
       "       'deal_soldOutAt', 'deal_endDate'],\n",
       "      dtype='object')"
      ]
     },
     "execution_count": 12,
     "metadata": {},
     "output_type": "execute_result"
    }
   ],
   "source": [
    "products.columns"
   ]
  },
  {
   "cell_type": "code",
   "execution_count": 13,
   "metadata": {
    "scrolled": true
   },
   "outputs": [
    {
     "data": {
      "text/html": [
       "<div>\n",
       "<style scoped>\n",
       "    .dataframe tbody tr th:only-of-type {\n",
       "        vertical-align: middle;\n",
       "    }\n",
       "\n",
       "    .dataframe tbody tr th {\n",
       "        vertical-align: top;\n",
       "    }\n",
       "\n",
       "    .dataframe thead th {\n",
       "        text-align: right;\n",
       "    }\n",
       "</style>\n",
       "<table border=\"1\" class=\"dataframe\">\n",
       "  <thead>\n",
       "    <tr style=\"text-align: right;\">\n",
       "      <th></th>\n",
       "      <th>date</th>\n",
       "      <th>deal_features</th>\n",
       "      <th>deal_id</th>\n",
       "      <th>deal_purchaseQuantity_maximumLimit</th>\n",
       "      <th>deal_purchaseQuantity_minimumLimit</th>\n",
       "      <th>deal_specifications</th>\n",
       "      <th>deal_story_body</th>\n",
       "      <th>deal_story_title</th>\n",
       "      <th>deal_theme_accentColor</th>\n",
       "      <th>deal_theme_backgroundColor</th>\n",
       "      <th>...</th>\n",
       "      <th>video_title</th>\n",
       "      <th>video_topic_commentCount</th>\n",
       "      <th>video_topic_createdAt</th>\n",
       "      <th>video_topic_id</th>\n",
       "      <th>video_topic_replyCount</th>\n",
       "      <th>video_topic_url</th>\n",
       "      <th>video_topic_voteCount</th>\n",
       "      <th>video_url</th>\n",
       "      <th>deal_soldOutAt</th>\n",
       "      <th>deal_endDate</th>\n",
       "    </tr>\n",
       "  </thead>\n",
       "  <tbody>\n",
       "    <tr>\n",
       "      <th>0</th>\n",
       "      <td>2020-12-14</td>\n",
       "      <td>- Handheld, so you can apply it wherever it's ...</td>\n",
       "      <td>a6k5A000000cU76QAE</td>\n",
       "      <td>3</td>\n",
       "      <td>1</td>\n",
       "      <td>Specs\\r\\n====\\r\\n- Product Name: FineLife Quan...</td>\n",
       "      <td>Okay, everybody. You know that subtle feeling ...</td>\n",
       "      <td>You’re going to want to relax after all this.</td>\n",
       "      <td>#7878ff</td>\n",
       "      <td>#080812</td>\n",
       "      <td>...</td>\n",
       "      <td>It's Singin' Cowboy Time: Nog</td>\n",
       "      <td>5.0</td>\n",
       "      <td>2020-12-12T05:00:00.297Z</td>\n",
       "      <td>5fd44e5022255d00114a6cd8</td>\n",
       "      <td>2.0</td>\n",
       "      <td>https://meh.com/forum/topics/its-singin-cowboy...</td>\n",
       "      <td>4.0</td>\n",
       "      <td>https://www.youtube.com/watch?v=1S5f8R0-LX4</td>\n",
       "      <td>None</td>\n",
       "      <td>None</td>\n",
       "    </tr>\n",
       "    <tr>\n",
       "      <th>1</th>\n",
       "      <td>2020-12-15</td>\n",
       "      <td>- 5 layers of protection\\r\\n- You can use them...</td>\n",
       "      <td>a6k5A000000cVOVQA2</td>\n",
       "      <td>3</td>\n",
       "      <td>1</td>\n",
       "      <td>Specs\\r\\n====\\r\\n- Product Name: KN-95 Masks\\r...</td>\n",
       "      <td>A few days ago it was 60 degrees here, and I t...</td>\n",
       "      <td>Snow Looking Back</td>\n",
       "      <td>#f7fa13</td>\n",
       "      <td>#686fd5</td>\n",
       "      <td>...</td>\n",
       "      <td>It's Singin' Cowboy Time: Nog</td>\n",
       "      <td>5.0</td>\n",
       "      <td>2020-12-12T05:00:00.297Z</td>\n",
       "      <td>5fd44e5022255d00114a6cd8</td>\n",
       "      <td>2.0</td>\n",
       "      <td>https://meh.com/forum/topics/its-singin-cowboy...</td>\n",
       "      <td>5.0</td>\n",
       "      <td>https://www.youtube.com/watch?v=1S5f8R0-LX4</td>\n",
       "      <td>None</td>\n",
       "      <td>None</td>\n",
       "    </tr>\n",
       "    <tr>\n",
       "      <th>2</th>\n",
       "      <td>2020-12-16</td>\n",
       "      <td>- Super easy to use for beginners and fun for ...</td>\n",
       "      <td>a6k5A000000cVOkQAM</td>\n",
       "      <td>3</td>\n",
       "      <td>1</td>\n",
       "      <td>Specs\\r\\n====\\r\\n- Product Name: Vistatech Rec...</td>\n",
       "      <td>Hello. It's me a movie director from the 1980s...</td>\n",
       "      <td>So Easy</td>\n",
       "      <td>#5c000f</td>\n",
       "      <td>#e47079</td>\n",
       "      <td>...</td>\n",
       "      <td>Li'l Reprobates: Punch You In The Belly For Xmas</td>\n",
       "      <td>2.0</td>\n",
       "      <td>2020-12-16T05:00:00.202Z</td>\n",
       "      <td>5fd99450d6749a00112e5ae0</td>\n",
       "      <td>0.0</td>\n",
       "      <td>https://meh.com/forum/topics/lil-reprobates-pu...</td>\n",
       "      <td>3.0</td>\n",
       "      <td>https://www.youtube.com/watch?v=O71dUzzJypE</td>\n",
       "      <td>None</td>\n",
       "      <td>None</td>\n",
       "    </tr>\n",
       "    <tr>\n",
       "      <th>3</th>\n",
       "      <td>2020-12-17</td>\n",
       "      <td>- They're pictures, but YOU have to put them t...</td>\n",
       "      <td>a6k5A000000cWOLQA2</td>\n",
       "      <td>6</td>\n",
       "      <td>2</td>\n",
       "      <td>Specs\\r\\n====\\r\\n- Product Name: 500 or 1000 P...</td>\n",
       "      <td>Dearest Mother,\\r\\n\\r\\nFinally, a change! Yes,...</td>\n",
       "      <td>Ghastly Comfort IX</td>\n",
       "      <td>#4f5556</td>\n",
       "      <td>#8be8f7</td>\n",
       "      <td>...</td>\n",
       "      <td>Li'l Reprobates: Punch You In The Belly For Xmas</td>\n",
       "      <td>2.0</td>\n",
       "      <td>2020-12-16T05:00:00.202Z</td>\n",
       "      <td>5fd99450d6749a00112e5ae0</td>\n",
       "      <td>0.0</td>\n",
       "      <td>https://meh.com/forum/topics/lil-reprobates-pu...</td>\n",
       "      <td>3.0</td>\n",
       "      <td>https://www.youtube.com/watch?v=O71dUzzJypE</td>\n",
       "      <td>None</td>\n",
       "      <td>None</td>\n",
       "    </tr>\n",
       "    <tr>\n",
       "      <th>4</th>\n",
       "      <td>2020-12-18</td>\n",
       "      <td>- Apply these miracle fabrics to parts of your...</td>\n",
       "      <td>a6k5A000000cXRBQA2</td>\n",
       "      <td>4</td>\n",
       "      <td>1</td>\n",
       "      <td>Specs\\r\\n====\\r\\n- Product Name: iDesign Ribbe...</td>\n",
       "      <td>We're here now. It's winter. \\r\\n\\r\\nAnd that ...</td>\n",
       "      <td>Stay Comfy</td>\n",
       "      <td>#c1d9e7</td>\n",
       "      <td>#495f6c</td>\n",
       "      <td>...</td>\n",
       "      <td>Li'l Reprobates: Punch You In The Belly For Xmas</td>\n",
       "      <td>2.0</td>\n",
       "      <td>2020-12-16T05:00:00.202Z</td>\n",
       "      <td>5fd99450d6749a00112e5ae0</td>\n",
       "      <td>0.0</td>\n",
       "      <td>https://meh.com/forum/topics/lil-reprobates-pu...</td>\n",
       "      <td>3.0</td>\n",
       "      <td>https://www.youtube.com/watch?v=O71dUzzJypE</td>\n",
       "      <td>None</td>\n",
       "      <td>None</td>\n",
       "    </tr>\n",
       "  </tbody>\n",
       "</table>\n",
       "<p>5 rows × 42 columns</p>\n",
       "</div>"
      ],
      "text/plain": [
       "         date                                      deal_features  \\\n",
       "0  2020-12-14  - Handheld, so you can apply it wherever it's ...   \n",
       "1  2020-12-15  - 5 layers of protection\\r\\n- You can use them...   \n",
       "2  2020-12-16  - Super easy to use for beginners and fun for ...   \n",
       "3  2020-12-17  - They're pictures, but YOU have to put them t...   \n",
       "4  2020-12-18  - Apply these miracle fabrics to parts of your...   \n",
       "\n",
       "              deal_id  deal_purchaseQuantity_maximumLimit  \\\n",
       "0  a6k5A000000cU76QAE                                   3   \n",
       "1  a6k5A000000cVOVQA2                                   3   \n",
       "2  a6k5A000000cVOkQAM                                   3   \n",
       "3  a6k5A000000cWOLQA2                                   6   \n",
       "4  a6k5A000000cXRBQA2                                   4   \n",
       "\n",
       "   deal_purchaseQuantity_minimumLimit  \\\n",
       "0                                   1   \n",
       "1                                   1   \n",
       "2                                   1   \n",
       "3                                   2   \n",
       "4                                   1   \n",
       "\n",
       "                                 deal_specifications  \\\n",
       "0  Specs\\r\\n====\\r\\n- Product Name: FineLife Quan...   \n",
       "1  Specs\\r\\n====\\r\\n- Product Name: KN-95 Masks\\r...   \n",
       "2  Specs\\r\\n====\\r\\n- Product Name: Vistatech Rec...   \n",
       "3  Specs\\r\\n====\\r\\n- Product Name: 500 or 1000 P...   \n",
       "4  Specs\\r\\n====\\r\\n- Product Name: iDesign Ribbe...   \n",
       "\n",
       "                                     deal_story_body  \\\n",
       "0  Okay, everybody. You know that subtle feeling ...   \n",
       "1  A few days ago it was 60 degrees here, and I t...   \n",
       "2  Hello. It's me a movie director from the 1980s...   \n",
       "3  Dearest Mother,\\r\\n\\r\\nFinally, a change! Yes,...   \n",
       "4  We're here now. It's winter. \\r\\n\\r\\nAnd that ...   \n",
       "\n",
       "                                deal_story_title deal_theme_accentColor  \\\n",
       "0  You’re going to want to relax after all this.                #7878ff   \n",
       "1                              Snow Looking Back                #f7fa13   \n",
       "2                                        So Easy                #5c000f   \n",
       "3                             Ghastly Comfort IX                #4f5556   \n",
       "4                                     Stay Comfy                #c1d9e7   \n",
       "\n",
       "  deal_theme_backgroundColor  ...  \\\n",
       "0                    #080812  ...   \n",
       "1                    #686fd5  ...   \n",
       "2                    #e47079  ...   \n",
       "3                    #8be8f7  ...   \n",
       "4                    #495f6c  ...   \n",
       "\n",
       "                                        video_title video_topic_commentCount  \\\n",
       "0                     It's Singin' Cowboy Time: Nog                      5.0   \n",
       "1                     It's Singin' Cowboy Time: Nog                      5.0   \n",
       "2  Li'l Reprobates: Punch You In The Belly For Xmas                      2.0   \n",
       "3  Li'l Reprobates: Punch You In The Belly For Xmas                      2.0   \n",
       "4  Li'l Reprobates: Punch You In The Belly For Xmas                      2.0   \n",
       "\n",
       "      video_topic_createdAt            video_topic_id video_topic_replyCount  \\\n",
       "0  2020-12-12T05:00:00.297Z  5fd44e5022255d00114a6cd8                    2.0   \n",
       "1  2020-12-12T05:00:00.297Z  5fd44e5022255d00114a6cd8                    2.0   \n",
       "2  2020-12-16T05:00:00.202Z  5fd99450d6749a00112e5ae0                    0.0   \n",
       "3  2020-12-16T05:00:00.202Z  5fd99450d6749a00112e5ae0                    0.0   \n",
       "4  2020-12-16T05:00:00.202Z  5fd99450d6749a00112e5ae0                    0.0   \n",
       "\n",
       "                                     video_topic_url  video_topic_voteCount  \\\n",
       "0  https://meh.com/forum/topics/its-singin-cowboy...                    4.0   \n",
       "1  https://meh.com/forum/topics/its-singin-cowboy...                    5.0   \n",
       "2  https://meh.com/forum/topics/lil-reprobates-pu...                    3.0   \n",
       "3  https://meh.com/forum/topics/lil-reprobates-pu...                    3.0   \n",
       "4  https://meh.com/forum/topics/lil-reprobates-pu...                    3.0   \n",
       "\n",
       "                                     video_url  deal_soldOutAt deal_endDate  \n",
       "0  https://www.youtube.com/watch?v=1S5f8R0-LX4            None         None  \n",
       "1  https://www.youtube.com/watch?v=1S5f8R0-LX4            None         None  \n",
       "2  https://www.youtube.com/watch?v=O71dUzzJypE            None         None  \n",
       "3  https://www.youtube.com/watch?v=O71dUzzJypE            None         None  \n",
       "4  https://www.youtube.com/watch?v=O71dUzzJypE            None         None  \n",
       "\n",
       "[5 rows x 42 columns]"
      ]
     },
     "execution_count": 13,
     "metadata": {},
     "output_type": "execute_result"
    }
   ],
   "source": [
    "products.head()"
   ]
  },
  {
   "cell_type": "code",
   "execution_count": 14,
   "metadata": {},
   "outputs": [
    {
     "data": {
      "text/plain": [
       "Index(['date', 'time', 'Page Views 1 Name', 'Page Views 1 Percent',\n",
       "       'Page Views 2 Name', 'Page Views 2 Percent', '# Visited', 'Clicked Meh',\n",
       "       'Typed Meh Percent', 'Referrals Percent', 'Referrer 1 Percent',\n",
       "       'Referrer 1 Name', 'Referrer 2 Percent', 'Referrer 2 Name',\n",
       "       'Referrer 3 Percent', 'Referrer 3 Name', 'Referrer 4 Percent',\n",
       "       'Referrer 4 Name', 'Referrer 5 Percent', 'Referrer 5 Name',\n",
       "       'Items Sold', 'Dollars Sold'],\n",
       "      dtype='object')"
      ]
     },
     "execution_count": 14,
     "metadata": {},
     "output_type": "execute_result"
    }
   ],
   "source": [
    "details.columns"
   ]
  },
  {
   "cell_type": "code",
   "execution_count": 15,
   "metadata": {
    "scrolled": true
   },
   "outputs": [
    {
     "data": {
      "text/html": [
       "<div>\n",
       "<style scoped>\n",
       "    .dataframe tbody tr th:only-of-type {\n",
       "        vertical-align: middle;\n",
       "    }\n",
       "\n",
       "    .dataframe tbody tr th {\n",
       "        vertical-align: top;\n",
       "    }\n",
       "\n",
       "    .dataframe thead th {\n",
       "        text-align: right;\n",
       "    }\n",
       "</style>\n",
       "<table border=\"1\" class=\"dataframe\">\n",
       "  <thead>\n",
       "    <tr style=\"text-align: right;\">\n",
       "      <th></th>\n",
       "      <th>date</th>\n",
       "      <th>time</th>\n",
       "      <th>Page Views 1 Name</th>\n",
       "      <th>Page Views 1 Percent</th>\n",
       "      <th>Page Views 2 Name</th>\n",
       "      <th>Page Views 2 Percent</th>\n",
       "      <th># Visited</th>\n",
       "      <th>Clicked Meh</th>\n",
       "      <th>Typed Meh Percent</th>\n",
       "      <th>Referrals Percent</th>\n",
       "      <th>...</th>\n",
       "      <th>Referrer 2 Percent</th>\n",
       "      <th>Referrer 2 Name</th>\n",
       "      <th>Referrer 3 Percent</th>\n",
       "      <th>Referrer 3 Name</th>\n",
       "      <th>Referrer 4 Percent</th>\n",
       "      <th>Referrer 4 Name</th>\n",
       "      <th>Referrer 5 Percent</th>\n",
       "      <th>Referrer 5 Name</th>\n",
       "      <th>Items Sold</th>\n",
       "      <th>Dollars Sold</th>\n",
       "    </tr>\n",
       "  </thead>\n",
       "  <tbody>\n",
       "    <tr>\n",
       "      <th>0</th>\n",
       "      <td>2020-12-13</td>\n",
       "      <td>00:15:12</td>\n",
       "      <td>on a phone</td>\n",
       "      <td>68.0</td>\n",
       "      <td>on a tablet.</td>\n",
       "      <td>3.0</td>\n",
       "      <td>2998.0</td>\n",
       "      <td>647</td>\n",
       "      <td>93.0</td>\n",
       "      <td>7.0</td>\n",
       "      <td>...</td>\n",
       "      <td>0.292398</td>\n",
       "      <td>cnet.com</td>\n",
       "      <td>NaN</td>\n",
       "      <td>None</td>\n",
       "      <td>NaN</td>\n",
       "      <td>None</td>\n",
       "      <td>NaN</td>\n",
       "      <td>None</td>\n",
       "      <td>83.0</td>\n",
       "      <td>1367.0</td>\n",
       "    </tr>\n",
       "    <tr>\n",
       "      <th>1</th>\n",
       "      <td>2020-12-13</td>\n",
       "      <td>00:30:11</td>\n",
       "      <td>on a phone</td>\n",
       "      <td>65.0</td>\n",
       "      <td>on a tablet.</td>\n",
       "      <td>3.0</td>\n",
       "      <td>4444.0</td>\n",
       "      <td>830</td>\n",
       "      <td>93.0</td>\n",
       "      <td>7.0</td>\n",
       "      <td>...</td>\n",
       "      <td>0.391389</td>\n",
       "      <td>cnet.com</td>\n",
       "      <td>0.122309</td>\n",
       "      <td>facebook.com</td>\n",
       "      <td>NaN</td>\n",
       "      <td>None</td>\n",
       "      <td>NaN</td>\n",
       "      <td>None</td>\n",
       "      <td>130.0</td>\n",
       "      <td>2162.0</td>\n",
       "    </tr>\n",
       "    <tr>\n",
       "      <th>2</th>\n",
       "      <td>2020-12-13</td>\n",
       "      <td>01:15:10</td>\n",
       "      <td>on a phone</td>\n",
       "      <td>62.0</td>\n",
       "      <td>on a tablet.</td>\n",
       "      <td>3.0</td>\n",
       "      <td>7106.0</td>\n",
       "      <td>1127</td>\n",
       "      <td>93.0</td>\n",
       "      <td>7.0</td>\n",
       "      <td>...</td>\n",
       "      <td>0.396221</td>\n",
       "      <td>cnet.com</td>\n",
       "      <td>0.167632</td>\n",
       "      <td>facebook.com</td>\n",
       "      <td>0.076196</td>\n",
       "      <td>newsblur.com</td>\n",
       "      <td>NaN</td>\n",
       "      <td>None</td>\n",
       "      <td>196.0</td>\n",
       "      <td>3279.0</td>\n",
       "    </tr>\n",
       "    <tr>\n",
       "      <th>3</th>\n",
       "      <td>2020-12-13</td>\n",
       "      <td>01:30:10</td>\n",
       "      <td>on a phone</td>\n",
       "      <td>61.0</td>\n",
       "      <td>on a tablet.</td>\n",
       "      <td>3.0</td>\n",
       "      <td>7837.0</td>\n",
       "      <td>1179</td>\n",
       "      <td>93.0</td>\n",
       "      <td>7.0</td>\n",
       "      <td>...</td>\n",
       "      <td>0.386154</td>\n",
       "      <td>cnet.com</td>\n",
       "      <td>0.179286</td>\n",
       "      <td>facebook.com</td>\n",
       "      <td>0.068956</td>\n",
       "      <td>newsblur.com</td>\n",
       "      <td>NaN</td>\n",
       "      <td>None</td>\n",
       "      <td>209.0</td>\n",
       "      <td>3499.0</td>\n",
       "    </tr>\n",
       "    <tr>\n",
       "      <th>4</th>\n",
       "      <td>2020-12-13</td>\n",
       "      <td>01:45:09</td>\n",
       "      <td>on a phone</td>\n",
       "      <td>60.0</td>\n",
       "      <td>on a tablet.</td>\n",
       "      <td>3.0</td>\n",
       "      <td>8420.0</td>\n",
       "      <td>1227</td>\n",
       "      <td>93.0</td>\n",
       "      <td>7.0</td>\n",
       "      <td>...</td>\n",
       "      <td>0.410309</td>\n",
       "      <td>cnet.com</td>\n",
       "      <td>0.166688</td>\n",
       "      <td>facebook.com</td>\n",
       "      <td>0.064111</td>\n",
       "      <td>newsblur.com</td>\n",
       "      <td>NaN</td>\n",
       "      <td>None</td>\n",
       "      <td>218.0</td>\n",
       "      <td>3641.0</td>\n",
       "    </tr>\n",
       "  </tbody>\n",
       "</table>\n",
       "<p>5 rows × 22 columns</p>\n",
       "</div>"
      ],
      "text/plain": [
       "         date      time Page Views 1 Name  Page Views 1 Percent  \\\n",
       "0  2020-12-13  00:15:12        on a phone                  68.0   \n",
       "1  2020-12-13  00:30:11        on a phone                  65.0   \n",
       "2  2020-12-13  01:15:10        on a phone                  62.0   \n",
       "3  2020-12-13  01:30:10        on a phone                  61.0   \n",
       "4  2020-12-13  01:45:09        on a phone                  60.0   \n",
       "\n",
       "  Page Views 2 Name  Page Views 2 Percent  # Visited  Clicked Meh  \\\n",
       "0      on a tablet.                   3.0     2998.0          647   \n",
       "1      on a tablet.                   3.0     4444.0          830   \n",
       "2      on a tablet.                   3.0     7106.0         1127   \n",
       "3      on a tablet.                   3.0     7837.0         1179   \n",
       "4      on a tablet.                   3.0     8420.0         1227   \n",
       "\n",
       "   Typed Meh Percent  Referrals Percent  ...  Referrer 2 Percent  \\\n",
       "0               93.0                7.0  ...            0.292398   \n",
       "1               93.0                7.0  ...            0.391389   \n",
       "2               93.0                7.0  ...            0.396221   \n",
       "3               93.0                7.0  ...            0.386154   \n",
       "4               93.0                7.0  ...            0.410309   \n",
       "\n",
       "  Referrer 2 Name  Referrer 3 Percent Referrer 3 Name  Referrer 4 Percent  \\\n",
       "0        cnet.com                 NaN            None                 NaN   \n",
       "1        cnet.com            0.122309    facebook.com                 NaN   \n",
       "2        cnet.com            0.167632    facebook.com            0.076196   \n",
       "3        cnet.com            0.179286    facebook.com            0.068956   \n",
       "4        cnet.com            0.166688    facebook.com            0.064111   \n",
       "\n",
       "  Referrer 4 Name  Referrer 5 Percent Referrer 5 Name  Items Sold Dollars Sold  \n",
       "0            None                 NaN            None        83.0       1367.0  \n",
       "1            None                 NaN            None       130.0       2162.0  \n",
       "2    newsblur.com                 NaN            None       196.0       3279.0  \n",
       "3    newsblur.com                 NaN            None       209.0       3499.0  \n",
       "4    newsblur.com                 NaN            None       218.0       3641.0  \n",
       "\n",
       "[5 rows x 22 columns]"
      ]
     },
     "execution_count": 15,
     "metadata": {},
     "output_type": "execute_result"
    }
   ],
   "source": [
    "details.head()"
   ]
  },
  {
   "cell_type": "code",
   "execution_count": 16,
   "metadata": {},
   "outputs": [
    {
     "name": "stdout",
     "output_type": "stream",
     "text": [
      " Number of Rows: 630 \n",
      " Unique Dates: 15\n"
     ]
    }
   ],
   "source": [
    "n_rows = details.shape[0]\n",
    "unique_dates = details['date'].nunique()\n",
    "print(f\" Number of Rows: {n_rows} \\n Unique Dates: {unique_dates}\")"
   ]
  },
  {
   "cell_type": "markdown",
   "metadata": {},
   "source": [
    "## Dedup Details Data "
   ]
  },
  {
   "cell_type": "code",
   "execution_count": 17,
   "metadata": {},
   "outputs": [
    {
     "data": {
      "text/plain": [
       "(630, 22)"
      ]
     },
     "execution_count": 17,
     "metadata": {},
     "output_type": "execute_result"
    }
   ],
   "source": [
    "details = details.sort_values(['date', 'time'])\n",
    "details_dedup = details.drop_duplicates(['date', 'time'], keep='first')\n",
    "details_dedup.shape"
   ]
  },
  {
   "cell_type": "code",
   "execution_count": 18,
   "metadata": {},
   "outputs": [
    {
     "name": "stdout",
     "output_type": "stream",
     "text": [
      "(14, 64)\n"
     ]
    },
    {
     "name": "stderr",
     "output_type": "stream",
     "text": [
      "/home/malcolm/main/lib/python3.6/site-packages/ipykernel_launcher.py:2: SettingWithCopyWarning:\n",
      "\n",
      "\n",
      "A value is trying to be set on a copy of a slice from a DataFrame.\n",
      "Try using .loc[row_indexer,col_indexer] = value instead\n",
      "\n",
      "See the caveats in the documentation: https://pandas.pydata.org/pandas-docs/stable/user_guide/indexing.html#returning-a-view-versus-a-copy\n",
      "\n"
     ]
    },
    {
     "data": {
      "text/plain": [
       "Index(['date', 'time_x', 'Page Views 1 Name', 'Page Views 1 Percent',\n",
       "       'Page Views 2 Name', 'Page Views 2 Percent', '# Visited', 'Clicked Meh',\n",
       "       'Typed Meh Percent', 'Referrals Percent', 'Referrer 1 Percent',\n",
       "       'Referrer 1 Name', 'Referrer 2 Percent', 'Referrer 2 Name',\n",
       "       'Referrer 3 Percent', 'Referrer 3 Name', 'Referrer 4 Percent',\n",
       "       'Referrer 4 Name', 'Referrer 5 Percent', 'Referrer 5 Name',\n",
       "       'Items Sold', 'Dollars Sold', 'Avg Price', 'deal_features', 'deal_id',\n",
       "       'deal_purchaseQuantity_maximumLimit',\n",
       "       'deal_purchaseQuantity_minimumLimit', 'deal_specifications',\n",
       "       'deal_story_body', 'deal_story_title', 'deal_theme_accentColor',\n",
       "       'deal_theme_backgroundColor', 'deal_theme_backgroundImage',\n",
       "       'deal_theme_foreground', 'deal_title', 'deal_topic_commentCount',\n",
       "       'deal_topic_createdAt', 'deal_topic_id', 'deal_topic_replyCount',\n",
       "       'deal_topic_url', 'deal_topic_voteCount', 'deal_url', 'poll_id',\n",
       "       'poll_startDate', 'poll_title', 'poll_topic_commentCount',\n",
       "       'poll_topic_createdAt', 'poll_topic_id', 'poll_topic_replyCount',\n",
       "       'poll_topic_url', 'poll_topic_voteCount', 'time_y', 'video_id',\n",
       "       'video_startDate', 'video_title', 'video_topic_commentCount',\n",
       "       'video_topic_createdAt', 'video_topic_id', 'video_topic_replyCount',\n",
       "       'video_topic_url', 'video_topic_voteCount', 'video_url',\n",
       "       'deal_soldOutAt', 'deal_endDate'],\n",
       "      dtype='object')"
      ]
     },
     "execution_count": 18,
     "metadata": {},
     "output_type": "execute_result"
    }
   ],
   "source": [
    "eod_details = details_dedup.drop_duplicates(['date'], keep='last')\n",
    "eod_details['Avg Price'] = np.round(eod_details['Dollars Sold']/eod_details['Items Sold'], 2)\n",
    "eod_details = pd.merge(eod_details, products, on='date')\n",
    "print(eod_details.shape)\n",
    "eod_details.columns"
   ]
  },
  {
   "cell_type": "code",
   "execution_count": 19,
   "metadata": {},
   "outputs": [
    {
     "data": {
      "text/html": [
       "<div>\n",
       "<style scoped>\n",
       "    .dataframe tbody tr th:only-of-type {\n",
       "        vertical-align: middle;\n",
       "    }\n",
       "\n",
       "    .dataframe tbody tr th {\n",
       "        vertical-align: top;\n",
       "    }\n",
       "\n",
       "    .dataframe thead th {\n",
       "        text-align: right;\n",
       "    }\n",
       "</style>\n",
       "<table border=\"1\" class=\"dataframe\">\n",
       "  <thead>\n",
       "    <tr style=\"text-align: right;\">\n",
       "      <th></th>\n",
       "      <th>date</th>\n",
       "      <th>time_x</th>\n",
       "      <th>Page Views 1 Name</th>\n",
       "      <th>Page Views 1 Percent</th>\n",
       "      <th>Page Views 2 Name</th>\n",
       "      <th>Page Views 2 Percent</th>\n",
       "      <th># Visited</th>\n",
       "      <th>Clicked Meh</th>\n",
       "      <th>Typed Meh Percent</th>\n",
       "      <th>Referrals Percent</th>\n",
       "      <th>...</th>\n",
       "      <th>video_title</th>\n",
       "      <th>video_topic_commentCount</th>\n",
       "      <th>video_topic_createdAt</th>\n",
       "      <th>video_topic_id</th>\n",
       "      <th>video_topic_replyCount</th>\n",
       "      <th>video_topic_url</th>\n",
       "      <th>video_topic_voteCount</th>\n",
       "      <th>video_url</th>\n",
       "      <th>deal_soldOutAt</th>\n",
       "      <th>deal_endDate</th>\n",
       "    </tr>\n",
       "  </thead>\n",
       "  <tbody>\n",
       "    <tr>\n",
       "      <th>9</th>\n",
       "      <td>2020-12-23</td>\n",
       "      <td>23:15:10</td>\n",
       "      <td>on a phone</td>\n",
       "      <td>47.0</td>\n",
       "      <td>on a tablet.</td>\n",
       "      <td>2.0</td>\n",
       "      <td>54148.0</td>\n",
       "      <td>3611</td>\n",
       "      <td>95.0</td>\n",
       "      <td>5.0</td>\n",
       "      <td>...</td>\n",
       "      <td>It's Singin' Cowboy Time: Xmas Up The Butt</td>\n",
       "      <td>2.0</td>\n",
       "      <td>2020-12-23T05:00:00.212Z</td>\n",
       "      <td>5fe2ced033253e0011f70a7f</td>\n",
       "      <td>0.0</td>\n",
       "      <td>https://meh.com/forum/topics/its-singin-cowboy...</td>\n",
       "      <td>2.0</td>\n",
       "      <td>https://www.youtube.com/watch?v=XRVXIHjna6U</td>\n",
       "      <td>None</td>\n",
       "      <td>None</td>\n",
       "    </tr>\n",
       "    <tr>\n",
       "      <th>10</th>\n",
       "      <td>2020-12-24</td>\n",
       "      <td>23:45:07</td>\n",
       "      <td>on a phone</td>\n",
       "      <td>51.0</td>\n",
       "      <td>on a tablet.</td>\n",
       "      <td>3.0</td>\n",
       "      <td>49148.0</td>\n",
       "      <td>3403</td>\n",
       "      <td>96.0</td>\n",
       "      <td>4.0</td>\n",
       "      <td>...</td>\n",
       "      <td>It's Singin' Cowboy Time: Xmas Up The Butt</td>\n",
       "      <td>3.0</td>\n",
       "      <td>2020-12-23T05:00:00.212Z</td>\n",
       "      <td>5fe2ced033253e0011f70a7f</td>\n",
       "      <td>0.0</td>\n",
       "      <td>https://meh.com/forum/topics/its-singin-cowboy...</td>\n",
       "      <td>2.0</td>\n",
       "      <td>https://www.youtube.com/watch?v=XRVXIHjna6U</td>\n",
       "      <td>None</td>\n",
       "      <td>None</td>\n",
       "    </tr>\n",
       "    <tr>\n",
       "      <th>11</th>\n",
       "      <td>2020-12-25</td>\n",
       "      <td>23:45:06</td>\n",
       "      <td>on a phone</td>\n",
       "      <td>43.0</td>\n",
       "      <td>on a tablet.</td>\n",
       "      <td>2.0</td>\n",
       "      <td>61955.0</td>\n",
       "      <td>3421</td>\n",
       "      <td>97.0</td>\n",
       "      <td>3.0</td>\n",
       "      <td>...</td>\n",
       "      <td>What Are You Doing Here</td>\n",
       "      <td>16.0</td>\n",
       "      <td>2020-12-25T05:00:00.245Z</td>\n",
       "      <td>5fe571d09001f50011d16035</td>\n",
       "      <td>4.0</td>\n",
       "      <td>https://meh.com/forum/topics/what-are-you-doin...</td>\n",
       "      <td>10.0</td>\n",
       "      <td>https://www.youtube.com/watch?v=yE0BdVZ2dH8</td>\n",
       "      <td>None</td>\n",
       "      <td>None</td>\n",
       "    </tr>\n",
       "    <tr>\n",
       "      <th>12</th>\n",
       "      <td>2020-12-26</td>\n",
       "      <td>23:45:08</td>\n",
       "      <td>on a phone</td>\n",
       "      <td>53.0</td>\n",
       "      <td>on a tablet.</td>\n",
       "      <td>3.0</td>\n",
       "      <td>48414.0</td>\n",
       "      <td>3445</td>\n",
       "      <td>95.0</td>\n",
       "      <td>5.0</td>\n",
       "      <td>...</td>\n",
       "      <td>Xmas Is Over</td>\n",
       "      <td>2.0</td>\n",
       "      <td>2020-12-26T05:00:00.297Z</td>\n",
       "      <td>5fe6c3509001f50011d1a1e9</td>\n",
       "      <td>1.0</td>\n",
       "      <td>https://meh.com/forum/topics/xmas-is-over-2</td>\n",
       "      <td>3.0</td>\n",
       "      <td>https://www.youtube.com/watch?v=HLAfQ1DAzDk</td>\n",
       "      <td>None</td>\n",
       "      <td>None</td>\n",
       "    </tr>\n",
       "    <tr>\n",
       "      <th>13</th>\n",
       "      <td>2020-12-27</td>\n",
       "      <td>23:45:06</td>\n",
       "      <td>on a phone</td>\n",
       "      <td>54.0</td>\n",
       "      <td>on a tablet.</td>\n",
       "      <td>3.0</td>\n",
       "      <td>51083.0</td>\n",
       "      <td>3301</td>\n",
       "      <td>96.0</td>\n",
       "      <td>4.0</td>\n",
       "      <td>...</td>\n",
       "      <td>Xmas Is Over</td>\n",
       "      <td>2.0</td>\n",
       "      <td>2020-12-26T05:00:00.297Z</td>\n",
       "      <td>5fe6c3509001f50011d1a1e9</td>\n",
       "      <td>3.0</td>\n",
       "      <td>https://meh.com/forum/topics/xmas-is-over-2</td>\n",
       "      <td>3.0</td>\n",
       "      <td>https://www.youtube.com/watch?v=HLAfQ1DAzDk</td>\n",
       "      <td>None</td>\n",
       "      <td>None</td>\n",
       "    </tr>\n",
       "  </tbody>\n",
       "</table>\n",
       "<p>5 rows × 64 columns</p>\n",
       "</div>"
      ],
      "text/plain": [
       "          date    time_x Page Views 1 Name  Page Views 1 Percent  \\\n",
       "9   2020-12-23  23:15:10        on a phone                  47.0   \n",
       "10  2020-12-24  23:45:07        on a phone                  51.0   \n",
       "11  2020-12-25  23:45:06        on a phone                  43.0   \n",
       "12  2020-12-26  23:45:08        on a phone                  53.0   \n",
       "13  2020-12-27  23:45:06        on a phone                  54.0   \n",
       "\n",
       "   Page Views 2 Name  Page Views 2 Percent  # Visited  Clicked Meh  \\\n",
       "9       on a tablet.                   2.0    54148.0         3611   \n",
       "10      on a tablet.                   3.0    49148.0         3403   \n",
       "11      on a tablet.                   2.0    61955.0         3421   \n",
       "12      on a tablet.                   3.0    48414.0         3445   \n",
       "13      on a tablet.                   3.0    51083.0         3301   \n",
       "\n",
       "    Typed Meh Percent  Referrals Percent  ...  \\\n",
       "9                95.0                5.0  ...   \n",
       "10               96.0                4.0  ...   \n",
       "11               97.0                3.0  ...   \n",
       "12               95.0                5.0  ...   \n",
       "13               96.0                4.0  ...   \n",
       "\n",
       "                                   video_title video_topic_commentCount  \\\n",
       "9   It's Singin' Cowboy Time: Xmas Up The Butt                      2.0   \n",
       "10  It's Singin' Cowboy Time: Xmas Up The Butt                      3.0   \n",
       "11                     What Are You Doing Here                     16.0   \n",
       "12                                Xmas Is Over                      2.0   \n",
       "13                                Xmas Is Over                      2.0   \n",
       "\n",
       "       video_topic_createdAt            video_topic_id  \\\n",
       "9   2020-12-23T05:00:00.212Z  5fe2ced033253e0011f70a7f   \n",
       "10  2020-12-23T05:00:00.212Z  5fe2ced033253e0011f70a7f   \n",
       "11  2020-12-25T05:00:00.245Z  5fe571d09001f50011d16035   \n",
       "12  2020-12-26T05:00:00.297Z  5fe6c3509001f50011d1a1e9   \n",
       "13  2020-12-26T05:00:00.297Z  5fe6c3509001f50011d1a1e9   \n",
       "\n",
       "    video_topic_replyCount                                    video_topic_url  \\\n",
       "9                      0.0  https://meh.com/forum/topics/its-singin-cowboy...   \n",
       "10                     0.0  https://meh.com/forum/topics/its-singin-cowboy...   \n",
       "11                     4.0  https://meh.com/forum/topics/what-are-you-doin...   \n",
       "12                     1.0        https://meh.com/forum/topics/xmas-is-over-2   \n",
       "13                     3.0        https://meh.com/forum/topics/xmas-is-over-2   \n",
       "\n",
       "    video_topic_voteCount                                    video_url  \\\n",
       "9                     2.0  https://www.youtube.com/watch?v=XRVXIHjna6U   \n",
       "10                    2.0  https://www.youtube.com/watch?v=XRVXIHjna6U   \n",
       "11                   10.0  https://www.youtube.com/watch?v=yE0BdVZ2dH8   \n",
       "12                    3.0  https://www.youtube.com/watch?v=HLAfQ1DAzDk   \n",
       "13                    3.0  https://www.youtube.com/watch?v=HLAfQ1DAzDk   \n",
       "\n",
       "    deal_soldOutAt deal_endDate  \n",
       "9             None         None  \n",
       "10            None         None  \n",
       "11            None         None  \n",
       "12            None         None  \n",
       "13            None         None  \n",
       "\n",
       "[5 rows x 64 columns]"
      ]
     },
     "execution_count": 19,
     "metadata": {},
     "output_type": "execute_result"
    }
   ],
   "source": [
    "eod_details.tail()"
   ]
  },
  {
   "cell_type": "code",
   "execution_count": null,
   "metadata": {},
   "outputs": [],
   "source": []
  },
  {
   "cell_type": "code",
   "execution_count": 20,
   "metadata": {},
   "outputs": [
    {
     "data": {
      "text/plain": [
       "# of Days                  14.00\n",
       "Sum $ sold             252747.00\n",
       "# of Items Sold         13782.00\n",
       "Avg Sale Price             22.34\n",
       "Total # of Visitors    776869.00\n",
       "Avg # of Visitors       55490.60\n",
       "Name:  , dtype: float64"
      ]
     },
     "execution_count": 20,
     "metadata": {},
     "output_type": "execute_result"
    }
   ],
   "source": [
    "keeper_metrics = {}\n",
    "keeper_metrics['# of Days'] = eod_details.shape[0]\n",
    "keeper_metrics['Sum $ sold'] = eod_details['Dollars Sold'].astype('float').sum()\n",
    "keeper_metrics['# of Items Sold'] = eod_details['Items Sold'].astype('float').sum()\n",
    "keeper_metrics['Avg Sale Price'] = np.round(eod_details['Avg Price'].mean(), 2)\n",
    "keeper_metrics['Total # of Visitors'] = eod_details['# Visited'].sum()\n",
    "keeper_metrics['Avg # of Visitors'] = np.round(eod_details['# Visited'].mean(), 1)\n",
    "keeper_series = pd.Series(keeper_metrics, name = ' ')\n",
    "keeper_series"
   ]
  },
  {
   "cell_type": "code",
   "execution_count": 21,
   "metadata": {},
   "outputs": [
    {
     "name": "stdout",
     "output_type": "stream",
     "text": [
      "Referrer 1 Count\n",
      "Referrer 2 Count\n",
      "Referrer 3 Count\n",
      "Referrer 4 Count\n",
      "Referrer 5 Count\n"
     ]
    }
   ],
   "source": [
    "for x in range(1, 6):\n",
    "    new_col_name = 'Referrer '+ str(x) + ' Count'\n",
    "    eod_details[new_col_name] = (eod_details['Referrer '+ str(x) +' Percent']) \\\n",
    "        * (eod_details['Referrals Percent']/100) \\\n",
    "        * eod_details['# Visited']\n",
    "    print(new_col_name)"
   ]
  },
  {
   "cell_type": "code",
   "execution_count": 22,
   "metadata": {},
   "outputs": [
    {
     "data": {
      "text/plain": [
       "count    14.000000\n",
       "mean      4.714286\n",
       "std       1.138729\n",
       "min       3.000000\n",
       "25%       4.000000\n",
       "50%       5.000000\n",
       "75%       5.000000\n",
       "max       8.000000\n",
       "Name: Referrals Percent, dtype: float64"
      ]
     },
     "execution_count": 22,
     "metadata": {},
     "output_type": "execute_result"
    }
   ],
   "source": [
    "eod_details['Referrals Percent'].describe()"
   ]
  },
  {
   "cell_type": "markdown",
   "metadata": {},
   "source": [
    "## Top By Dollar and Items Sold "
   ]
  },
  {
   "cell_type": "code",
   "execution_count": 23,
   "metadata": {
    "scrolled": true
   },
   "outputs": [],
   "source": [
    "top_dollars = eod_details.sort_values('Dollars Sold', ascending=False)\\\n",
    "    [['deal_title', 'Dollars Sold', 'Items Sold', 'Avg Price', 'date' ,'deal_soldOutAt']].head(3)"
   ]
  },
  {
   "cell_type": "code",
   "execution_count": 24,
   "metadata": {},
   "outputs": [],
   "source": [
    "top_items = eod_details.sort_values('Items Sold', ascending=False)\\\n",
    "    [['deal_title', 'Dollars Sold', 'Items Sold', 'Avg Price', 'date','deal_soldOutAt']].head(3)"
   ]
  },
  {
   "cell_type": "code",
   "execution_count": 25,
   "metadata": {},
   "outputs": [
    {
     "data": {
      "text/html": [
       "<div>\n",
       "<style scoped>\n",
       "    .dataframe tbody tr th:only-of-type {\n",
       "        vertical-align: middle;\n",
       "    }\n",
       "\n",
       "    .dataframe tbody tr th {\n",
       "        vertical-align: top;\n",
       "    }\n",
       "\n",
       "    .dataframe thead th {\n",
       "        text-align: right;\n",
       "    }\n",
       "</style>\n",
       "<table border=\"1\" class=\"dataframe\">\n",
       "  <thead>\n",
       "    <tr style=\"text-align: right;\">\n",
       "      <th></th>\n",
       "      <th>deal_title</th>\n",
       "      <th>Dollars Sold</th>\n",
       "      <th>Items Sold</th>\n",
       "      <th>Avg Price</th>\n",
       "      <th>date</th>\n",
       "      <th>deal_soldOutAt</th>\n",
       "    </tr>\n",
       "  </thead>\n",
       "  <tbody>\n",
       "    <tr>\n",
       "      <th>3</th>\n",
       "      <td>Pick-Your-2-Pack 500 or 1000 Piece Jigsaw Puzzles</td>\n",
       "      <td>36289.0</td>\n",
       "      <td>4086.0</td>\n",
       "      <td>8.88</td>\n",
       "      <td>2020-12-17</td>\n",
       "      <td>None</td>\n",
       "    </tr>\n",
       "    <tr>\n",
       "      <th>13</th>\n",
       "      <td>Avalanche by FŪL Backpacks</td>\n",
       "      <td>16711.0</td>\n",
       "      <td>1598.0</td>\n",
       "      <td>10.46</td>\n",
       "      <td>2020-12-27</td>\n",
       "      <td>None</td>\n",
       "    </tr>\n",
       "    <tr>\n",
       "      <th>0</th>\n",
       "      <td>FineLife Quantum Impact Percussion Massager</td>\n",
       "      <td>42964.0</td>\n",
       "      <td>1248.0</td>\n",
       "      <td>34.43</td>\n",
       "      <td>2020-12-14</td>\n",
       "      <td>None</td>\n",
       "    </tr>\n",
       "  </tbody>\n",
       "</table>\n",
       "</div>"
      ],
      "text/plain": [
       "                                           deal_title  Dollars Sold  \\\n",
       "3   Pick-Your-2-Pack 500 or 1000 Piece Jigsaw Puzzles       36289.0   \n",
       "13                         Avalanche by FŪL Backpacks       16711.0   \n",
       "0         FineLife Quantum Impact Percussion Massager       42964.0   \n",
       "\n",
       "    Items Sold  Avg Price        date deal_soldOutAt  \n",
       "3       4086.0       8.88  2020-12-17           None  \n",
       "13      1598.0      10.46  2020-12-27           None  \n",
       "0       1248.0      34.43  2020-12-14           None  "
      ]
     },
     "execution_count": 25,
     "metadata": {},
     "output_type": "execute_result"
    }
   ],
   "source": [
    "top_items"
   ]
  },
  {
   "cell_type": "code",
   "execution_count": 26,
   "metadata": {},
   "outputs": [
    {
     "data": {
      "text/html": [
       "<div>\n",
       "<style scoped>\n",
       "    .dataframe tbody tr th:only-of-type {\n",
       "        vertical-align: middle;\n",
       "    }\n",
       "\n",
       "    .dataframe tbody tr th {\n",
       "        vertical-align: top;\n",
       "    }\n",
       "\n",
       "    .dataframe thead th {\n",
       "        text-align: right;\n",
       "    }\n",
       "</style>\n",
       "<table border=\"1\" class=\"dataframe\">\n",
       "  <thead>\n",
       "    <tr style=\"text-align: right;\">\n",
       "      <th></th>\n",
       "      <th>deal_title</th>\n",
       "      <th>Dollars Sold</th>\n",
       "      <th>Items Sold</th>\n",
       "      <th>Avg Price</th>\n",
       "      <th>date</th>\n",
       "      <th>deal_soldOutAt</th>\n",
       "    </tr>\n",
       "  </thead>\n",
       "  <tbody>\n",
       "    <tr>\n",
       "      <th>0</th>\n",
       "      <td>FineLife Quantum Impact Percussion Massager</td>\n",
       "      <td>42964.0</td>\n",
       "      <td>1248.0</td>\n",
       "      <td>34.43</td>\n",
       "      <td>2020-12-14</td>\n",
       "      <td>None</td>\n",
       "    </tr>\n",
       "    <tr>\n",
       "      <th>3</th>\n",
       "      <td>Pick-Your-2-Pack 500 or 1000 Piece Jigsaw Puzzles</td>\n",
       "      <td>36289.0</td>\n",
       "      <td>4086.0</td>\n",
       "      <td>8.88</td>\n",
       "      <td>2020-12-17</td>\n",
       "      <td>None</td>\n",
       "    </tr>\n",
       "    <tr>\n",
       "      <th>2</th>\n",
       "      <td>Vistatech 2.4GHz Live-Streaming WiFi Video Drone</td>\n",
       "      <td>30635.0</td>\n",
       "      <td>699.0</td>\n",
       "      <td>43.83</td>\n",
       "      <td>2020-12-16</td>\n",
       "      <td>None</td>\n",
       "    </tr>\n",
       "  </tbody>\n",
       "</table>\n",
       "</div>"
      ],
      "text/plain": [
       "                                          deal_title  Dollars Sold  \\\n",
       "0        FineLife Quantum Impact Percussion Massager       42964.0   \n",
       "3  Pick-Your-2-Pack 500 or 1000 Piece Jigsaw Puzzles       36289.0   \n",
       "2   Vistatech 2.4GHz Live-Streaming WiFi Video Drone       30635.0   \n",
       "\n",
       "   Items Sold  Avg Price        date deal_soldOutAt  \n",
       "0      1248.0      34.43  2020-12-14           None  \n",
       "3      4086.0       8.88  2020-12-17           None  \n",
       "2       699.0      43.83  2020-12-16           None  "
      ]
     },
     "execution_count": 26,
     "metadata": {},
     "output_type": "execute_result"
    }
   ],
   "source": [
    "top_dollars"
   ]
  },
  {
   "cell_type": "raw",
   "metadata": {},
   "source": [
    "# Meh T Shirts.. \n",
    "eod_details[eod_details['deal_title'].str.contains('Meh')]\\\n",
    "    [['deal_title', 'Dollars Sold', 'Items Sold', 'Avg Price', 'date','deal_soldOutAt']].tail(20)"
   ]
  },
  {
   "cell_type": "markdown",
   "metadata": {},
   "source": [
    "## Referrer Analysis "
   ]
  },
  {
   "cell_type": "code",
   "execution_count": 27,
   "metadata": {},
   "outputs": [],
   "source": [
    "def get_total_count(eod_details, referrer_name):\n",
    "    ind = []\n",
    "    for referrer_index in range(1, 6):\n",
    "        dets = eod_details[eod_details[f'Referrer {referrer_index} Name'] == referrer_name][f'Referrer {referrer_index} Count']\n",
    "        ind.append(dets)\n",
    "    all_indexes = pd.concat(ind)\n",
    "    print('Number of records in total count: ', all_indexes.shape[0])\n",
    "    ref_sum = all_indexes.sum()\n",
    "    return(ref_sum)"
   ]
  },
  {
   "cell_type": "code",
   "execution_count": 28,
   "metadata": {},
   "outputs": [],
   "source": [
    "def get_referrer_details(eod_details, referrer_index):\n",
    "    index = str(referrer_index)\n",
    "    top_refferer = eod_details[f'Referrer {index} Name'].value_counts().head(1)\n",
    "    top_refferer = top_refferer\\\n",
    "        .reset_index()\\\n",
    "        .rename({'index':f'Referrer {index} Name', f'Referrer {index} Name':f'Times as Referrer {index}'}, axis = 1)\n",
    "    name = top_refferer[f'Referrer {index} Name'].values[0]\n",
    "    views_cnt = int(get_total_count(eod_details, name))\n",
    "    top_refferer[f'Referrer {index} Views Count'] = views_cnt\n",
    "    top_refferer[f'Refferer {index} Views Pct'] = np.round(100 * views_cnt/eod_details['# Visited'].sum(),2)\n",
    "\n",
    "    top_refferer = top_refferer.to_dict()\n",
    "    top_refferer_dict = {k:v.get(0) for k, v in top_refferer.items()}\n",
    "    return(top_refferer_dict)"
   ]
  },
  {
   "cell_type": "code",
   "execution_count": 29,
   "metadata": {},
   "outputs": [
    {
     "name": "stdout",
     "output_type": "stream",
     "text": [
      "Number of records in total count:  14\n",
      "Number of records in total count:  14\n"
     ]
    },
    {
     "data": {
      "text/plain": [
       "Referrer 1 Name            twitter.com\n",
       "Times as Referrer 1                 10\n",
       "Referrer 1 Views Count            9645\n",
       "Refferer 1 Views Pct              1.24\n",
       "Referrer 2 Name           facebook.com\n",
       "Times as Referrer 2                 12\n",
       "Referrer 2 Views Count            6691\n",
       "Refferer 2 Views Pct              0.86\n",
       "Name: , dtype: object"
      ]
     },
     "execution_count": 29,
     "metadata": {},
     "output_type": "execute_result"
    }
   ],
   "source": [
    "ref1 = get_referrer_details(eod_details, 1)\n",
    "ref2 = get_referrer_details(eod_details, 2)\n",
    "ref1_series = pd.Series(ref1)\n",
    "ref2_series = pd.Series(ref2)\n",
    "ref_series = pd.concat([ref1_series, ref2_series]).rename('')\n",
    "ref_series"
   ]
  },
  {
   "cell_type": "code",
   "execution_count": null,
   "metadata": {},
   "outputs": [],
   "source": []
  },
  {
   "cell_type": "markdown",
   "metadata": {},
   "source": [
    "## Create HTML "
   ]
  },
  {
   "cell_type": "code",
   "execution_count": 30,
   "metadata": {},
   "outputs": [],
   "source": [
    "keeper_df = pd.DataFrame(keeper_series)\n",
    "keeper_html = \"<strong> Key Metrics </strong>\"\n",
    "keeper_html += keeper_df.to_html()"
   ]
  },
  {
   "cell_type": "code",
   "execution_count": 31,
   "metadata": {},
   "outputs": [],
   "source": [
    "top_items_html = \"<strong> Top Items by Dollar </strong>\"\n",
    "top_items_html += top_items.to_html(index=False)"
   ]
  },
  {
   "cell_type": "code",
   "execution_count": 32,
   "metadata": {},
   "outputs": [],
   "source": [
    "top_dollars_html = \"<strong> Top Items by Dollar </strong>\"\n",
    "top_dollars_html += top_dollars.to_html(index=False)"
   ]
  },
  {
   "cell_type": "code",
   "execution_count": 33,
   "metadata": {},
   "outputs": [],
   "source": [
    "ref_series_df = pd.DataFrame(ref_series)\n",
    "ref_html = \"<strong> Referrals DF </strong>\"\n",
    "ref_html += ref_series_df.to_html()"
   ]
  },
  {
   "cell_type": "code",
   "execution_count": 34,
   "metadata": {},
   "outputs": [],
   "source": [
    "html_text = \" <br> <br> \".join([keeper_html, top_dollars_html, top_items_html, ref_html])"
   ]
  },
  {
   "cell_type": "markdown",
   "metadata": {},
   "source": [
    "## Send Analysis Email"
   ]
  },
  {
   "cell_type": "code",
   "execution_count": 35,
   "metadata": {},
   "outputs": [],
   "source": [
    "import smtplib\n",
    "import ssl\n",
    "from email.mime.text import MIMEText\n",
    "from email.mime.multipart import MIMEMultipart\n",
    "import base64\n",
    "import papermill as pm\n",
    "import os \n",
    "import sys\n",
    "import re \n",
    "import datetime\n",
    "import pickle\n",
    "import nbconvert\n",
    "\n",
    "import nbformat\n",
    "from traitlets.config import Config\n",
    "from nbconvert import HTMLExporter\n",
    "from nbconvert.writers import FilesWriter"
   ]
  },
  {
   "cell_type": "code",
   "execution_count": 36,
   "metadata": {},
   "outputs": [],
   "source": [
    "gmail_login = \"malctaylordev@gmail.com\"\n",
    "sender_email = \"malctaylordev@gmail.com\"\n",
    "# reciever_email = \"malctaylor15@gmail.com\"\n",
    "reciever_email = gmail_login"
   ]
  },
  {
   "cell_type": "code",
   "execution_count": 37,
   "metadata": {},
   "outputs": [],
   "source": [
    "message = MIMEMultipart('related')\n",
    "message[\"From\"] = sender_email\n",
    "message[\"To\"] = reciever_email\n",
    "port = 465\n",
    "context = ssl.create_default_context()"
   ]
  },
  {
   "cell_type": "code",
   "execution_count": 38,
   "metadata": {},
   "outputs": [],
   "source": [
    "with open('/home/malcolm/credentials/email_pw.pkl', 'rb') as hnd:\n",
    "    pw = pickle.load(hnd)['pw']"
   ]
  },
  {
   "cell_type": "code",
   "execution_count": 39,
   "metadata": {},
   "outputs": [],
   "source": [
    "message['subject'] = f'Weekly Meh Summary from {yesterday_str} and {two_weeks_ago_str}'\n",
    "\n",
    "# Encapsulate the plain and HTML versions of the message body in an\n",
    "# 'alternative' part, so message agents can decide which they want to display.\n",
    "msgAlternative = MIMEMultipart('alternative')\n",
    "message.attach(msgAlternative)\n",
    "\n",
    "msgText = MIMEText(html_text, 'html')\n",
    "msgAlternative.attach(msgText)"
   ]
  },
  {
   "cell_type": "code",
   "execution_count": 40,
   "metadata": {},
   "outputs": [],
   "source": [
    "with smtplib.SMTP_SSL(\"smtp.gmail.com\", port, context=context) as server:\n",
    "    server.login(gmail_login, pw)\n",
    "    server.sendmail(gmail_login, reciever_email, message.as_string())"
   ]
  },
  {
   "cell_type": "code",
   "execution_count": null,
   "metadata": {},
   "outputs": [],
   "source": []
  },
  {
   "cell_type": "code",
   "execution_count": null,
   "metadata": {},
   "outputs": [],
   "source": []
  }
 ],
 "metadata": {
  "kernelspec": {
   "display_name": "Python 3",
   "language": "python",
   "name": "python3"
  },
  "language_info": {
   "codemirror_mode": {
    "name": "ipython",
    "version": 3
   },
   "file_extension": ".py",
   "mimetype": "text/x-python",
   "name": "python",
   "nbconvert_exporter": "python",
   "pygments_lexer": "ipython3",
   "version": "3.6.9"
  },
  "toc": {
   "base_numbering": 1,
   "nav_menu": {},
   "number_sections": true,
   "sideBar": true,
   "skip_h1_title": false,
   "title_cell": "Table of Contents",
   "title_sidebar": "Contents",
   "toc_cell": false,
   "toc_position": {},
   "toc_section_display": true,
   "toc_window_display": false
  }
 },
 "nbformat": 4,
 "nbformat_minor": 4
}
