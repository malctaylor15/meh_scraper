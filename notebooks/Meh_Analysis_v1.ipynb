{
 "cells": [
  {
   "cell_type": "code",
   "execution_count": 1,
   "metadata": {},
   "outputs": [],
   "source": [
    "import pandas as pd\n",
    "import numpy as np \n",
    "import sqlite3 \n",
    "import os \n",
    "import sys \n",
    "import datetime\n",
    "import plotly.express as px"
   ]
  },
  {
   "cell_type": "code",
   "execution_count": 2,
   "metadata": {},
   "outputs": [
    {
     "name": "stdout",
     "output_type": "stream",
     "text": [
      "Changed dir\n",
      "/home/malcolm/meh_scraper\n"
     ]
    }
   ],
   "source": [
    "current_path_split = os.getcwd().split('/')\n",
    "if current_path_split[-1] == 'notebooks':\n",
    "    os.chdir('..')\n",
    "    print('Changed dir')\n",
    "    print(os.getcwd())\n",
    "elif current_path_split[-1] == 'run_notebooks':\n",
    "    os.chdir('../..')\n",
    "    print('Changed dir')\n",
    "    print(os.getcwd())\n"
   ]
  },
  {
   "cell_type": "code",
   "execution_count": 3,
   "metadata": {
    "tags": [
     "parameters"
    ]
   },
   "outputs": [],
   "source": [
    "db_location = 'data/meh_scraper.db'"
   ]
  },
  {
   "cell_type": "code",
   "execution_count": 4,
   "metadata": {},
   "outputs": [],
   "source": [
    "con = sqlite3.connect(db_location)\n",
    "cursor = con.cursor()"
   ]
  },
  {
   "cell_type": "code",
   "execution_count": 5,
   "metadata": {},
   "outputs": [
    {
     "data": {
      "text/plain": [
       "['raw_response_backup',\n",
       " 'raw_site_community_stats',\n",
       " 'selling_details',\n",
       " 'products']"
      ]
     },
     "execution_count": 5,
     "metadata": {},
     "output_type": "execute_result"
    }
   ],
   "source": [
    "tables = cursor.execute(\"SELECT name FROM sqlite_master WHERE type='table'\").fetchall()\n",
    "tables = [x[0] for x in tables]\n",
    "tables"
   ]
  },
  {
   "cell_type": "code",
   "execution_count": 6,
   "metadata": {},
   "outputs": [
    {
     "name": "stdout",
     "output_type": "stream",
     "text": [
      "raw_response_backup  :  804\n",
      "raw_site_community_stats  :  36268\n",
      "selling_details  :  34913\n",
      "products  :  793\n"
     ]
    }
   ],
   "source": [
    "for x in tables:\n",
    "    temp_cnt = cursor.execute(f'select count(*) from {x}').fetchall()[0][0]\n",
    "    print(x, \" : \", temp_cnt)"
   ]
  },
  {
   "cell_type": "code",
   "execution_count": 7,
   "metadata": {},
   "outputs": [
    {
     "name": "stdout",
     "output_type": "stream",
     "text": [
      "From: 2022-06-23 to 2022-07-08\n"
     ]
    }
   ],
   "source": [
    "yesterday = datetime.datetime.now() - datetime.timedelta(days=1)\n",
    "two_weeks_ago = yesterday - datetime.timedelta(days=15)\n",
    "yesterday_str = yesterday.strftime('%Y-%m-%d')\n",
    "two_weeks_ago_str = two_weeks_ago.strftime('%Y-%m-%d')\n",
    "print(f\"From: {two_weeks_ago_str} to {yesterday_str}\")"
   ]
  },
  {
   "cell_type": "code",
   "execution_count": 8,
   "metadata": {},
   "outputs": [],
   "source": [
    "details_sql = f\"select * from selling_details where date between '{two_weeks_ago}' and '{yesterday}'\"\n",
    "products_sql = f\"select * from products where date between '{two_weeks_ago}' and '{yesterday}'\""
   ]
  },
  {
   "cell_type": "code",
   "execution_count": 9,
   "metadata": {},
   "outputs": [],
   "source": [
    "details = pd.read_sql(details_sql, con)\n",
    "products = pd.read_sql(products_sql, con)\n",
    "\n",
    "detail_numeric_cols = ['Page Views 1 Percent', 'Page Views 2 Percent', \n",
    " '# Visited', 'Typed Meh Percent',\n",
    " 'Referrals Percent' , 'Referrer 1 Percent', 'Referrer 2 Percent',\n",
    " 'Referrer 3 Percent', 'Referrer 4 Percent', 'Referrer 5 Percent', \n",
    " 'Items Sold', 'Dollars Sold']\n",
    "for col in detail_numeric_cols:\n",
    "    details[col] = details[col].astype(float)"
   ]
  },
  {
   "cell_type": "code",
   "execution_count": 10,
   "metadata": {},
   "outputs": [
    {
     "data": {
      "text/plain": [
       "(669, 22)"
      ]
     },
     "execution_count": 10,
     "metadata": {},
     "output_type": "execute_result"
    }
   ],
   "source": [
    "details.shape"
   ]
  },
  {
   "cell_type": "code",
   "execution_count": 11,
   "metadata": {},
   "outputs": [
    {
     "data": {
      "text/plain": [
       "Index(['date', 'time', 'Page Views 1 Name', 'Page Views 1 Percent',\n",
       "       'Page Views 2 Name', 'Page Views 2 Percent', '# Visited', 'Clicked Meh',\n",
       "       'Typed Meh Percent', 'Referrals Percent', 'Referrer 1 Percent',\n",
       "       'Referrer 1 Name', 'Referrer 2 Percent', 'Referrer 2 Name',\n",
       "       'Referrer 3 Percent', 'Referrer 3 Name', 'Referrer 4 Percent',\n",
       "       'Referrer 4 Name', 'Referrer 5 Percent', 'Referrer 5 Name',\n",
       "       'Items Sold', 'Dollars Sold'],\n",
       "      dtype='object')"
      ]
     },
     "execution_count": 11,
     "metadata": {},
     "output_type": "execute_result"
    }
   ],
   "source": [
    "details.columns"
   ]
  },
  {
   "cell_type": "code",
   "execution_count": 12,
   "metadata": {},
   "outputs": [
    {
     "data": {
      "text/html": [
       "<div>\n",
       "<style scoped>\n",
       "    .dataframe tbody tr th:only-of-type {\n",
       "        vertical-align: middle;\n",
       "    }\n",
       "\n",
       "    .dataframe tbody tr th {\n",
       "        vertical-align: top;\n",
       "    }\n",
       "\n",
       "    .dataframe thead th {\n",
       "        text-align: right;\n",
       "    }\n",
       "</style>\n",
       "<table border=\"1\" class=\"dataframe\">\n",
       "  <thead>\n",
       "    <tr style=\"text-align: right;\">\n",
       "      <th></th>\n",
       "      <th>date</th>\n",
       "      <th>time</th>\n",
       "      <th>Page Views 1 Name</th>\n",
       "      <th>Page Views 1 Percent</th>\n",
       "      <th>Page Views 2 Name</th>\n",
       "      <th>Page Views 2 Percent</th>\n",
       "      <th># Visited</th>\n",
       "      <th>Clicked Meh</th>\n",
       "      <th>Typed Meh Percent</th>\n",
       "      <th>Referrals Percent</th>\n",
       "      <th>...</th>\n",
       "      <th>Referrer 2 Percent</th>\n",
       "      <th>Referrer 2 Name</th>\n",
       "      <th>Referrer 3 Percent</th>\n",
       "      <th>Referrer 3 Name</th>\n",
       "      <th>Referrer 4 Percent</th>\n",
       "      <th>Referrer 4 Name</th>\n",
       "      <th>Referrer 5 Percent</th>\n",
       "      <th>Referrer 5 Name</th>\n",
       "      <th>Items Sold</th>\n",
       "      <th>Dollars Sold</th>\n",
       "    </tr>\n",
       "  </thead>\n",
       "  <tbody>\n",
       "    <tr>\n",
       "      <th>0</th>\n",
       "      <td>2022-06-24</td>\n",
       "      <td>00:15:06</td>\n",
       "      <td>on a phone</td>\n",
       "      <td>67.0</td>\n",
       "      <td>on a tablet.</td>\n",
       "      <td>2.0</td>\n",
       "      <td>2312.0</td>\n",
       "      <td>522</td>\n",
       "      <td>94.0</td>\n",
       "      <td>6.0</td>\n",
       "      <td>...</td>\n",
       "      <td>NaN</td>\n",
       "      <td>None</td>\n",
       "      <td>NaN</td>\n",
       "      <td>None</td>\n",
       "      <td>NaN</td>\n",
       "      <td>None</td>\n",
       "      <td>NaN</td>\n",
       "      <td>None</td>\n",
       "      <td>15.0</td>\n",
       "      <td>737.0</td>\n",
       "    </tr>\n",
       "    <tr>\n",
       "      <th>1</th>\n",
       "      <td>2022-06-24</td>\n",
       "      <td>00:45:07</td>\n",
       "      <td>on a phone</td>\n",
       "      <td>63.0</td>\n",
       "      <td>on a tablet.</td>\n",
       "      <td>2.0</td>\n",
       "      <td>3986.0</td>\n",
       "      <td>801</td>\n",
       "      <td>94.0</td>\n",
       "      <td>6.0</td>\n",
       "      <td>...</td>\n",
       "      <td>NaN</td>\n",
       "      <td>None</td>\n",
       "      <td>NaN</td>\n",
       "      <td>None</td>\n",
       "      <td>NaN</td>\n",
       "      <td>None</td>\n",
       "      <td>NaN</td>\n",
       "      <td>None</td>\n",
       "      <td>25.0</td>\n",
       "      <td>1223.0</td>\n",
       "    </tr>\n",
       "    <tr>\n",
       "      <th>2</th>\n",
       "      <td>2022-06-24</td>\n",
       "      <td>01:16:47</td>\n",
       "      <td>on a phone</td>\n",
       "      <td>62.0</td>\n",
       "      <td>on a tablet.</td>\n",
       "      <td>2.0</td>\n",
       "      <td>5147.0</td>\n",
       "      <td>937</td>\n",
       "      <td>94.0</td>\n",
       "      <td>6.0</td>\n",
       "      <td>...</td>\n",
       "      <td>0.150473</td>\n",
       "      <td>mehstalker.com</td>\n",
       "      <td>NaN</td>\n",
       "      <td>None</td>\n",
       "      <td>NaN</td>\n",
       "      <td>None</td>\n",
       "      <td>NaN</td>\n",
       "      <td>None</td>\n",
       "      <td>34.0</td>\n",
       "      <td>1677.0</td>\n",
       "    </tr>\n",
       "    <tr>\n",
       "      <th>3</th>\n",
       "      <td>2022-06-24</td>\n",
       "      <td>01:45:06</td>\n",
       "      <td>on a phone</td>\n",
       "      <td>60.0</td>\n",
       "      <td>on a tablet.</td>\n",
       "      <td>2.0</td>\n",
       "      <td>6083.0</td>\n",
       "      <td>1006</td>\n",
       "      <td>94.0</td>\n",
       "      <td>6.0</td>\n",
       "      <td>...</td>\n",
       "      <td>0.145138</td>\n",
       "      <td>mehstalker.com</td>\n",
       "      <td>0.126996</td>\n",
       "      <td>facebook.com</td>\n",
       "      <td>0.090711</td>\n",
       "      <td>sidedeal.com</td>\n",
       "      <td>NaN</td>\n",
       "      <td>None</td>\n",
       "      <td>36.0</td>\n",
       "      <td>1782.0</td>\n",
       "    </tr>\n",
       "    <tr>\n",
       "      <th>4</th>\n",
       "      <td>2022-06-24</td>\n",
       "      <td>02:15:06</td>\n",
       "      <td>on a phone</td>\n",
       "      <td>59.0</td>\n",
       "      <td>on a tablet.</td>\n",
       "      <td>2.0</td>\n",
       "      <td>6816.0</td>\n",
       "      <td>1067</td>\n",
       "      <td>94.0</td>\n",
       "      <td>6.0</td>\n",
       "      <td>...</td>\n",
       "      <td>0.145513</td>\n",
       "      <td>mehstalker.com</td>\n",
       "      <td>0.113177</td>\n",
       "      <td>facebook.com</td>\n",
       "      <td>0.080841</td>\n",
       "      <td>sidedeal.com</td>\n",
       "      <td>NaN</td>\n",
       "      <td>None</td>\n",
       "      <td>39.0</td>\n",
       "      <td>1939.0</td>\n",
       "    </tr>\n",
       "  </tbody>\n",
       "</table>\n",
       "<p>5 rows × 22 columns</p>\n",
       "</div>"
      ],
      "text/plain": [
       "         date      time Page Views 1 Name  Page Views 1 Percent  \\\n",
       "0  2022-06-24  00:15:06        on a phone                  67.0   \n",
       "1  2022-06-24  00:45:07        on a phone                  63.0   \n",
       "2  2022-06-24  01:16:47        on a phone                  62.0   \n",
       "3  2022-06-24  01:45:06        on a phone                  60.0   \n",
       "4  2022-06-24  02:15:06        on a phone                  59.0   \n",
       "\n",
       "  Page Views 2 Name  Page Views 2 Percent  # Visited  Clicked Meh  \\\n",
       "0      on a tablet.                   2.0     2312.0          522   \n",
       "1      on a tablet.                   2.0     3986.0          801   \n",
       "2      on a tablet.                   2.0     5147.0          937   \n",
       "3      on a tablet.                   2.0     6083.0         1006   \n",
       "4      on a tablet.                   2.0     6816.0         1067   \n",
       "\n",
       "   Typed Meh Percent  Referrals Percent  ...  Referrer 2 Percent  \\\n",
       "0               94.0                6.0  ...                 NaN   \n",
       "1               94.0                6.0  ...                 NaN   \n",
       "2               94.0                6.0  ...            0.150473   \n",
       "3               94.0                6.0  ...            0.145138   \n",
       "4               94.0                6.0  ...            0.145513   \n",
       "\n",
       "  Referrer 2 Name  Referrer 3 Percent Referrer 3 Name  Referrer 4 Percent  \\\n",
       "0            None                 NaN            None                 NaN   \n",
       "1            None                 NaN            None                 NaN   \n",
       "2  mehstalker.com                 NaN            None                 NaN   \n",
       "3  mehstalker.com            0.126996    facebook.com            0.090711   \n",
       "4  mehstalker.com            0.113177    facebook.com            0.080841   \n",
       "\n",
       "  Referrer 4 Name  Referrer 5 Percent Referrer 5 Name  Items Sold Dollars Sold  \n",
       "0            None                 NaN            None        15.0        737.0  \n",
       "1            None                 NaN            None        25.0       1223.0  \n",
       "2            None                 NaN            None        34.0       1677.0  \n",
       "3    sidedeal.com                 NaN            None        36.0       1782.0  \n",
       "4    sidedeal.com                 NaN            None        39.0       1939.0  \n",
       "\n",
       "[5 rows x 22 columns]"
      ]
     },
     "execution_count": 12,
     "metadata": {},
     "output_type": "execute_result"
    }
   ],
   "source": [
    "details.head()"
   ]
  },
  {
   "cell_type": "code",
   "execution_count": 13,
   "metadata": {},
   "outputs": [
    {
     "data": {
      "text/plain": [
       "Index(['date', 'deal_features', 'deal_id',\n",
       "       'deal_purchaseQuantity_maximumLimit',\n",
       "       'deal_purchaseQuantity_minimumLimit', 'deal_specifications',\n",
       "       'deal_story_body', 'deal_story_title', 'deal_theme_accentColor',\n",
       "       'deal_theme_backgroundColor', 'deal_theme_backgroundImage',\n",
       "       'deal_theme_foreground', 'deal_title', 'deal_topic_commentCount',\n",
       "       'deal_topic_createdAt', 'deal_topic_id', 'deal_topic_replyCount',\n",
       "       'deal_topic_url', 'deal_topic_voteCount', 'deal_url', 'poll_id',\n",
       "       'poll_startDate', 'poll_title', 'poll_topic_commentCount',\n",
       "       'poll_topic_createdAt', 'poll_topic_id', 'poll_topic_replyCount',\n",
       "       'poll_topic_url', 'poll_topic_voteCount', 'time', 'video_id',\n",
       "       'video_startDate', 'video_title', 'video_topic_commentCount',\n",
       "       'video_topic_createdAt', 'video_topic_id', 'video_topic_replyCount',\n",
       "       'video_topic_url', 'video_topic_voteCount', 'video_url',\n",
       "       'deal_soldOutAt', 'deal_endDate'],\n",
       "      dtype='object')"
      ]
     },
     "execution_count": 13,
     "metadata": {},
     "output_type": "execute_result"
    }
   ],
   "source": [
    "products.columns"
   ]
  },
  {
   "cell_type": "code",
   "execution_count": 14,
   "metadata": {
    "scrolled": true
   },
   "outputs": [
    {
     "data": {
      "text/html": [
       "<div>\n",
       "<style scoped>\n",
       "    .dataframe tbody tr th:only-of-type {\n",
       "        vertical-align: middle;\n",
       "    }\n",
       "\n",
       "    .dataframe tbody tr th {\n",
       "        vertical-align: top;\n",
       "    }\n",
       "\n",
       "    .dataframe thead th {\n",
       "        text-align: right;\n",
       "    }\n",
       "</style>\n",
       "<table border=\"1\" class=\"dataframe\">\n",
       "  <thead>\n",
       "    <tr style=\"text-align: right;\">\n",
       "      <th></th>\n",
       "      <th>date</th>\n",
       "      <th>deal_features</th>\n",
       "      <th>deal_id</th>\n",
       "      <th>deal_purchaseQuantity_maximumLimit</th>\n",
       "      <th>deal_purchaseQuantity_minimumLimit</th>\n",
       "      <th>deal_specifications</th>\n",
       "      <th>deal_story_body</th>\n",
       "      <th>deal_story_title</th>\n",
       "      <th>deal_theme_accentColor</th>\n",
       "      <th>deal_theme_backgroundColor</th>\n",
       "      <th>...</th>\n",
       "      <th>video_title</th>\n",
       "      <th>video_topic_commentCount</th>\n",
       "      <th>video_topic_createdAt</th>\n",
       "      <th>video_topic_id</th>\n",
       "      <th>video_topic_replyCount</th>\n",
       "      <th>video_topic_url</th>\n",
       "      <th>video_topic_voteCount</th>\n",
       "      <th>video_url</th>\n",
       "      <th>deal_soldOutAt</th>\n",
       "      <th>deal_endDate</th>\n",
       "    </tr>\n",
       "  </thead>\n",
       "  <tbody>\n",
       "    <tr>\n",
       "      <th>0</th>\n",
       "      <td>2022-06-24</td>\n",
       "      <td>- Okay, so, it's like, you know how usually th...</td>\n",
       "      <td>a6k6e000000r0lMAAQ</td>\n",
       "      <td>3</td>\n",
       "      <td>1</td>\n",
       "      <td>Specs\\r\\n====\\r\\nProduct: 2-Pack: Mr. Beams 50...</td>\n",
       "      <td>No matter what, you always dream of ways to tu...</td>\n",
       "      <td>Easy Ambiance</td>\n",
       "      <td>#00fffc</td>\n",
       "      <td>#1c192c</td>\n",
       "      <td>...</td>\n",
       "      <td>Garfield Hates Mondays: Maybe It Bothers Me Mo...</td>\n",
       "      <td>0.0</td>\n",
       "      <td>2022-06-24T04:00:00.296Z</td>\n",
       "      <td>62b536c0df2d0d4b686dace7</td>\n",
       "      <td>0.0</td>\n",
       "      <td>https://meh.com/forum/topics/garfield-hates-mo...</td>\n",
       "      <td>2.0</td>\n",
       "      <td>https://www.youtube.com/watch?v=9xY3gBL0MVA</td>\n",
       "      <td>None</td>\n",
       "      <td>None</td>\n",
       "    </tr>\n",
       "    <tr>\n",
       "      <th>1</th>\n",
       "      <td>2022-06-25</td>\n",
       "      <td>- They're basic shirts, BUT THERE'S A TWIST\\r\\...</td>\n",
       "      <td>a6k6e000000qz2gAAA</td>\n",
       "      <td>3</td>\n",
       "      <td>1</td>\n",
       "      <td>Specs\\r\\n====\\r\\nProduct: 5-Pack: Moisture-Wic...</td>\n",
       "      <td>Okay, here's the situation: it's 90 degrees ou...</td>\n",
       "      <td>Wick Rolled</td>\n",
       "      <td>#4bff38</td>\n",
       "      <td>#072c03</td>\n",
       "      <td>...</td>\n",
       "      <td>Hey Everybody, It's Glen - Sports Small Talk</td>\n",
       "      <td>1.0</td>\n",
       "      <td>2022-06-25T04:00:00.201Z</td>\n",
       "      <td>62b68840df2d0d4b68707209</td>\n",
       "      <td>0.0</td>\n",
       "      <td>https://meh.com/forum/topics/hey-everybody-its...</td>\n",
       "      <td>1.0</td>\n",
       "      <td>https://www.youtube.com/watch?v=mqpmUqmr9fs</td>\n",
       "      <td>None</td>\n",
       "      <td>None</td>\n",
       "    </tr>\n",
       "    <tr>\n",
       "      <th>2</th>\n",
       "      <td>2022-06-26</td>\n",
       "      <td>- A variety of differently-sized, lidded food ...</td>\n",
       "      <td>a6k6e000000r0sNAAQ</td>\n",
       "      <td>3</td>\n",
       "      <td>1</td>\n",
       "      <td>Specs\\r\\n====\\r\\nProduct: 17-Piece: Honey Can ...</td>\n",
       "      <td>This really isn't so complicated. It's a 15-pi...</td>\n",
       "      <td>Opinion Depot</td>\n",
       "      <td>#ff00fc</td>\n",
       "      <td>#3d3042</td>\n",
       "      <td>...</td>\n",
       "      <td>It's Singin' Cowboy Time: If I Was Batman</td>\n",
       "      <td>1.0</td>\n",
       "      <td>2022-06-26T04:00:00.244Z</td>\n",
       "      <td>62b7d9c0df2d0d4b6873707a</td>\n",
       "      <td>2.0</td>\n",
       "      <td>https://meh.com/forum/topics/its-singin-cowboy...</td>\n",
       "      <td>3.0</td>\n",
       "      <td>https://www.youtube.com/watch?v=oe7RRJc-yLs</td>\n",
       "      <td>None</td>\n",
       "      <td>None</td>\n",
       "    </tr>\n",
       "    <tr>\n",
       "      <th>3</th>\n",
       "      <td>2022-06-27</td>\n",
       "      <td>- A name-brand, genuinely badass food processo...</td>\n",
       "      <td>a6k6e000000r0shAAA</td>\n",
       "      <td>3</td>\n",
       "      <td>1</td>\n",
       "      <td>Specs\\r\\n====\\r\\nProduct: Cuisinart 9-Cup Prep...</td>\n",
       "      <td>Words are stupid. \\r\\n\\r\\nOr at least people u...</td>\n",
       "      <td>Semantic saturation and the war on chicken paste.</td>\n",
       "      <td>#7e2425</td>\n",
       "      <td>#0080b1</td>\n",
       "      <td>...</td>\n",
       "      <td>Ask Irk: Clickbait Headlines?</td>\n",
       "      <td>1.0</td>\n",
       "      <td>2022-06-27T04:00:00.171Z</td>\n",
       "      <td>62b92b403f96f191e95149f2</td>\n",
       "      <td>1.0</td>\n",
       "      <td>https://meh.com/forum/topics/ask-irk-clickbait...</td>\n",
       "      <td>2.0</td>\n",
       "      <td>https://www.youtube.com/watch?v=kZS7FkbbK-8</td>\n",
       "      <td>None</td>\n",
       "      <td>None</td>\n",
       "    </tr>\n",
       "    <tr>\n",
       "      <th>4</th>\n",
       "      <td>2022-06-28</td>\n",
       "      <td>- Liquid absorbs way better than pills, tablet...</td>\n",
       "      <td>a6k6e000000r16KAAQ</td>\n",
       "      <td>3</td>\n",
       "      <td>1</td>\n",
       "      <td>Specs\\r\\n====\\r\\nProduct: 2-Pack: NutraBurst O...</td>\n",
       "      <td>There you are at the kitchen table, jaw aching...</td>\n",
       "      <td>Or just get scurvy</td>\n",
       "      <td>#f60000</td>\n",
       "      <td>#650074</td>\n",
       "      <td>...</td>\n",
       "      <td>You Want Boat?</td>\n",
       "      <td>3.0</td>\n",
       "      <td>2022-06-28T04:00:00.214Z</td>\n",
       "      <td>62ba7cc0df2d0d4b68791b31</td>\n",
       "      <td>1.0</td>\n",
       "      <td>https://meh.com/forum/topics/you-want-boat-3</td>\n",
       "      <td>0.0</td>\n",
       "      <td>https://www.youtube.com/watch?v=bCv1D2Ub80k</td>\n",
       "      <td>None</td>\n",
       "      <td>None</td>\n",
       "    </tr>\n",
       "  </tbody>\n",
       "</table>\n",
       "<p>5 rows × 42 columns</p>\n",
       "</div>"
      ],
      "text/plain": [
       "         date                                      deal_features  \\\n",
       "0  2022-06-24  - Okay, so, it's like, you know how usually th...   \n",
       "1  2022-06-25  - They're basic shirts, BUT THERE'S A TWIST\\r\\...   \n",
       "2  2022-06-26  - A variety of differently-sized, lidded food ...   \n",
       "3  2022-06-27  - A name-brand, genuinely badass food processo...   \n",
       "4  2022-06-28  - Liquid absorbs way better than pills, tablet...   \n",
       "\n",
       "              deal_id  deal_purchaseQuantity_maximumLimit  \\\n",
       "0  a6k6e000000r0lMAAQ                                   3   \n",
       "1  a6k6e000000qz2gAAA                                   3   \n",
       "2  a6k6e000000r0sNAAQ                                   3   \n",
       "3  a6k6e000000r0shAAA                                   3   \n",
       "4  a6k6e000000r16KAAQ                                   3   \n",
       "\n",
       "   deal_purchaseQuantity_minimumLimit  \\\n",
       "0                                   1   \n",
       "1                                   1   \n",
       "2                                   1   \n",
       "3                                   1   \n",
       "4                                   1   \n",
       "\n",
       "                                 deal_specifications  \\\n",
       "0  Specs\\r\\n====\\r\\nProduct: 2-Pack: Mr. Beams 50...   \n",
       "1  Specs\\r\\n====\\r\\nProduct: 5-Pack: Moisture-Wic...   \n",
       "2  Specs\\r\\n====\\r\\nProduct: 17-Piece: Honey Can ...   \n",
       "3  Specs\\r\\n====\\r\\nProduct: Cuisinart 9-Cup Prep...   \n",
       "4  Specs\\r\\n====\\r\\nProduct: 2-Pack: NutraBurst O...   \n",
       "\n",
       "                                     deal_story_body  \\\n",
       "0  No matter what, you always dream of ways to tu...   \n",
       "1  Okay, here's the situation: it's 90 degrees ou...   \n",
       "2  This really isn't so complicated. It's a 15-pi...   \n",
       "3  Words are stupid. \\r\\n\\r\\nOr at least people u...   \n",
       "4  There you are at the kitchen table, jaw aching...   \n",
       "\n",
       "                                    deal_story_title deal_theme_accentColor  \\\n",
       "0                                      Easy Ambiance                #00fffc   \n",
       "1                                        Wick Rolled                #4bff38   \n",
       "2                                      Opinion Depot                #ff00fc   \n",
       "3  Semantic saturation and the war on chicken paste.                #7e2425   \n",
       "4                                 Or just get scurvy                #f60000   \n",
       "\n",
       "  deal_theme_backgroundColor  ...  \\\n",
       "0                    #1c192c  ...   \n",
       "1                    #072c03  ...   \n",
       "2                    #3d3042  ...   \n",
       "3                    #0080b1  ...   \n",
       "4                    #650074  ...   \n",
       "\n",
       "                                         video_title video_topic_commentCount  \\\n",
       "0  Garfield Hates Mondays: Maybe It Bothers Me Mo...                      0.0   \n",
       "1       Hey Everybody, It's Glen - Sports Small Talk                      1.0   \n",
       "2          It's Singin' Cowboy Time: If I Was Batman                      1.0   \n",
       "3                      Ask Irk: Clickbait Headlines?                      1.0   \n",
       "4                                     You Want Boat?                      3.0   \n",
       "\n",
       "      video_topic_createdAt            video_topic_id video_topic_replyCount  \\\n",
       "0  2022-06-24T04:00:00.296Z  62b536c0df2d0d4b686dace7                    0.0   \n",
       "1  2022-06-25T04:00:00.201Z  62b68840df2d0d4b68707209                    0.0   \n",
       "2  2022-06-26T04:00:00.244Z  62b7d9c0df2d0d4b6873707a                    2.0   \n",
       "3  2022-06-27T04:00:00.171Z  62b92b403f96f191e95149f2                    1.0   \n",
       "4  2022-06-28T04:00:00.214Z  62ba7cc0df2d0d4b68791b31                    1.0   \n",
       "\n",
       "                                     video_topic_url  video_topic_voteCount  \\\n",
       "0  https://meh.com/forum/topics/garfield-hates-mo...                    2.0   \n",
       "1  https://meh.com/forum/topics/hey-everybody-its...                    1.0   \n",
       "2  https://meh.com/forum/topics/its-singin-cowboy...                    3.0   \n",
       "3  https://meh.com/forum/topics/ask-irk-clickbait...                    2.0   \n",
       "4       https://meh.com/forum/topics/you-want-boat-3                    0.0   \n",
       "\n",
       "                                     video_url  deal_soldOutAt deal_endDate  \n",
       "0  https://www.youtube.com/watch?v=9xY3gBL0MVA            None         None  \n",
       "1  https://www.youtube.com/watch?v=mqpmUqmr9fs            None         None  \n",
       "2  https://www.youtube.com/watch?v=oe7RRJc-yLs            None         None  \n",
       "3  https://www.youtube.com/watch?v=kZS7FkbbK-8            None         None  \n",
       "4  https://www.youtube.com/watch?v=bCv1D2Ub80k            None         None  \n",
       "\n",
       "[5 rows x 42 columns]"
      ]
     },
     "execution_count": 14,
     "metadata": {},
     "output_type": "execute_result"
    }
   ],
   "source": [
    "products.head()"
   ]
  },
  {
   "cell_type": "code",
   "execution_count": 15,
   "metadata": {},
   "outputs": [
    {
     "data": {
      "text/plain": [
       "Index(['date', 'time', 'Page Views 1 Name', 'Page Views 1 Percent',\n",
       "       'Page Views 2 Name', 'Page Views 2 Percent', '# Visited', 'Clicked Meh',\n",
       "       'Typed Meh Percent', 'Referrals Percent', 'Referrer 1 Percent',\n",
       "       'Referrer 1 Name', 'Referrer 2 Percent', 'Referrer 2 Name',\n",
       "       'Referrer 3 Percent', 'Referrer 3 Name', 'Referrer 4 Percent',\n",
       "       'Referrer 4 Name', 'Referrer 5 Percent', 'Referrer 5 Name',\n",
       "       'Items Sold', 'Dollars Sold'],\n",
       "      dtype='object')"
      ]
     },
     "execution_count": 15,
     "metadata": {},
     "output_type": "execute_result"
    }
   ],
   "source": [
    "details.columns"
   ]
  },
  {
   "cell_type": "code",
   "execution_count": 16,
   "metadata": {
    "scrolled": true
   },
   "outputs": [
    {
     "data": {
      "text/html": [
       "<div>\n",
       "<style scoped>\n",
       "    .dataframe tbody tr th:only-of-type {\n",
       "        vertical-align: middle;\n",
       "    }\n",
       "\n",
       "    .dataframe tbody tr th {\n",
       "        vertical-align: top;\n",
       "    }\n",
       "\n",
       "    .dataframe thead th {\n",
       "        text-align: right;\n",
       "    }\n",
       "</style>\n",
       "<table border=\"1\" class=\"dataframe\">\n",
       "  <thead>\n",
       "    <tr style=\"text-align: right;\">\n",
       "      <th></th>\n",
       "      <th>date</th>\n",
       "      <th>time</th>\n",
       "      <th>Page Views 1 Name</th>\n",
       "      <th>Page Views 1 Percent</th>\n",
       "      <th>Page Views 2 Name</th>\n",
       "      <th>Page Views 2 Percent</th>\n",
       "      <th># Visited</th>\n",
       "      <th>Clicked Meh</th>\n",
       "      <th>Typed Meh Percent</th>\n",
       "      <th>Referrals Percent</th>\n",
       "      <th>...</th>\n",
       "      <th>Referrer 2 Percent</th>\n",
       "      <th>Referrer 2 Name</th>\n",
       "      <th>Referrer 3 Percent</th>\n",
       "      <th>Referrer 3 Name</th>\n",
       "      <th>Referrer 4 Percent</th>\n",
       "      <th>Referrer 4 Name</th>\n",
       "      <th>Referrer 5 Percent</th>\n",
       "      <th>Referrer 5 Name</th>\n",
       "      <th>Items Sold</th>\n",
       "      <th>Dollars Sold</th>\n",
       "    </tr>\n",
       "  </thead>\n",
       "  <tbody>\n",
       "    <tr>\n",
       "      <th>0</th>\n",
       "      <td>2022-06-24</td>\n",
       "      <td>00:15:06</td>\n",
       "      <td>on a phone</td>\n",
       "      <td>67.0</td>\n",
       "      <td>on a tablet.</td>\n",
       "      <td>2.0</td>\n",
       "      <td>2312.0</td>\n",
       "      <td>522</td>\n",
       "      <td>94.0</td>\n",
       "      <td>6.0</td>\n",
       "      <td>...</td>\n",
       "      <td>NaN</td>\n",
       "      <td>None</td>\n",
       "      <td>NaN</td>\n",
       "      <td>None</td>\n",
       "      <td>NaN</td>\n",
       "      <td>None</td>\n",
       "      <td>NaN</td>\n",
       "      <td>None</td>\n",
       "      <td>15.0</td>\n",
       "      <td>737.0</td>\n",
       "    </tr>\n",
       "    <tr>\n",
       "      <th>1</th>\n",
       "      <td>2022-06-24</td>\n",
       "      <td>00:45:07</td>\n",
       "      <td>on a phone</td>\n",
       "      <td>63.0</td>\n",
       "      <td>on a tablet.</td>\n",
       "      <td>2.0</td>\n",
       "      <td>3986.0</td>\n",
       "      <td>801</td>\n",
       "      <td>94.0</td>\n",
       "      <td>6.0</td>\n",
       "      <td>...</td>\n",
       "      <td>NaN</td>\n",
       "      <td>None</td>\n",
       "      <td>NaN</td>\n",
       "      <td>None</td>\n",
       "      <td>NaN</td>\n",
       "      <td>None</td>\n",
       "      <td>NaN</td>\n",
       "      <td>None</td>\n",
       "      <td>25.0</td>\n",
       "      <td>1223.0</td>\n",
       "    </tr>\n",
       "    <tr>\n",
       "      <th>2</th>\n",
       "      <td>2022-06-24</td>\n",
       "      <td>01:16:47</td>\n",
       "      <td>on a phone</td>\n",
       "      <td>62.0</td>\n",
       "      <td>on a tablet.</td>\n",
       "      <td>2.0</td>\n",
       "      <td>5147.0</td>\n",
       "      <td>937</td>\n",
       "      <td>94.0</td>\n",
       "      <td>6.0</td>\n",
       "      <td>...</td>\n",
       "      <td>0.150473</td>\n",
       "      <td>mehstalker.com</td>\n",
       "      <td>NaN</td>\n",
       "      <td>None</td>\n",
       "      <td>NaN</td>\n",
       "      <td>None</td>\n",
       "      <td>NaN</td>\n",
       "      <td>None</td>\n",
       "      <td>34.0</td>\n",
       "      <td>1677.0</td>\n",
       "    </tr>\n",
       "    <tr>\n",
       "      <th>3</th>\n",
       "      <td>2022-06-24</td>\n",
       "      <td>01:45:06</td>\n",
       "      <td>on a phone</td>\n",
       "      <td>60.0</td>\n",
       "      <td>on a tablet.</td>\n",
       "      <td>2.0</td>\n",
       "      <td>6083.0</td>\n",
       "      <td>1006</td>\n",
       "      <td>94.0</td>\n",
       "      <td>6.0</td>\n",
       "      <td>...</td>\n",
       "      <td>0.145138</td>\n",
       "      <td>mehstalker.com</td>\n",
       "      <td>0.126996</td>\n",
       "      <td>facebook.com</td>\n",
       "      <td>0.090711</td>\n",
       "      <td>sidedeal.com</td>\n",
       "      <td>NaN</td>\n",
       "      <td>None</td>\n",
       "      <td>36.0</td>\n",
       "      <td>1782.0</td>\n",
       "    </tr>\n",
       "    <tr>\n",
       "      <th>4</th>\n",
       "      <td>2022-06-24</td>\n",
       "      <td>02:15:06</td>\n",
       "      <td>on a phone</td>\n",
       "      <td>59.0</td>\n",
       "      <td>on a tablet.</td>\n",
       "      <td>2.0</td>\n",
       "      <td>6816.0</td>\n",
       "      <td>1067</td>\n",
       "      <td>94.0</td>\n",
       "      <td>6.0</td>\n",
       "      <td>...</td>\n",
       "      <td>0.145513</td>\n",
       "      <td>mehstalker.com</td>\n",
       "      <td>0.113177</td>\n",
       "      <td>facebook.com</td>\n",
       "      <td>0.080841</td>\n",
       "      <td>sidedeal.com</td>\n",
       "      <td>NaN</td>\n",
       "      <td>None</td>\n",
       "      <td>39.0</td>\n",
       "      <td>1939.0</td>\n",
       "    </tr>\n",
       "  </tbody>\n",
       "</table>\n",
       "<p>5 rows × 22 columns</p>\n",
       "</div>"
      ],
      "text/plain": [
       "         date      time Page Views 1 Name  Page Views 1 Percent  \\\n",
       "0  2022-06-24  00:15:06        on a phone                  67.0   \n",
       "1  2022-06-24  00:45:07        on a phone                  63.0   \n",
       "2  2022-06-24  01:16:47        on a phone                  62.0   \n",
       "3  2022-06-24  01:45:06        on a phone                  60.0   \n",
       "4  2022-06-24  02:15:06        on a phone                  59.0   \n",
       "\n",
       "  Page Views 2 Name  Page Views 2 Percent  # Visited  Clicked Meh  \\\n",
       "0      on a tablet.                   2.0     2312.0          522   \n",
       "1      on a tablet.                   2.0     3986.0          801   \n",
       "2      on a tablet.                   2.0     5147.0          937   \n",
       "3      on a tablet.                   2.0     6083.0         1006   \n",
       "4      on a tablet.                   2.0     6816.0         1067   \n",
       "\n",
       "   Typed Meh Percent  Referrals Percent  ...  Referrer 2 Percent  \\\n",
       "0               94.0                6.0  ...                 NaN   \n",
       "1               94.0                6.0  ...                 NaN   \n",
       "2               94.0                6.0  ...            0.150473   \n",
       "3               94.0                6.0  ...            0.145138   \n",
       "4               94.0                6.0  ...            0.145513   \n",
       "\n",
       "  Referrer 2 Name  Referrer 3 Percent Referrer 3 Name  Referrer 4 Percent  \\\n",
       "0            None                 NaN            None                 NaN   \n",
       "1            None                 NaN            None                 NaN   \n",
       "2  mehstalker.com                 NaN            None                 NaN   \n",
       "3  mehstalker.com            0.126996    facebook.com            0.090711   \n",
       "4  mehstalker.com            0.113177    facebook.com            0.080841   \n",
       "\n",
       "  Referrer 4 Name  Referrer 5 Percent Referrer 5 Name  Items Sold Dollars Sold  \n",
       "0            None                 NaN            None        15.0        737.0  \n",
       "1            None                 NaN            None        25.0       1223.0  \n",
       "2            None                 NaN            None        34.0       1677.0  \n",
       "3    sidedeal.com                 NaN            None        36.0       1782.0  \n",
       "4    sidedeal.com                 NaN            None        39.0       1939.0  \n",
       "\n",
       "[5 rows x 22 columns]"
      ]
     },
     "execution_count": 16,
     "metadata": {},
     "output_type": "execute_result"
    }
   ],
   "source": [
    "details.head()"
   ]
  },
  {
   "cell_type": "code",
   "execution_count": 17,
   "metadata": {},
   "outputs": [
    {
     "name": "stdout",
     "output_type": "stream",
     "text": [
      " Number of Rows: 669 \n",
      " Unique Dates: 14\n"
     ]
    }
   ],
   "source": [
    "n_rows = details.shape[0]\n",
    "unique_dates = details['date'].nunique()\n",
    "print(f\" Number of Rows: {n_rows} \\n Unique Dates: {unique_dates}\")"
   ]
  },
  {
   "cell_type": "markdown",
   "metadata": {},
   "source": [
    "## Dedup Details Data "
   ]
  },
  {
   "cell_type": "code",
   "execution_count": 18,
   "metadata": {},
   "outputs": [
    {
     "data": {
      "text/plain": [
       "(669, 22)"
      ]
     },
     "execution_count": 18,
     "metadata": {},
     "output_type": "execute_result"
    }
   ],
   "source": [
    "details = details.sort_values(['date', 'time'])\n",
    "details_dedup = details.drop_duplicates(['date', 'time'], keep='first')\n",
    "details_dedup.shape"
   ]
  },
  {
   "cell_type": "code",
   "execution_count": 19,
   "metadata": {},
   "outputs": [
    {
     "name": "stdout",
     "output_type": "stream",
     "text": [
      "(14, 68)\n"
     ]
    },
    {
     "name": "stderr",
     "output_type": "stream",
     "text": [
      "/home/malcolm/main/lib/python3.6/site-packages/ipykernel_launcher.py:2: SettingWithCopyWarning:\n",
      "\n",
      "\n",
      "A value is trying to be set on a copy of a slice from a DataFrame.\n",
      "Try using .loc[row_indexer,col_indexer] = value instead\n",
      "\n",
      "See the caveats in the documentation: https://pandas.pydata.org/pandas-docs/stable/user_guide/indexing.html#returning-a-view-versus-a-copy\n",
      "\n",
      "/home/malcolm/main/lib/python3.6/site-packages/ipykernel_launcher.py:3: SettingWithCopyWarning:\n",
      "\n",
      "\n",
      "A value is trying to be set on a copy of a slice from a DataFrame.\n",
      "Try using .loc[row_indexer,col_indexer] = value instead\n",
      "\n",
      "See the caveats in the documentation: https://pandas.pydata.org/pandas-docs/stable/user_guide/indexing.html#returning-a-view-versus-a-copy\n",
      "\n",
      "/home/malcolm/main/lib/python3.6/site-packages/ipykernel_launcher.py:4: SettingWithCopyWarning:\n",
      "\n",
      "\n",
      "A value is trying to be set on a copy of a slice from a DataFrame.\n",
      "Try using .loc[row_indexer,col_indexer] = value instead\n",
      "\n",
      "See the caveats in the documentation: https://pandas.pydata.org/pandas-docs/stable/user_guide/indexing.html#returning-a-view-versus-a-copy\n",
      "\n",
      "/home/malcolm/main/lib/python3.6/site-packages/ipykernel_launcher.py:5: SettingWithCopyWarning:\n",
      "\n",
      "\n",
      "A value is trying to be set on a copy of a slice from a DataFrame.\n",
      "Try using .loc[row_indexer,col_indexer] = value instead\n",
      "\n",
      "See the caveats in the documentation: https://pandas.pydata.org/pandas-docs/stable/user_guide/indexing.html#returning-a-view-versus-a-copy\n",
      "\n",
      "/home/malcolm/main/lib/python3.6/site-packages/ipykernel_launcher.py:6: SettingWithCopyWarning:\n",
      "\n",
      "\n",
      "A value is trying to be set on a copy of a slice from a DataFrame.\n",
      "Try using .loc[row_indexer,col_indexer] = value instead\n",
      "\n",
      "See the caveats in the documentation: https://pandas.pydata.org/pandas-docs/stable/user_guide/indexing.html#returning-a-view-versus-a-copy\n",
      "\n"
     ]
    },
    {
     "data": {
      "text/plain": [
       "Index(['date', 'time_x', 'Page Views 1 Name', 'Page Views 1 Percent',\n",
       "       'Page Views 2 Name', 'Page Views 2 Percent', '# Visited', 'Clicked Meh',\n",
       "       'Typed Meh Percent', 'Referrals Percent', 'Referrer 1 Percent',\n",
       "       'Referrer 1 Name', 'Referrer 2 Percent', 'Referrer 2 Name',\n",
       "       'Referrer 3 Percent', 'Referrer 3 Name', 'Referrer 4 Percent',\n",
       "       'Referrer 4 Name', 'Referrer 5 Percent', 'Referrer 5 Name',\n",
       "       'Items Sold', 'Dollars Sold', 'Avg Price', 'Conversion (%)',\n",
       "       'Dollars Sold Rank', 'Conversion Rank', 'Items Sold Rank',\n",
       "       'deal_features', 'deal_id', 'deal_purchaseQuantity_maximumLimit',\n",
       "       'deal_purchaseQuantity_minimumLimit', 'deal_specifications',\n",
       "       'deal_story_body', 'deal_story_title', 'deal_theme_accentColor',\n",
       "       'deal_theme_backgroundColor', 'deal_theme_backgroundImage',\n",
       "       'deal_theme_foreground', 'deal_title', 'deal_topic_commentCount',\n",
       "       'deal_topic_createdAt', 'deal_topic_id', 'deal_topic_replyCount',\n",
       "       'deal_topic_url', 'deal_topic_voteCount', 'deal_url', 'poll_id',\n",
       "       'poll_startDate', 'poll_title', 'poll_topic_commentCount',\n",
       "       'poll_topic_createdAt', 'poll_topic_id', 'poll_topic_replyCount',\n",
       "       'poll_topic_url', 'poll_topic_voteCount', 'time_y', 'video_id',\n",
       "       'video_startDate', 'video_title', 'video_topic_commentCount',\n",
       "       'video_topic_createdAt', 'video_topic_id', 'video_topic_replyCount',\n",
       "       'video_topic_url', 'video_topic_voteCount', 'video_url',\n",
       "       'deal_soldOutAt', 'deal_endDate'],\n",
       "      dtype='object')"
      ]
     },
     "execution_count": 19,
     "metadata": {},
     "output_type": "execute_result"
    }
   ],
   "source": [
    "eod_details = details_dedup.drop_duplicates(['date'], keep='last')\n",
    "eod_details['Avg Price'] = np.round(eod_details['Dollars Sold']/eod_details['Items Sold'], 2)\n",
    "eod_details['Conversion (%)'] = np.round(100*eod_details['Items Sold']/eod_details['# Visited'], 4)\n",
    "eod_details['Dollars Sold Rank'] = eod_details['Dollars Sold'].rank(ascending=False)\n",
    "eod_details['Conversion Rank'] = eod_details['Conversion (%)'].rank(ascending=False)\n",
    "eod_details['Items Sold Rank'] = eod_details['Items Sold'].rank(ascending=False)\n",
    "\n",
    "eod_details = pd.merge(eod_details, products, on='date')\n",
    "print(eod_details.shape)\n",
    "eod_details.columns"
   ]
  },
  {
   "cell_type": "code",
   "execution_count": 20,
   "metadata": {},
   "outputs": [
    {
     "data": {
      "text/html": [
       "<div>\n",
       "<style scoped>\n",
       "    .dataframe tbody tr th:only-of-type {\n",
       "        vertical-align: middle;\n",
       "    }\n",
       "\n",
       "    .dataframe tbody tr th {\n",
       "        vertical-align: top;\n",
       "    }\n",
       "\n",
       "    .dataframe thead th {\n",
       "        text-align: right;\n",
       "    }\n",
       "</style>\n",
       "<table border=\"1\" class=\"dataframe\">\n",
       "  <thead>\n",
       "    <tr style=\"text-align: right;\">\n",
       "      <th></th>\n",
       "      <th>date</th>\n",
       "      <th>time_x</th>\n",
       "      <th>Page Views 1 Name</th>\n",
       "      <th>Page Views 1 Percent</th>\n",
       "      <th>Page Views 2 Name</th>\n",
       "      <th>Page Views 2 Percent</th>\n",
       "      <th># Visited</th>\n",
       "      <th>Clicked Meh</th>\n",
       "      <th>Typed Meh Percent</th>\n",
       "      <th>Referrals Percent</th>\n",
       "      <th>...</th>\n",
       "      <th>video_title</th>\n",
       "      <th>video_topic_commentCount</th>\n",
       "      <th>video_topic_createdAt</th>\n",
       "      <th>video_topic_id</th>\n",
       "      <th>video_topic_replyCount</th>\n",
       "      <th>video_topic_url</th>\n",
       "      <th>video_topic_voteCount</th>\n",
       "      <th>video_url</th>\n",
       "      <th>deal_soldOutAt</th>\n",
       "      <th>deal_endDate</th>\n",
       "    </tr>\n",
       "  </thead>\n",
       "  <tbody>\n",
       "    <tr>\n",
       "      <th>9</th>\n",
       "      <td>2022-07-03</td>\n",
       "      <td>23:45:05</td>\n",
       "      <td>on a phone</td>\n",
       "      <td>50.0</td>\n",
       "      <td>on a tablet.</td>\n",
       "      <td>2.0</td>\n",
       "      <td>47156.0</td>\n",
       "      <td>3241</td>\n",
       "      <td>95.0</td>\n",
       "      <td>5.0</td>\n",
       "      <td>...</td>\n",
       "      <td>Me &amp; I: Maybe It Bothers Me More Than It Should</td>\n",
       "      <td>4.0</td>\n",
       "      <td>2022-07-03T04:00:00.348Z</td>\n",
       "      <td>62c11440d2094ed3ab2ab426</td>\n",
       "      <td>6.0</td>\n",
       "      <td>https://meh.com/forum/topics/me-and-i-maybe-it...</td>\n",
       "      <td>2.0</td>\n",
       "      <td>https://www.youtube.com/watch?v=9WI8CvCYWVU</td>\n",
       "      <td>None</td>\n",
       "      <td>None</td>\n",
       "    </tr>\n",
       "    <tr>\n",
       "      <th>10</th>\n",
       "      <td>2022-07-04</td>\n",
       "      <td>23:45:13</td>\n",
       "      <td>on a phone</td>\n",
       "      <td>53.0</td>\n",
       "      <td>on a tablet.</td>\n",
       "      <td>2.0</td>\n",
       "      <td>48714.0</td>\n",
       "      <td>3149</td>\n",
       "      <td>93.0</td>\n",
       "      <td>7.0</td>\n",
       "      <td>...</td>\n",
       "      <td>It's Singin' Cowboy Time: A Fireworks PSA</td>\n",
       "      <td>1.0</td>\n",
       "      <td>2022-07-04T04:00:00.388Z</td>\n",
       "      <td>62c265c0d2094ed3ab2d8dfc</td>\n",
       "      <td>1.0</td>\n",
       "      <td>https://meh.com/forum/topics/its-singin-cowboy...</td>\n",
       "      <td>2.0</td>\n",
       "      <td>https://www.youtube.com/watch?v=LgfImp_ZkR0</td>\n",
       "      <td>None</td>\n",
       "      <td>None</td>\n",
       "    </tr>\n",
       "    <tr>\n",
       "      <th>11</th>\n",
       "      <td>2022-07-05</td>\n",
       "      <td>23:45:08</td>\n",
       "      <td>on a phone</td>\n",
       "      <td>45.0</td>\n",
       "      <td>on a tablet.</td>\n",
       "      <td>2.0</td>\n",
       "      <td>56306.0</td>\n",
       "      <td>3374</td>\n",
       "      <td>95.0</td>\n",
       "      <td>5.0</td>\n",
       "      <td>...</td>\n",
       "      <td>Remembering the Fondoodler</td>\n",
       "      <td>3.0</td>\n",
       "      <td>2022-07-05T04:00:00.264Z</td>\n",
       "      <td>62c3b740d2094ed3ab303404</td>\n",
       "      <td>0.0</td>\n",
       "      <td>https://meh.com/forum/topics/remembering-the-f...</td>\n",
       "      <td>5.0</td>\n",
       "      <td>https://www.youtube.com/watch?v=MPPPlvZE6fs</td>\n",
       "      <td>None</td>\n",
       "      <td>None</td>\n",
       "    </tr>\n",
       "    <tr>\n",
       "      <th>12</th>\n",
       "      <td>2022-07-06</td>\n",
       "      <td>23:45:05</td>\n",
       "      <td>on a phone</td>\n",
       "      <td>45.0</td>\n",
       "      <td>on a tablet.</td>\n",
       "      <td>2.0</td>\n",
       "      <td>59426.0</td>\n",
       "      <td>3435</td>\n",
       "      <td>91.0</td>\n",
       "      <td>9.0</td>\n",
       "      <td>...</td>\n",
       "      <td>Ask Irk: $1m?</td>\n",
       "      <td>1.0</td>\n",
       "      <td>2022-07-06T04:00:00.277Z</td>\n",
       "      <td>62c508c0d2094ed3ab347fa5</td>\n",
       "      <td>0.0</td>\n",
       "      <td>https://meh.com/forum/topics/ask-irk-dollar1m-1</td>\n",
       "      <td>2.0</td>\n",
       "      <td>https://www.youtube.com/watch?v=g_WRGwt_UeM</td>\n",
       "      <td>None</td>\n",
       "      <td>None</td>\n",
       "    </tr>\n",
       "    <tr>\n",
       "      <th>13</th>\n",
       "      <td>2022-07-07</td>\n",
       "      <td>23:45:06</td>\n",
       "      <td>on a phone</td>\n",
       "      <td>43.0</td>\n",
       "      <td>on a tablet.</td>\n",
       "      <td>2.0</td>\n",
       "      <td>58427.0</td>\n",
       "      <td>3381</td>\n",
       "      <td>94.0</td>\n",
       "      <td>6.0</td>\n",
       "      <td>...</td>\n",
       "      <td>Hey Everybody, It's Glen - Shark All The Movies</td>\n",
       "      <td>0.0</td>\n",
       "      <td>2022-07-07T04:00:00.257Z</td>\n",
       "      <td>62c65a40a9fc3d441ec78e80</td>\n",
       "      <td>0.0</td>\n",
       "      <td>https://meh.com/forum/topics/hey-everybody-its...</td>\n",
       "      <td>1.0</td>\n",
       "      <td>https://www.youtube.com/watch?v=X7pE9shJe4Y</td>\n",
       "      <td>None</td>\n",
       "      <td>None</td>\n",
       "    </tr>\n",
       "  </tbody>\n",
       "</table>\n",
       "<p>5 rows × 68 columns</p>\n",
       "</div>"
      ],
      "text/plain": [
       "          date    time_x Page Views 1 Name  Page Views 1 Percent  \\\n",
       "9   2022-07-03  23:45:05        on a phone                  50.0   \n",
       "10  2022-07-04  23:45:13        on a phone                  53.0   \n",
       "11  2022-07-05  23:45:08        on a phone                  45.0   \n",
       "12  2022-07-06  23:45:05        on a phone                  45.0   \n",
       "13  2022-07-07  23:45:06        on a phone                  43.0   \n",
       "\n",
       "   Page Views 2 Name  Page Views 2 Percent  # Visited  Clicked Meh  \\\n",
       "9       on a tablet.                   2.0    47156.0         3241   \n",
       "10      on a tablet.                   2.0    48714.0         3149   \n",
       "11      on a tablet.                   2.0    56306.0         3374   \n",
       "12      on a tablet.                   2.0    59426.0         3435   \n",
       "13      on a tablet.                   2.0    58427.0         3381   \n",
       "\n",
       "    Typed Meh Percent  Referrals Percent  ...  \\\n",
       "9                95.0                5.0  ...   \n",
       "10               93.0                7.0  ...   \n",
       "11               95.0                5.0  ...   \n",
       "12               91.0                9.0  ...   \n",
       "13               94.0                6.0  ...   \n",
       "\n",
       "                                        video_title video_topic_commentCount  \\\n",
       "9   Me & I: Maybe It Bothers Me More Than It Should                      4.0   \n",
       "10        It's Singin' Cowboy Time: A Fireworks PSA                      1.0   \n",
       "11                       Remembering the Fondoodler                      3.0   \n",
       "12                                    Ask Irk: $1m?                      1.0   \n",
       "13  Hey Everybody, It's Glen - Shark All The Movies                      0.0   \n",
       "\n",
       "       video_topic_createdAt            video_topic_id  \\\n",
       "9   2022-07-03T04:00:00.348Z  62c11440d2094ed3ab2ab426   \n",
       "10  2022-07-04T04:00:00.388Z  62c265c0d2094ed3ab2d8dfc   \n",
       "11  2022-07-05T04:00:00.264Z  62c3b740d2094ed3ab303404   \n",
       "12  2022-07-06T04:00:00.277Z  62c508c0d2094ed3ab347fa5   \n",
       "13  2022-07-07T04:00:00.257Z  62c65a40a9fc3d441ec78e80   \n",
       "\n",
       "    video_topic_replyCount                                    video_topic_url  \\\n",
       "9                      6.0  https://meh.com/forum/topics/me-and-i-maybe-it...   \n",
       "10                     1.0  https://meh.com/forum/topics/its-singin-cowboy...   \n",
       "11                     0.0  https://meh.com/forum/topics/remembering-the-f...   \n",
       "12                     0.0    https://meh.com/forum/topics/ask-irk-dollar1m-1   \n",
       "13                     0.0  https://meh.com/forum/topics/hey-everybody-its...   \n",
       "\n",
       "    video_topic_voteCount                                    video_url  \\\n",
       "9                     2.0  https://www.youtube.com/watch?v=9WI8CvCYWVU   \n",
       "10                    2.0  https://www.youtube.com/watch?v=LgfImp_ZkR0   \n",
       "11                    5.0  https://www.youtube.com/watch?v=MPPPlvZE6fs   \n",
       "12                    2.0  https://www.youtube.com/watch?v=g_WRGwt_UeM   \n",
       "13                    1.0  https://www.youtube.com/watch?v=X7pE9shJe4Y   \n",
       "\n",
       "    deal_soldOutAt deal_endDate  \n",
       "9             None         None  \n",
       "10            None         None  \n",
       "11            None         None  \n",
       "12            None         None  \n",
       "13            None         None  \n",
       "\n",
       "[5 rows x 68 columns]"
      ]
     },
     "execution_count": 20,
     "metadata": {},
     "output_type": "execute_result"
    }
   ],
   "source": [
    "eod_details.tail()"
   ]
  },
  {
   "cell_type": "code",
   "execution_count": null,
   "metadata": {},
   "outputs": [],
   "source": []
  },
  {
   "cell_type": "code",
   "execution_count": 21,
   "metadata": {},
   "outputs": [
    {
     "data": {
      "text/plain": [
       "# of Days                  14.0000\n",
       "Sum $ sold             247353.0000\n",
       "# of Items Sold          7167.0000\n",
       "Avg Sale Price             41.0000\n",
       "Total # of Visitors    702078.0000\n",
       "Avg # of Visitors       50148.4000\n",
       "Avg Conversion (%)          1.0208\n",
       "Name:  , dtype: float64"
      ]
     },
     "execution_count": 21,
     "metadata": {},
     "output_type": "execute_result"
    }
   ],
   "source": [
    "keeper_metrics = {}\n",
    "keeper_metrics['# of Days'] = eod_details.shape[0]\n",
    "keeper_metrics['Sum $ sold'] = eod_details['Dollars Sold'].astype('float').sum()\n",
    "keeper_metrics['# of Items Sold'] = eod_details['Items Sold'].astype('float').sum()\n",
    "keeper_metrics['Avg Sale Price'] = np.round(eod_details['Avg Price'].mean(), 2)\n",
    "keeper_metrics['Total # of Visitors'] = eod_details['# Visited'].sum()\n",
    "keeper_metrics['Avg # of Visitors'] = np.round(eod_details['# Visited'].mean(), 1)\n",
    "keeper_metrics['Avg Conversion (%)'] = np.round(100*eod_details['Items Sold'].astype('float').sum()/\n",
    "                                           eod_details['# Visited'].sum(), 4)\n",
    "keeper_series = pd.Series(keeper_metrics, name = ' ')\n",
    "keeper_series"
   ]
  },
  {
   "cell_type": "code",
   "execution_count": 22,
   "metadata": {},
   "outputs": [
    {
     "name": "stdout",
     "output_type": "stream",
     "text": [
      "Referrer 1 Count\n",
      "Referrer 2 Count\n",
      "Referrer 3 Count\n",
      "Referrer 4 Count\n",
      "Referrer 5 Count\n"
     ]
    }
   ],
   "source": [
    "for x in range(1, 6):\n",
    "    new_col_name = 'Referrer '+ str(x) + ' Count'\n",
    "    eod_details[new_col_name] = (eod_details['Referrer '+ str(x) +' Percent']) \\\n",
    "        * (eod_details['Referrals Percent']/100) \\\n",
    "        * eod_details['# Visited']\n",
    "    print(new_col_name)"
   ]
  },
  {
   "cell_type": "code",
   "execution_count": 23,
   "metadata": {},
   "outputs": [
    {
     "data": {
      "text/plain": [
       "count    14.000000\n",
       "mean      6.428571\n",
       "std       2.310987\n",
       "min       4.000000\n",
       "25%       5.000000\n",
       "50%       5.500000\n",
       "75%       6.750000\n",
       "max      12.000000\n",
       "Name: Referrals Percent, dtype: float64"
      ]
     },
     "execution_count": 23,
     "metadata": {},
     "output_type": "execute_result"
    }
   ],
   "source": [
    "eod_details['Referrals Percent'].describe()"
   ]
  },
  {
   "cell_type": "markdown",
   "metadata": {},
   "source": [
    "## Top By Dollar and Items Sold "
   ]
  },
  {
   "cell_type": "code",
   "execution_count": 24,
   "metadata": {},
   "outputs": [],
   "source": [
    "keeper_cols = ['deal_title', 'Dollars Sold', 'Items Sold', 'Conversion (%)', 'Avg Price', 'date' \n",
    "               , 'Dollars Sold Rank', 'Conversion Rank', 'Items Sold Rank']"
   ]
  },
  {
   "cell_type": "code",
   "execution_count": 25,
   "metadata": {
    "scrolled": true
   },
   "outputs": [],
   "source": [
    "dollars = eod_details.sort_values('Dollars Sold', ascending=False)\n",
    "top_dollars = dollars[keeper_cols].head(3)\n",
    "bottom_dollars = dollars[keeper_cols].tail(3)"
   ]
  },
  {
   "cell_type": "code",
   "execution_count": 26,
   "metadata": {},
   "outputs": [],
   "source": [
    "items = eod_details.sort_values('Items Sold', ascending=False)\n",
    "top_items = items[keeper_cols].head(3)\n",
    "bottom_items = items[keeper_cols].tail(3)"
   ]
  },
  {
   "cell_type": "code",
   "execution_count": 27,
   "metadata": {},
   "outputs": [
    {
     "data": {
      "text/html": [
       "<div>\n",
       "<style scoped>\n",
       "    .dataframe tbody tr th:only-of-type {\n",
       "        vertical-align: middle;\n",
       "    }\n",
       "\n",
       "    .dataframe tbody tr th {\n",
       "        vertical-align: top;\n",
       "    }\n",
       "\n",
       "    .dataframe thead th {\n",
       "        text-align: right;\n",
       "    }\n",
       "</style>\n",
       "<table border=\"1\" class=\"dataframe\">\n",
       "  <thead>\n",
       "    <tr style=\"text-align: right;\">\n",
       "      <th></th>\n",
       "      <th>deal_title</th>\n",
       "      <th>Dollars Sold</th>\n",
       "      <th>Items Sold</th>\n",
       "      <th>Conversion (%)</th>\n",
       "      <th>Avg Price</th>\n",
       "      <th>date</th>\n",
       "      <th>Dollars Sold Rank</th>\n",
       "      <th>Conversion Rank</th>\n",
       "      <th>Items Sold Rank</th>\n",
       "    </tr>\n",
       "  </thead>\n",
       "  <tbody>\n",
       "    <tr>\n",
       "      <th>11</th>\n",
       "      <td>2-Pack: Bell + Howell 9-in-1 Super Deluxe Tact...</td>\n",
       "      <td>15768.0</td>\n",
       "      <td>1097.0</td>\n",
       "      <td>1.9483</td>\n",
       "      <td>14.37</td>\n",
       "      <td>2022-07-05</td>\n",
       "      <td>8.0</td>\n",
       "      <td>1.0</td>\n",
       "      <td>1.0</td>\n",
       "    </tr>\n",
       "    <tr>\n",
       "      <th>12</th>\n",
       "      <td>9-Pack: Members Only Premium Boxer Briefs</td>\n",
       "      <td>32232.0</td>\n",
       "      <td>1053.0</td>\n",
       "      <td>1.7720</td>\n",
       "      <td>30.61</td>\n",
       "      <td>2022-07-06</td>\n",
       "      <td>2.0</td>\n",
       "      <td>2.0</td>\n",
       "      <td>2.0</td>\n",
       "    </tr>\n",
       "    <tr>\n",
       "      <th>13</th>\n",
       "      <td>CRKT Gulf Stone Wash OR Xan Carbon Fiber Knife...</td>\n",
       "      <td>34745.0</td>\n",
       "      <td>966.0</td>\n",
       "      <td>1.6533</td>\n",
       "      <td>35.97</td>\n",
       "      <td>2022-07-07</td>\n",
       "      <td>1.0</td>\n",
       "      <td>3.0</td>\n",
       "      <td>3.0</td>\n",
       "    </tr>\n",
       "  </tbody>\n",
       "</table>\n",
       "</div>"
      ],
      "text/plain": [
       "                                           deal_title  Dollars Sold  \\\n",
       "11  2-Pack: Bell + Howell 9-in-1 Super Deluxe Tact...       15768.0   \n",
       "12          9-Pack: Members Only Premium Boxer Briefs       32232.0   \n",
       "13  CRKT Gulf Stone Wash OR Xan Carbon Fiber Knife...       34745.0   \n",
       "\n",
       "    Items Sold  Conversion (%)  Avg Price        date  Dollars Sold Rank  \\\n",
       "11      1097.0          1.9483      14.37  2022-07-05                8.0   \n",
       "12      1053.0          1.7720      30.61  2022-07-06                2.0   \n",
       "13       966.0          1.6533      35.97  2022-07-07                1.0   \n",
       "\n",
       "    Conversion Rank  Items Sold Rank  \n",
       "11              1.0              1.0  \n",
       "12              2.0              2.0  \n",
       "13              3.0              3.0  "
      ]
     },
     "execution_count": 27,
     "metadata": {},
     "output_type": "execute_result"
    }
   ],
   "source": [
    "top_items"
   ]
  },
  {
   "cell_type": "code",
   "execution_count": 28,
   "metadata": {},
   "outputs": [
    {
     "data": {
      "text/html": [
       "<div>\n",
       "<style scoped>\n",
       "    .dataframe tbody tr th:only-of-type {\n",
       "        vertical-align: middle;\n",
       "    }\n",
       "\n",
       "    .dataframe tbody tr th {\n",
       "        vertical-align: top;\n",
       "    }\n",
       "\n",
       "    .dataframe thead th {\n",
       "        text-align: right;\n",
       "    }\n",
       "</style>\n",
       "<table border=\"1\" class=\"dataframe\">\n",
       "  <thead>\n",
       "    <tr style=\"text-align: right;\">\n",
       "      <th></th>\n",
       "      <th>deal_title</th>\n",
       "      <th>Dollars Sold</th>\n",
       "      <th>Items Sold</th>\n",
       "      <th>Conversion (%)</th>\n",
       "      <th>Avg Price</th>\n",
       "      <th>date</th>\n",
       "      <th>Dollars Sold Rank</th>\n",
       "      <th>Conversion Rank</th>\n",
       "      <th>Items Sold Rank</th>\n",
       "    </tr>\n",
       "  </thead>\n",
       "  <tbody>\n",
       "    <tr>\n",
       "      <th>13</th>\n",
       "      <td>CRKT Gulf Stone Wash OR Xan Carbon Fiber Knife...</td>\n",
       "      <td>34745.0</td>\n",
       "      <td>966.0</td>\n",
       "      <td>1.6533</td>\n",
       "      <td>35.97</td>\n",
       "      <td>2022-07-07</td>\n",
       "      <td>1.0</td>\n",
       "      <td>3.0</td>\n",
       "      <td>3.0</td>\n",
       "    </tr>\n",
       "    <tr>\n",
       "      <th>12</th>\n",
       "      <td>9-Pack: Members Only Premium Boxer Briefs</td>\n",
       "      <td>32232.0</td>\n",
       "      <td>1053.0</td>\n",
       "      <td>1.7720</td>\n",
       "      <td>30.61</td>\n",
       "      <td>2022-07-06</td>\n",
       "      <td>2.0</td>\n",
       "      <td>2.0</td>\n",
       "      <td>2.0</td>\n",
       "    </tr>\n",
       "    <tr>\n",
       "      <th>5</th>\n",
       "      <td>GoWise USA 12.7 Quart Deluxe Air Fryer Oven</td>\n",
       "      <td>24892.0</td>\n",
       "      <td>322.0</td>\n",
       "      <td>0.5141</td>\n",
       "      <td>77.30</td>\n",
       "      <td>2022-06-29</td>\n",
       "      <td>3.0</td>\n",
       "      <td>12.0</td>\n",
       "      <td>9.0</td>\n",
       "    </tr>\n",
       "  </tbody>\n",
       "</table>\n",
       "</div>"
      ],
      "text/plain": [
       "                                           deal_title  Dollars Sold  \\\n",
       "13  CRKT Gulf Stone Wash OR Xan Carbon Fiber Knife...       34745.0   \n",
       "12          9-Pack: Members Only Premium Boxer Briefs       32232.0   \n",
       "5         GoWise USA 12.7 Quart Deluxe Air Fryer Oven       24892.0   \n",
       "\n",
       "    Items Sold  Conversion (%)  Avg Price        date  Dollars Sold Rank  \\\n",
       "13       966.0          1.6533      35.97  2022-07-07                1.0   \n",
       "12      1053.0          1.7720      30.61  2022-07-06                2.0   \n",
       "5        322.0          0.5141      77.30  2022-06-29                3.0   \n",
       "\n",
       "    Conversion Rank  Items Sold Rank  \n",
       "13              3.0              3.0  \n",
       "12              2.0              2.0  \n",
       "5              12.0              9.0  "
      ]
     },
     "execution_count": 28,
     "metadata": {},
     "output_type": "execute_result"
    }
   ],
   "source": [
    "top_dollars"
   ]
  },
  {
   "cell_type": "code",
   "execution_count": 29,
   "metadata": {},
   "outputs": [],
   "source": [
    "conversion = eod_details.sort_values('Conversion (%)', ascending=False)\n",
    "top_conversion = conversion[keeper_cols].head(3)\n",
    "bottom_conversion = conversion[keeper_cols].tail(3)"
   ]
  },
  {
   "cell_type": "code",
   "execution_count": 30,
   "metadata": {},
   "outputs": [
    {
     "data": {
      "text/html": [
       "<div>\n",
       "<style scoped>\n",
       "    .dataframe tbody tr th:only-of-type {\n",
       "        vertical-align: middle;\n",
       "    }\n",
       "\n",
       "    .dataframe tbody tr th {\n",
       "        vertical-align: top;\n",
       "    }\n",
       "\n",
       "    .dataframe thead th {\n",
       "        text-align: right;\n",
       "    }\n",
       "</style>\n",
       "<table border=\"1\" class=\"dataframe\">\n",
       "  <thead>\n",
       "    <tr style=\"text-align: right;\">\n",
       "      <th></th>\n",
       "      <th>deal_title</th>\n",
       "      <th>Dollars Sold</th>\n",
       "      <th>Items Sold</th>\n",
       "      <th>Conversion (%)</th>\n",
       "      <th>Avg Price</th>\n",
       "      <th>date</th>\n",
       "      <th>Dollars Sold Rank</th>\n",
       "      <th>Conversion Rank</th>\n",
       "      <th>Items Sold Rank</th>\n",
       "    </tr>\n",
       "  </thead>\n",
       "  <tbody>\n",
       "    <tr>\n",
       "      <th>11</th>\n",
       "      <td>2-Pack: Bell + Howell 9-in-1 Super Deluxe Tact...</td>\n",
       "      <td>15768.0</td>\n",
       "      <td>1097.0</td>\n",
       "      <td>1.9483</td>\n",
       "      <td>14.37</td>\n",
       "      <td>2022-07-05</td>\n",
       "      <td>8.0</td>\n",
       "      <td>1.0</td>\n",
       "      <td>1.0</td>\n",
       "    </tr>\n",
       "    <tr>\n",
       "      <th>12</th>\n",
       "      <td>9-Pack: Members Only Premium Boxer Briefs</td>\n",
       "      <td>32232.0</td>\n",
       "      <td>1053.0</td>\n",
       "      <td>1.7720</td>\n",
       "      <td>30.61</td>\n",
       "      <td>2022-07-06</td>\n",
       "      <td>2.0</td>\n",
       "      <td>2.0</td>\n",
       "      <td>2.0</td>\n",
       "    </tr>\n",
       "    <tr>\n",
       "      <th>13</th>\n",
       "      <td>CRKT Gulf Stone Wash OR Xan Carbon Fiber Knife...</td>\n",
       "      <td>34745.0</td>\n",
       "      <td>966.0</td>\n",
       "      <td>1.6533</td>\n",
       "      <td>35.97</td>\n",
       "      <td>2022-07-07</td>\n",
       "      <td>1.0</td>\n",
       "      <td>3.0</td>\n",
       "      <td>3.0</td>\n",
       "    </tr>\n",
       "  </tbody>\n",
       "</table>\n",
       "</div>"
      ],
      "text/plain": [
       "                                           deal_title  Dollars Sold  \\\n",
       "11  2-Pack: Bell + Howell 9-in-1 Super Deluxe Tact...       15768.0   \n",
       "12          9-Pack: Members Only Premium Boxer Briefs       32232.0   \n",
       "13  CRKT Gulf Stone Wash OR Xan Carbon Fiber Knife...       34745.0   \n",
       "\n",
       "    Items Sold  Conversion (%)  Avg Price        date  Dollars Sold Rank  \\\n",
       "11      1097.0          1.9483      14.37  2022-07-05                8.0   \n",
       "12      1053.0          1.7720      30.61  2022-07-06                2.0   \n",
       "13       966.0          1.6533      35.97  2022-07-07                1.0   \n",
       "\n",
       "    Conversion Rank  Items Sold Rank  \n",
       "11              1.0              1.0  \n",
       "12              2.0              2.0  \n",
       "13              3.0              3.0  "
      ]
     },
     "execution_count": 30,
     "metadata": {},
     "output_type": "execute_result"
    }
   ],
   "source": [
    "top_conversion"
   ]
  },
  {
   "cell_type": "code",
   "execution_count": 31,
   "metadata": {},
   "outputs": [
    {
     "data": {
      "text/html": [
       "<div>\n",
       "<style scoped>\n",
       "    .dataframe tbody tr th:only-of-type {\n",
       "        vertical-align: middle;\n",
       "    }\n",
       "\n",
       "    .dataframe tbody tr th {\n",
       "        vertical-align: top;\n",
       "    }\n",
       "\n",
       "    .dataframe thead th {\n",
       "        text-align: right;\n",
       "    }\n",
       "</style>\n",
       "<table border=\"1\" class=\"dataframe\">\n",
       "  <thead>\n",
       "    <tr style=\"text-align: right;\">\n",
       "      <th></th>\n",
       "      <th>deal_title</th>\n",
       "      <th>Dollars Sold</th>\n",
       "      <th>Items Sold</th>\n",
       "      <th>Conversion (%)</th>\n",
       "      <th>Avg Price</th>\n",
       "      <th>date</th>\n",
       "      <th>Dollars Sold Rank</th>\n",
       "      <th>Conversion Rank</th>\n",
       "      <th>Items Sold Rank</th>\n",
       "    </tr>\n",
       "  </thead>\n",
       "  <tbody>\n",
       "    <tr>\n",
       "      <th>11</th>\n",
       "      <td>2-Pack: Bell + Howell 9-in-1 Super Deluxe Tact...</td>\n",
       "      <td>15768.0</td>\n",
       "      <td>1097.0</td>\n",
       "      <td>1.9483</td>\n",
       "      <td>14.37</td>\n",
       "      <td>2022-07-05</td>\n",
       "      <td>8.0</td>\n",
       "      <td>1.0</td>\n",
       "      <td>1.0</td>\n",
       "    </tr>\n",
       "    <tr>\n",
       "      <th>12</th>\n",
       "      <td>9-Pack: Members Only Premium Boxer Briefs</td>\n",
       "      <td>32232.0</td>\n",
       "      <td>1053.0</td>\n",
       "      <td>1.7720</td>\n",
       "      <td>30.61</td>\n",
       "      <td>2022-07-06</td>\n",
       "      <td>2.0</td>\n",
       "      <td>2.0</td>\n",
       "      <td>2.0</td>\n",
       "    </tr>\n",
       "    <tr>\n",
       "      <th>13</th>\n",
       "      <td>CRKT Gulf Stone Wash OR Xan Carbon Fiber Knife...</td>\n",
       "      <td>34745.0</td>\n",
       "      <td>966.0</td>\n",
       "      <td>1.6533</td>\n",
       "      <td>35.97</td>\n",
       "      <td>2022-07-07</td>\n",
       "      <td>1.0</td>\n",
       "      <td>3.0</td>\n",
       "      <td>3.0</td>\n",
       "    </tr>\n",
       "    <tr>\n",
       "      <th>5</th>\n",
       "      <td>GoWise USA 12.7 Quart Deluxe Air Fryer Oven</td>\n",
       "      <td>24892.0</td>\n",
       "      <td>322.0</td>\n",
       "      <td>0.5141</td>\n",
       "      <td>77.30</td>\n",
       "      <td>2022-06-29</td>\n",
       "      <td>3.0</td>\n",
       "      <td>12.0</td>\n",
       "      <td>9.0</td>\n",
       "    </tr>\n",
       "  </tbody>\n",
       "</table>\n",
       "</div>"
      ],
      "text/plain": [
       "                                           deal_title  Dollars Sold  \\\n",
       "11  2-Pack: Bell + Howell 9-in-1 Super Deluxe Tact...       15768.0   \n",
       "12          9-Pack: Members Only Premium Boxer Briefs       32232.0   \n",
       "13  CRKT Gulf Stone Wash OR Xan Carbon Fiber Knife...       34745.0   \n",
       "5         GoWise USA 12.7 Quart Deluxe Air Fryer Oven       24892.0   \n",
       "\n",
       "    Items Sold  Conversion (%)  Avg Price        date  Dollars Sold Rank  \\\n",
       "11      1097.0          1.9483      14.37  2022-07-05                8.0   \n",
       "12      1053.0          1.7720      30.61  2022-07-06                2.0   \n",
       "13       966.0          1.6533      35.97  2022-07-07                1.0   \n",
       "5        322.0          0.5141      77.30  2022-06-29                3.0   \n",
       "\n",
       "    Conversion Rank  Items Sold Rank  \n",
       "11              1.0              1.0  \n",
       "12              2.0              2.0  \n",
       "13              3.0              3.0  \n",
       "5              12.0              9.0  "
      ]
     },
     "execution_count": 31,
     "metadata": {},
     "output_type": "execute_result"
    }
   ],
   "source": [
    "all_tops = pd.concat([top_items, top_dollars, top_conversion]).drop_duplicates()\n",
    "all_tops"
   ]
  },
  {
   "cell_type": "code",
   "execution_count": 32,
   "metadata": {},
   "outputs": [],
   "source": [
    "all_bottoms = pd.concat([bottom_items, bottom_dollars, bottom_conversion]).drop_duplicates()"
   ]
  },
  {
   "cell_type": "raw",
   "metadata": {},
   "source": [
    "# Meh T Shirts.. \n",
    "eod_details[eod_details['deal_title'].str.contains('Meh')]\\\n",
    "    [['deal_title', 'Dollars Sold', 'Items Sold', 'Avg Price', 'date','deal_soldOutAt']].tail(20)"
   ]
  },
  {
   "cell_type": "markdown",
   "metadata": {},
   "source": [
    "## Referrer Analysis "
   ]
  },
  {
   "cell_type": "code",
   "execution_count": 33,
   "metadata": {},
   "outputs": [],
   "source": [
    "def get_total_count(eod_details, referrer_name):\n",
    "    ind = []\n",
    "    for referrer_index in range(1, 6):\n",
    "        dets = eod_details[eod_details[f'Referrer {referrer_index} Name'] == referrer_name][f'Referrer {referrer_index} Count']\n",
    "        ind.append(dets)\n",
    "    all_indexes = pd.concat(ind)\n",
    "    print('Number of records in total count: ', all_indexes.shape[0])\n",
    "    ref_sum = all_indexes.sum()\n",
    "    return(ref_sum)"
   ]
  },
  {
   "cell_type": "code",
   "execution_count": 34,
   "metadata": {},
   "outputs": [],
   "source": [
    "def get_referrer_details(eod_details, referrer_index):\n",
    "    index = str(referrer_index)\n",
    "    top_refferer = eod_details[f'Referrer {index} Name'].value_counts().head(1)\n",
    "    top_refferer = top_refferer\\\n",
    "        .reset_index()\\\n",
    "        .rename({'index':f'Referrer {index} Name', f'Referrer {index} Name':f'Times as Referrer {index}'}, axis = 1)\n",
    "    name = top_refferer[f'Referrer {index} Name'].values[0]\n",
    "    views_cnt = int(get_total_count(eod_details, name))\n",
    "    top_refferer[f'Referrer {index} Views Count'] = views_cnt\n",
    "    top_refferer[f'Refferer {index} Views Pct'] = np.round(100 * views_cnt/eod_details['# Visited'].sum(),2)\n",
    "\n",
    "    top_refferer = top_refferer.to_dict()\n",
    "    top_refferer_dict = {k:v.get(0) for k, v in top_refferer.items()}\n",
    "    return(top_refferer_dict)"
   ]
  },
  {
   "cell_type": "code",
   "execution_count": 35,
   "metadata": {},
   "outputs": [
    {
     "name": "stdout",
     "output_type": "stream",
     "text": [
      "Number of records in total count:  7\n",
      "Number of records in total count:  14\n"
     ]
    },
    {
     "data": {
      "text/plain": [
       "Referrer 1 Name           bradsdeals.com\n",
       "Times as Referrer 1                    6\n",
       "Referrer 1 Views Count             43079\n",
       "Refferer 1 Views Pct                6.14\n",
       "Referrer 2 Name              twitter.com\n",
       "Times as Referrer 2                    7\n",
       "Referrer 2 Views Count              9034\n",
       "Refferer 2 Views Pct                1.29\n",
       "Name: , dtype: object"
      ]
     },
     "execution_count": 35,
     "metadata": {},
     "output_type": "execute_result"
    }
   ],
   "source": [
    "ref1 = get_referrer_details(eod_details, 1)\n",
    "ref2 = get_referrer_details(eod_details, 2)\n",
    "ref1_series = pd.Series(ref1)\n",
    "ref2_series = pd.Series(ref2)\n",
    "ref_series = pd.concat([ref1_series, ref2_series]).rename('')\n",
    "ref_series"
   ]
  },
  {
   "cell_type": "code",
   "execution_count": null,
   "metadata": {},
   "outputs": [],
   "source": []
  },
  {
   "cell_type": "markdown",
   "metadata": {},
   "source": [
    "## Create HTML "
   ]
  },
  {
   "cell_type": "code",
   "execution_count": 36,
   "metadata": {},
   "outputs": [],
   "source": [
    "keeper_df = pd.DataFrame(keeper_series)\n",
    "keeper_html = \"<strong> Key Metrics </strong>\"\n",
    "keeper_html += keeper_df.to_html()"
   ]
  },
  {
   "cell_type": "code",
   "execution_count": 37,
   "metadata": {},
   "outputs": [],
   "source": [
    "all_tops_html = \"<strong> All Top Products (by $ amount, # items, conversion %) </strong>\"\n",
    "all_tops_html += all_tops.to_html(index=False)"
   ]
  },
  {
   "cell_type": "code",
   "execution_count": 38,
   "metadata": {},
   "outputs": [],
   "source": [
    "all_bottom_html = \"<strong> All Bottom Products (by $ amount, # items, conversion %) </strong>\"\n",
    "all_bottom_html += all_bottoms.to_html(index=False)"
   ]
  },
  {
   "cell_type": "code",
   "execution_count": 39,
   "metadata": {},
   "outputs": [],
   "source": [
    "top_dollars_html = \"<strong> Top Dollar by Dollar </strong>\"\n",
    "top_dollars_html += top_dollars.to_html(index=False)"
   ]
  },
  {
   "cell_type": "code",
   "execution_count": 40,
   "metadata": {},
   "outputs": [],
   "source": [
    "top_items_html = \"<strong> Top Items by Numbers Sold </strong>\"\n",
    "top_items_html += top_items.to_html(index=False)"
   ]
  },
  {
   "cell_type": "code",
   "execution_count": 41,
   "metadata": {},
   "outputs": [],
   "source": [
    "top_conversion_html = \"<strong> Top Conversion (Items Sold/Visits) </strong>\"\n",
    "top_conversion_html += top_conversion.to_html(index=False)"
   ]
  },
  {
   "cell_type": "code",
   "execution_count": 42,
   "metadata": {},
   "outputs": [],
   "source": [
    "ref_series_df = pd.DataFrame(ref_series)\n",
    "ref_html = \"<strong> Referrals DF </strong>\"\n",
    "ref_html += ref_series_df.to_html()"
   ]
  },
  {
   "cell_type": "code",
   "execution_count": 43,
   "metadata": {},
   "outputs": [],
   "source": [
    "bottom_dollars_html = \"<strong> Bottom Dollar by Dollar </strong>\"\n",
    "bottom_dollars_html += bottom_dollars.to_html(index=False)\n",
    "\n",
    "bottom_items_html = \"<strong> Bottom Items by Numbers Sold </strong>\"\n",
    "bottom_items_html += bottom_items.to_html(index=False)\n",
    "\n",
    "bottom_conversion_html = \"<strong> Bottom Conversion (Items Sold/Visits) </strong>\"\n",
    "bottom_conversion_html += bottom_conversion.to_html(index=False)"
   ]
  },
  {
   "cell_type": "code",
   "execution_count": 44,
   "metadata": {},
   "outputs": [],
   "source": [
    "html_text = \" <br> <br> \".join([keeper_html, all_tops_html, all_bottom_html\n",
    "                                , ref_html\n",
    "                                , top_dollars_html, top_items_html, top_conversion_html\n",
    "                                , bottom_dollars_html, bottom_items_html, bottom_conversion_html])"
   ]
  },
  {
   "cell_type": "markdown",
   "metadata": {},
   "source": [
    "## Send Analysis Email"
   ]
  },
  {
   "cell_type": "code",
   "execution_count": 2,
   "metadata": {},
   "outputs": [],
   "source": [
    "import sys"
   ]
  },
  {
   "cell_type": "code",
   "execution_count": 3,
   "metadata": {},
   "outputs": [],
   "source": [
    "sys.path.append('/home/malcolm/EmailSender1/')\n",
    "from EmailSender import EmailSender as ES"
   ]
  },
  {
   "cell_type": "code",
   "execution_count": 46,
   "metadata": {},
   "outputs": [
    {
     "name": "stdout",
     "output_type": "stream",
     "text": [
      "Success\n"
     ]
    }
   ],
   "source": [
    "try:    \n",
    "    message_params = {}\n",
    "    message_params['Subject'] = f'Weekly Meh Summary from {yesterday_str} and {two_weeks_ago_str}'\n",
    "\n",
    "    message_params['Body'] = html_text\n",
    "    \n",
    "    email_sender = ES(**message_params)\n",
    "    email_sender.execute()\n",
    "    print(\"Success\")\n",
    "except Exception as e:\n",
    "    error_email = {}\n",
    "    error_email['Subject'] = f\"Error in Meh Summary from {yesterday_str} and {two_weeks_ago_str}\"\n",
    "    error_email['Body'] = \"Error in Meh: Error message <br><br>\" + str(e)\n",
    "    \n",
    "    email_sender = ES(**error_email)\n",
    "    email_sender.execute()\n",
    "    print(\"Failed\")"
   ]
  },
  {
   "cell_type": "code",
   "execution_count": null,
   "metadata": {},
   "outputs": [],
   "source": []
  },
  {
   "cell_type": "code",
   "execution_count": null,
   "metadata": {},
   "outputs": [],
   "source": []
  },
  {
   "cell_type": "raw",
   "metadata": {},
   "source": [
    "import smtplib\n",
    "import ssl\n",
    "from email.mime.text import MIMEText\n",
    "from email.mime.multipart import MIMEMultipart\n",
    "import base64\n",
    "import papermill as pm\n",
    "import os \n",
    "import sys\n",
    "import re \n",
    "import datetime\n",
    "import pickle\n",
    "import nbconvert\n",
    "\n",
    "import nbformat\n",
    "from traitlets.config import Config\n",
    "from nbconvert import HTMLExporter\n",
    "from nbconvert.writers import FilesWriter"
   ]
  },
  {
   "cell_type": "raw",
   "metadata": {},
   "source": [
    "gmail_login = \"malctaylordev@gmail.com\"\n",
    "sender_email = \"malctaylordev@gmail.com\"\n",
    "reciever_email = \"malctaylor15@gmail.com\"\n",
    "# reciever_email = gmail_login"
   ]
  },
  {
   "cell_type": "raw",
   "metadata": {},
   "source": [
    "message = MIMEMultipart('related')\n",
    "message[\"From\"] = sender_email\n",
    "message[\"To\"] = reciever_email\n",
    "port = 465\n",
    "context = ssl.create_default_context()"
   ]
  },
  {
   "cell_type": "raw",
   "metadata": {},
   "source": [
    "with open('/home/malcolm/credentials/email_pw.pkl', 'rb') as hnd:\n",
    "    pw = pickle.load(hnd)['pw']"
   ]
  },
  {
   "cell_type": "raw",
   "metadata": {},
   "source": [
    "message['subject'] = f'Weekly Meh Summary from {yesterday_str} and {two_weeks_ago_str}'\n",
    "\n",
    "# Encapsulate the plain and HTML versions of the message body in an\n",
    "# 'alternative' part, so message agents can decide which they want to display.\n",
    "msgAlternative = MIMEMultipart('alternative')\n",
    "message.attach(msgAlternative)\n",
    "\n",
    "msgText = MIMEText(html_text, 'html')\n",
    "msgAlternative.attach(msgText)"
   ]
  },
  {
   "cell_type": "raw",
   "metadata": {},
   "source": [
    "with smtplib.SMTP_SSL(\"smtp.gmail.com\", port, context=context) as server:\n",
    "    server.login(gmail_login, pw)\n",
    "    server.sendmail(gmail_login, reciever_email, message.as_string())"
   ]
  },
  {
   "cell_type": "raw",
   "metadata": {},
   "source": []
  }
 ],
 "metadata": {
  "kernelspec": {
   "display_name": "Python 3",
   "language": "python",
   "name": "python3"
  },
  "language_info": {
   "codemirror_mode": {
    "name": "ipython",
    "version": 3
   },
   "file_extension": ".py",
   "mimetype": "text/x-python",
   "name": "python",
   "nbconvert_exporter": "python",
   "pygments_lexer": "ipython3",
   "version": "3.6.9"
  },
  "toc": {
   "base_numbering": 1,
   "nav_menu": {},
   "number_sections": true,
   "sideBar": true,
   "skip_h1_title": false,
   "title_cell": "Table of Contents",
   "title_sidebar": "Contents",
   "toc_cell": false,
   "toc_position": {
    "height": "calc(100% - 180px)",
    "left": "10px",
    "top": "150px",
    "width": "337.4px"
   },
   "toc_section_display": true,
   "toc_window_display": true
  }
 },
 "nbformat": 4,
 "nbformat_minor": 4
}
