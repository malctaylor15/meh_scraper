{
 "cells": [
  {
   "cell_type": "code",
   "execution_count": 1,
   "metadata": {},
   "outputs": [],
   "source": [
    "import smtplib\n",
    "import ssl\n",
    "from email.mime.text import MIMEText\n",
    "from email.mime.multipart import MIMEMultipart\n",
    "import base64\n",
    "import papermill as pm\n",
    "import os \n",
    "import sys\n",
    "import re \n",
    "import datetime\n",
    "import pickle\n",
    "import nbconvert\n",
    "import nbformat\n",
    "from traitlets.config import Config\n",
    "from nbconvert import HTMLExporter\n",
    "from nbconvert.writers import FilesWriter\n",
    "%load_ext autoreload\n",
    "%autoreload 2 "
   ]
  },
  {
   "cell_type": "markdown",
   "metadata": {},
   "source": [
    "## Run Notebooks"
   ]
  },
  {
   "cell_type": "code",
   "execution_count": 2,
   "metadata": {},
   "outputs": [],
   "source": [
    "today_str = str(datetime.datetime.now().date())"
   ]
  },
  {
   "cell_type": "code",
   "execution_count": 3,
   "metadata": {},
   "outputs": [
    {
     "name": "stdout",
     "output_type": "stream",
     "text": [
      "Changed dir\n",
      "/home/malcolm/meh_scraper\n"
     ]
    }
   ],
   "source": [
    "current_path_split = os.getcwd().split('/')\n",
    "if current_path_split[-1] == 'notebooks':\n",
    "    os.chdir('..')\n",
    "    print('Changed dir')\n",
    "    print(os.getcwd())\n",
    "elif current_path_split[-1] == 'run_notebooks':\n",
    "    os.chdir('../..')\n",
    "    print('Changed dir')\n",
    "    print(os.getcwd())\n"
   ]
  },
  {
   "cell_type": "code",
   "execution_count": 4,
   "metadata": {},
   "outputs": [],
   "source": [
    "db_location = 'data/meh_scraper.db'"
   ]
  },
  {
   "cell_type": "code",
   "execution_count": 5,
   "metadata": {},
   "outputs": [
    {
     "name": "stdout",
     "output_type": "stream",
     "text": [
      "/home/malcolm/meh_scraper\r\n"
     ]
    }
   ],
   "source": [
    "!pwd"
   ]
  },
  {
   "cell_type": "code",
   "execution_count": 6,
   "metadata": {},
   "outputs": [],
   "source": [
    "tm_notebook = \"notebooks/Meh_Analysis_v1.ipynb\"\n",
    "tm_new_notebook = f\"notebooks/run_notebooks/Meh_Analysis_v1_{today_str}.ipynb\""
   ]
  },
  {
   "cell_type": "code",
   "execution_count": 7,
   "metadata": {
    "scrolled": true
   },
   "outputs": [
    {
     "data": {
      "application/vnd.jupyter.widget-view+json": {
       "model_id": "d36add0355a2471d9a942679d9ba3c8e",
       "version_major": 2,
       "version_minor": 0
      },
      "text/plain": [
       "HBox(children=(HTML(value='Executing'), FloatProgress(value=0.0, max=60.0), HTML(value='')))"
      ]
     },
     "metadata": {},
     "output_type": "display_data"
    },
    {
     "name": "stdout",
     "output_type": "stream",
     "text": [
      "\n"
     ]
    }
   ],
   "source": [
    "try:\n",
    "    pm.execute_notebook(tm_notebook\n",
    "              , tm_new_notebook\n",
    "              , {\"db_location\": db_location})\n",
    "    tm_error = None\n",
    "except Exception as e:\n",
    "    tm_error = str(e)\n",
    "    print(\"Error\")\n",
    "    print(tm_error)"
   ]
  },
  {
   "cell_type": "markdown",
   "metadata": {},
   "source": [
    "## Email"
   ]
  },
  {
   "cell_type": "code",
   "execution_count": 8,
   "metadata": {},
   "outputs": [],
   "source": [
    "class EmailSender():\n",
    "    \n",
    "    def __init__(self, **kwargs):\n",
    "        self.__dict__.update(kwargs)\n",
    "        \n",
    "        \n",
    "    @staticmethod\n",
    "    def create_notebook_html(new_notebook_name):\n",
    "\n",
    "        with open(new_notebook_name, 'r') as hnd:\n",
    "            notebook_txt = hnd.read()\n",
    "        nb_notebook = nbformat.reads(notebook_txt, as_version=4)\n",
    "#         HTMLExporter.template_file = 'basic'\n",
    "        html_exporter = HTMLExporter()\n",
    "        html_exporter.template_file = 'basic'\n",
    "        (body, resources) = html_exporter.from_notebook_node(nb_notebook)\n",
    "\n",
    "        writer1 = FilesWriter()\n",
    "        html_name = re.sub('.ipynb', '', new_notebook_name)\n",
    "        writer1.write(output = body, resources = resources, notebook_name=html_name)\n",
    "        html_name = html_name + '.html'\n",
    "\n",
    "        return(html_name)\n",
    "\n",
    "    @staticmethod\n",
    "    def create_html_attachment(html_name):\n",
    "\n",
    "        with open(html_name, 'r') as hnd:\n",
    "            html = hnd.read()\n",
    "        part1 = MIMEText(html, 'html')\n",
    "        part1.add_header(\"Content-Disposition\", f\"attachment; filename= {html_name}\")\n",
    "\n",
    "        return(part1)\n",
    "    \n",
    "    def setup_email_params(self):\n",
    "        \"\"\"\n",
    "        Set up message and server for sending email \n",
    "        \"\"\"\n",
    "        # Set up Email Structure \n",
    "        self.message = MIMEMultipart()\n",
    "        self.message[\"Subject\"] = self.Subject\n",
    "        self.message[\"From\"] = self.sender_email\n",
    "        self.message[\"To\"] = self.reciever_email\n",
    "        # Email Body \n",
    "        text = MIMEText(self.Body, \"plain\")\n",
    "        self.message.attach(text)\n",
    "        # Run Notebook html \n",
    "        if 'run_notebook_path' in self.__dict__.keys():\n",
    "            self.message.attach(self.html_attachment)\n",
    "        # Set up Server \n",
    "        port = 465\n",
    "        context = ssl.create_default_context()\n",
    "        self.server = smtplib.SMTP_SSL(\"smtp.gmail.com\", port, context=context)\n",
    "        \n",
    "        \n",
    "    def send_email(self):\n",
    "        \n",
    "        self.server.login(self.gmail_login, self.pw)\n",
    "        self.server.sendmail(self.gmail_login, self.reciever_email, self.message.as_string())\n",
    "        \n",
    "    def execute(self):\n",
    "        \n",
    "        if 'run_notebook_path' in self.__dict__.keys():\n",
    "            html_path = self.create_notebook_html(self.run_notebook_path)\n",
    "            self.html_attachment = self.create_html_attachment(html_path)\n",
    "        \n",
    "        self.setup_email_params()\n",
    "        self.send_email()"
   ]
  },
  {
   "cell_type": "code",
   "execution_count": 9,
   "metadata": {},
   "outputs": [],
   "source": [
    " \n",
    "message_params = {}\n",
    "message_params['gmail_login'] = \"malctaylordev@gmail.com\"\n",
    "message_params['sender_email'] = \"malctaylordev@gmail.com\"\n",
    "message_params['reciever_email'] = \"malctaylor15@gmail.com\"\n",
    "with open('/home/malcolm/credentials/email_pw.pkl', 'rb') as hnd:\n",
    "    message_params['pw'] = pickle.load(hnd)['pw']\n",
    "message_params['Subject'] = \"Error in Meh Analysis: \"+today_str\n",
    "message_params['Body'] = \"\"\" \n",
    "        There was an error in Meh Analysis Notebook. \n",
    "\n",
    "        Stack Trace: \n",
    "\"\"\" + str(tm_error)\n",
    "message_params['run_notebook_path'] = tm_new_notebook"
   ]
  },
  {
   "cell_type": "code",
   "execution_count": 10,
   "metadata": {},
   "outputs": [],
   "source": [
    "email_sender = EmailSender(**message_params)\n",
    "email_sender.execute()\n"
   ]
  },
  {
   "cell_type": "code",
   "execution_count": null,
   "metadata": {},
   "outputs": [],
   "source": []
  }
 ],
 "metadata": {
  "kernelspec": {
   "display_name": "Python 3",
   "language": "python",
   "name": "python3"
  },
  "language_info": {
   "codemirror_mode": {
    "name": "ipython",
    "version": 3
   },
   "file_extension": ".py",
   "mimetype": "text/x-python",
   "name": "python",
   "nbconvert_exporter": "python",
   "pygments_lexer": "ipython3",
   "version": "3.6.9"
  },
  "toc": {
   "base_numbering": 1,
   "nav_menu": {},
   "number_sections": true,
   "sideBar": true,
   "skip_h1_title": false,
   "title_cell": "Table of Contents",
   "title_sidebar": "Contents",
   "toc_cell": false,
   "toc_position": {},
   "toc_section_display": true,
   "toc_window_display": false
  }
 },
 "nbformat": 4,
 "nbformat_minor": 4
}
